{
 "cells": [
  {
   "cell_type": "code",
   "execution_count": 1,
   "metadata": {},
   "outputs": [],
   "source": [
    "import pandas as pd\n",
    "import seaborn as sns\n",
    "import matplotlib.pyplot as plt\n",
    "import numpy as np"
   ]
  },
  {
   "cell_type": "code",
   "execution_count": 2,
   "metadata": {},
   "outputs": [],
   "source": [
    "df = pd.read_csv('./Smartphone_2024.csv', index_col='Id')"
   ]
  },
  {
   "cell_type": "code",
   "execution_count": 3,
   "metadata": {},
   "outputs": [
    {
     "data": {
      "text/html": [
       "<div>\n",
       "<style scoped>\n",
       "    .dataframe tbody tr th:only-of-type {\n",
       "        vertical-align: middle;\n",
       "    }\n",
       "\n",
       "    .dataframe tbody tr th {\n",
       "        vertical-align: top;\n",
       "    }\n",
       "\n",
       "    .dataframe thead th {\n",
       "        text-align: right;\n",
       "    }\n",
       "</style>\n",
       "<table border=\"1\" class=\"dataframe\">\n",
       "  <thead>\n",
       "    <tr style=\"text-align: right;\">\n",
       "      <th></th>\n",
       "      <th>Model</th>\n",
       "      <th>Price</th>\n",
       "      <th>Rating</th>\n",
       "      <th>Specification</th>\n",
       "      <th>Processor</th>\n",
       "      <th>RAM</th>\n",
       "      <th>Battery</th>\n",
       "      <th>Display</th>\n",
       "      <th>Camera</th>\n",
       "      <th>Memory</th>\n",
       "      <th>OperatingSystem</th>\n",
       "    </tr>\n",
       "    <tr>\n",
       "      <th>Id</th>\n",
       "      <th></th>\n",
       "      <th></th>\n",
       "      <th></th>\n",
       "      <th></th>\n",
       "      <th></th>\n",
       "      <th></th>\n",
       "      <th></th>\n",
       "      <th></th>\n",
       "      <th></th>\n",
       "      <th></th>\n",
       "      <th></th>\n",
       "    </tr>\n",
       "  </thead>\n",
       "  <tbody>\n",
       "    <tr>\n",
       "      <th>589</th>\n",
       "      <td>Xiaomi Mi 11X Pro</td>\n",
       "      <td>₹26,990</td>\n",
       "      <td>NaN</td>\n",
       "      <td>Dual Sim, 3G, 4G, 5G, VoLTE, Wi-Fi, IR Blaster</td>\n",
       "      <td>Snapdragon 888, Octa Core, 2.84 GHz Processor</td>\n",
       "      <td>8 GB RAM, 128 GB inbuilt</td>\n",
       "      <td>4520 mAh Battery with 33W Fast Charging</td>\n",
       "      <td>6.67 inches, 1080 x 2400 px, 120 Hz Display wi...</td>\n",
       "      <td>108 MP + 8 MP + 5 MP Triple Rear &amp; 20 MP Front...</td>\n",
       "      <td>Android v11</td>\n",
       "      <td>No FM Radio</td>\n",
       "    </tr>\n",
       "    <tr>\n",
       "      <th>379</th>\n",
       "      <td>Tecno Spark 9 (4GB RAM + 64GB)</td>\n",
       "      <td>₹5,999</td>\n",
       "      <td>65.0</td>\n",
       "      <td>Dual Sim, 3G, 4G, VoLTE, Wi-Fi</td>\n",
       "      <td>Helio G37, Octa Core, 2.3 GHz Processor</td>\n",
       "      <td>4 GB RAM, 64 GB inbuilt</td>\n",
       "      <td>5000 mAh Battery</td>\n",
       "      <td>6.6 inches, 720 x 1600 px, 90 Hz Display with ...</td>\n",
       "      <td>13 MP Dual Rear &amp; 8 MP Front Camera</td>\n",
       "      <td>Memory Card Supported, upto 256 GB</td>\n",
       "      <td>Android v12</td>\n",
       "    </tr>\n",
       "    <tr>\n",
       "      <th>398</th>\n",
       "      <td>Infinix Hot 30i</td>\n",
       "      <td>₹8,499</td>\n",
       "      <td>76.0</td>\n",
       "      <td>Dual Sim, 3G, 4G, VoLTE, Wi-Fi</td>\n",
       "      <td>Helio G37, Octa Core, 2.3 GHz Processor</td>\n",
       "      <td>8 GB RAM, 128 GB inbuilt</td>\n",
       "      <td>5000 mAh Battery with 10W Fast Charging</td>\n",
       "      <td>6.6 inches, 720 x 1612 px, 90 Hz Display with ...</td>\n",
       "      <td>50 MP Dual Rear &amp; 8 MP Front Camera</td>\n",
       "      <td>Memory Card Supported, upto 1 TB</td>\n",
       "      <td>Android v12</td>\n",
       "    </tr>\n",
       "    <tr>\n",
       "      <th>455</th>\n",
       "      <td>Nokia 130 Music 2023</td>\n",
       "      <td>₹1,799</td>\n",
       "      <td>NaN</td>\n",
       "      <td>Dual Sim</td>\n",
       "      <td>No Wifi</td>\n",
       "      <td>4 MB RAM, 4 MB inbuilt</td>\n",
       "      <td>1450 mAh Battery</td>\n",
       "      <td>2.4 inches, 240 x 320 px Display</td>\n",
       "      <td>No Rear Camera</td>\n",
       "      <td>Memory Card Supported, upto 32 GB</td>\n",
       "      <td>v30</td>\n",
       "    </tr>\n",
       "    <tr>\n",
       "      <th>390</th>\n",
       "      <td>Infinix Smart 8 HD</td>\n",
       "      <td>₹6,298</td>\n",
       "      <td>64.0</td>\n",
       "      <td>Dual Sim, 3G, 4G, VoLTE, Wi-Fi</td>\n",
       "      <td>Unisoc T606, Octa Core, 1.6 GHz Processor</td>\n",
       "      <td>3 GB RAM, 64 GB inbuilt</td>\n",
       "      <td>5000 mAh Battery with 10W Fast Charging</td>\n",
       "      <td>6.6 inches, 720 x 1612 px, 90 Hz Display with ...</td>\n",
       "      <td>13 MP + 0.08 MP Dual Rear &amp; 8 MP Front Camera</td>\n",
       "      <td>Memory Card Supported, upto 2 TB</td>\n",
       "      <td>Android v13</td>\n",
       "    </tr>\n",
       "  </tbody>\n",
       "</table>\n",
       "</div>"
      ],
      "text/plain": [
       "                              Model    Price  Rating  \\\n",
       "Id                                                     \n",
       "589               Xiaomi Mi 11X Pro  ₹26,990     NaN   \n",
       "379  Tecno Spark 9 (4GB RAM + 64GB)   ₹5,999    65.0   \n",
       "398                 Infinix Hot 30i   ₹8,499    76.0   \n",
       "455            Nokia 130 Music 2023   ₹1,799     NaN   \n",
       "390              Infinix Smart 8 HD   ₹6,298    64.0   \n",
       "\n",
       "                                      Specification  \\\n",
       "Id                                                    \n",
       "589  Dual Sim, 3G, 4G, 5G, VoLTE, Wi-Fi, IR Blaster   \n",
       "379                  Dual Sim, 3G, 4G, VoLTE, Wi-Fi   \n",
       "398                  Dual Sim, 3G, 4G, VoLTE, Wi-Fi   \n",
       "455                                        Dual Sim   \n",
       "390                  Dual Sim, 3G, 4G, VoLTE, Wi-Fi   \n",
       "\n",
       "                                         Processor                       RAM  \\\n",
       "Id                                                                             \n",
       "589  Snapdragon 888, Octa Core, 2.84 GHz Processor  8 GB RAM, 128 GB inbuilt   \n",
       "379        Helio G37, Octa Core, 2.3 GHz Processor   4 GB RAM, 64 GB inbuilt   \n",
       "398        Helio G37, Octa Core, 2.3 GHz Processor  8 GB RAM, 128 GB inbuilt   \n",
       "455                                        No Wifi    4 MB RAM, 4 MB inbuilt   \n",
       "390      Unisoc T606, Octa Core, 1.6 GHz Processor   3 GB RAM, 64 GB inbuilt   \n",
       "\n",
       "                                     Battery  \\\n",
       "Id                                             \n",
       "589  4520 mAh Battery with 33W Fast Charging   \n",
       "379                         5000 mAh Battery   \n",
       "398  5000 mAh Battery with 10W Fast Charging   \n",
       "455                         1450 mAh Battery   \n",
       "390  5000 mAh Battery with 10W Fast Charging   \n",
       "\n",
       "                                               Display  \\\n",
       "Id                                                       \n",
       "589  6.67 inches, 1080 x 2400 px, 120 Hz Display wi...   \n",
       "379  6.6 inches, 720 x 1600 px, 90 Hz Display with ...   \n",
       "398  6.6 inches, 720 x 1612 px, 90 Hz Display with ...   \n",
       "455                   2.4 inches, 240 x 320 px Display   \n",
       "390  6.6 inches, 720 x 1612 px, 90 Hz Display with ...   \n",
       "\n",
       "                                                Camera  \\\n",
       "Id                                                       \n",
       "589  108 MP + 8 MP + 5 MP Triple Rear & 20 MP Front...   \n",
       "379                13 MP Dual Rear & 8 MP Front Camera   \n",
       "398                50 MP Dual Rear & 8 MP Front Camera   \n",
       "455                                     No Rear Camera   \n",
       "390      13 MP + 0.08 MP Dual Rear & 8 MP Front Camera   \n",
       "\n",
       "                                 Memory OperatingSystem  \n",
       "Id                                                       \n",
       "589                         Android v11     No FM Radio  \n",
       "379  Memory Card Supported, upto 256 GB     Android v12  \n",
       "398    Memory Card Supported, upto 1 TB     Android v12  \n",
       "455   Memory Card Supported, upto 32 GB             v30  \n",
       "390    Memory Card Supported, upto 2 TB     Android v13  "
      ]
     },
     "execution_count": 3,
     "metadata": {},
     "output_type": "execute_result"
    }
   ],
   "source": [
    "df.sample(5)"
   ]
  },
  {
   "cell_type": "code",
   "execution_count": 4,
   "metadata": {},
   "outputs": [
    {
     "name": "stdout",
     "output_type": "stream",
     "text": [
      "<class 'pandas.core.frame.DataFrame'>\n",
      "Index: 1020 entries, 0 to 1019\n",
      "Data columns (total 11 columns):\n",
      " #   Column           Non-Null Count  Dtype  \n",
      "---  ------           --------------  -----  \n",
      " 0   Model            1020 non-null   object \n",
      " 1   Price            1020 non-null   object \n",
      " 2   Rating           443 non-null    float64\n",
      " 3   Specification    1020 non-null   object \n",
      " 4   Processor        1020 non-null   object \n",
      " 5   RAM              1020 non-null   object \n",
      " 6   Battery          1020 non-null   object \n",
      " 7   Display          1020 non-null   object \n",
      " 8   Camera           1020 non-null   object \n",
      " 9   Memory           1003 non-null   object \n",
      " 10  OperatingSystem  976 non-null    object \n",
      "dtypes: float64(1), object(10)\n",
      "memory usage: 95.6+ KB\n"
     ]
    }
   ],
   "source": [
    "df.info()"
   ]
  },
  {
   "cell_type": "code",
   "execution_count": 5,
   "metadata": {},
   "outputs": [
    {
     "data": {
      "text/html": [
       "<div>\n",
       "<style scoped>\n",
       "    .dataframe tbody tr th:only-of-type {\n",
       "        vertical-align: middle;\n",
       "    }\n",
       "\n",
       "    .dataframe tbody tr th {\n",
       "        vertical-align: top;\n",
       "    }\n",
       "\n",
       "    .dataframe thead th {\n",
       "        text-align: right;\n",
       "    }\n",
       "</style>\n",
       "<table border=\"1\" class=\"dataframe\">\n",
       "  <thead>\n",
       "    <tr style=\"text-align: right;\">\n",
       "      <th></th>\n",
       "      <th>Model</th>\n",
       "      <th>Price</th>\n",
       "      <th>Specification</th>\n",
       "      <th>Processor</th>\n",
       "      <th>RAM</th>\n",
       "      <th>Battery</th>\n",
       "      <th>Display</th>\n",
       "      <th>Camera</th>\n",
       "      <th>Memory</th>\n",
       "      <th>OperatingSystem</th>\n",
       "    </tr>\n",
       "    <tr>\n",
       "      <th>Id</th>\n",
       "      <th></th>\n",
       "      <th></th>\n",
       "      <th></th>\n",
       "      <th></th>\n",
       "      <th></th>\n",
       "      <th></th>\n",
       "      <th></th>\n",
       "      <th></th>\n",
       "      <th></th>\n",
       "      <th></th>\n",
       "    </tr>\n",
       "  </thead>\n",
       "  <tbody>\n",
       "    <tr>\n",
       "      <th>379</th>\n",
       "      <td>Tecno Spark 9 (4GB RAM + 64GB)</td>\n",
       "      <td>₹5,999</td>\n",
       "      <td>Dual Sim, 3G, 4G, VoLTE, Wi-Fi</td>\n",
       "      <td>Helio G37, Octa Core, 2.3 GHz Processor</td>\n",
       "      <td>4 GB RAM, 64 GB inbuilt</td>\n",
       "      <td>5000 mAh Battery</td>\n",
       "      <td>6.6 inches, 720 x 1600 px, 90 Hz Display with ...</td>\n",
       "      <td>13 MP Dual Rear &amp; 8 MP Front Camera</td>\n",
       "      <td>Memory Card Supported, upto 256 GB</td>\n",
       "      <td>Android v12</td>\n",
       "    </tr>\n",
       "  </tbody>\n",
       "</table>\n",
       "</div>"
      ],
      "text/plain": [
       "                              Model   Price                   Specification  \\\n",
       "Id                                                                            \n",
       "379  Tecno Spark 9 (4GB RAM + 64GB)  ₹5,999  Dual Sim, 3G, 4G, VoLTE, Wi-Fi   \n",
       "\n",
       "                                   Processor                      RAM  \\\n",
       "Id                                                                      \n",
       "379  Helio G37, Octa Core, 2.3 GHz Processor  4 GB RAM, 64 GB inbuilt   \n",
       "\n",
       "              Battery                                            Display  \\\n",
       "Id                                                                         \n",
       "379  5000 mAh Battery  6.6 inches, 720 x 1600 px, 90 Hz Display with ...   \n",
       "\n",
       "                                  Camera                              Memory  \\\n",
       "Id                                                                             \n",
       "379  13 MP Dual Rear & 8 MP Front Camera  Memory Card Supported, upto 256 GB   \n",
       "\n",
       "    OperatingSystem  \n",
       "Id                   \n",
       "379     Android v12  "
      ]
     },
     "execution_count": 5,
     "metadata": {},
     "output_type": "execute_result"
    }
   ],
   "source": [
    "df.drop(columns=['Rating'], inplace=True)\n",
    "df.sample()"
   ]
  },
  {
   "cell_type": "code",
   "execution_count": 6,
   "metadata": {},
   "outputs": [
    {
     "data": {
      "text/html": [
       "<div>\n",
       "<style scoped>\n",
       "    .dataframe tbody tr th:only-of-type {\n",
       "        vertical-align: middle;\n",
       "    }\n",
       "\n",
       "    .dataframe tbody tr th {\n",
       "        vertical-align: top;\n",
       "    }\n",
       "\n",
       "    .dataframe thead th {\n",
       "        text-align: right;\n",
       "    }\n",
       "</style>\n",
       "<table border=\"1\" class=\"dataframe\">\n",
       "  <thead>\n",
       "    <tr style=\"text-align: right;\">\n",
       "      <th></th>\n",
       "      <th>Model</th>\n",
       "      <th>Price</th>\n",
       "      <th>Specification</th>\n",
       "      <th>Processor</th>\n",
       "      <th>RAM</th>\n",
       "      <th>Battery</th>\n",
       "      <th>Display</th>\n",
       "      <th>Camera</th>\n",
       "      <th>Memory</th>\n",
       "      <th>OperatingSystem</th>\n",
       "    </tr>\n",
       "    <tr>\n",
       "      <th>Id</th>\n",
       "      <th></th>\n",
       "      <th></th>\n",
       "      <th></th>\n",
       "      <th></th>\n",
       "      <th></th>\n",
       "      <th></th>\n",
       "      <th></th>\n",
       "      <th></th>\n",
       "      <th></th>\n",
       "      <th></th>\n",
       "    </tr>\n",
       "  </thead>\n",
       "  <tbody>\n",
       "    <tr>\n",
       "      <th>201</th>\n",
       "      <td>itel S23 Plus</td>\n",
       "      <td>₹13,999</td>\n",
       "      <td>Dual Sim, 3G, 4G, VoLTE, Wi-Fi</td>\n",
       "      <td>Tiger T616, Octa Core, 2 GHz Processor</td>\n",
       "      <td>8 GB RAM, 256 GB inbuilt</td>\n",
       "      <td>5000 mAh Battery with 18W Fast Charging</td>\n",
       "      <td>6.78 inches, 1080 x 2400 px Display with Punch...</td>\n",
       "      <td>50 MP + 0.08 MP Dual Rear &amp; 32 MP Front Camera</td>\n",
       "      <td>Android v13</td>\n",
       "      <td>Bluetooth</td>\n",
       "    </tr>\n",
       "  </tbody>\n",
       "</table>\n",
       "</div>"
      ],
      "text/plain": [
       "             Model    Price                   Specification  \\\n",
       "Id                                                            \n",
       "201  itel S23 Plus  ₹13,999  Dual Sim, 3G, 4G, VoLTE, Wi-Fi   \n",
       "\n",
       "                                  Processor                       RAM  \\\n",
       "Id                                                                      \n",
       "201  Tiger T616, Octa Core, 2 GHz Processor  8 GB RAM, 256 GB inbuilt   \n",
       "\n",
       "                                     Battery  \\\n",
       "Id                                             \n",
       "201  5000 mAh Battery with 18W Fast Charging   \n",
       "\n",
       "                                               Display  \\\n",
       "Id                                                       \n",
       "201  6.78 inches, 1080 x 2400 px Display with Punch...   \n",
       "\n",
       "                                             Camera       Memory  \\\n",
       "Id                                                                 \n",
       "201  50 MP + 0.08 MP Dual Rear & 32 MP Front Camera  Android v13   \n",
       "\n",
       "    OperatingSystem  \n",
       "Id                   \n",
       "201       Bluetooth  "
      ]
     },
     "execution_count": 6,
     "metadata": {},
     "output_type": "execute_result"
    }
   ],
   "source": [
    "df.sample()"
   ]
  },
  {
   "cell_type": "code",
   "execution_count": 7,
   "metadata": {},
   "outputs": [],
   "source": [
    "def reorder(X):\n",
    "    columns = ['Processor', 'RAM', 'Battery', 'Display', 'Camera', 'Memory', 'OperatingSystem']\n",
    "    X2 = X.copy()\n",
    "    X2['Processor'] = np.nan\n",
    "    for col in columns:\n",
    "        if 'Processor' in str(X[col]) or 'GHz' in str(X[col]) or 'MHz' in str(X[col]):\n",
    "            X2['Processor'] = X[col]\n",
    "            break\n",
    "\n",
    "    X2['RAM'] = np.nan\n",
    "    for col in columns:\n",
    "        if 'RAM' in str(X[col]):\n",
    "            X2['RAM'] = X[col]\n",
    "            break\n",
    "\n",
    "    X2['Battery'] = np.nan\n",
    "    for col in columns:\n",
    "        if 'mAh' in str(X[col]):\n",
    "            X2['Battery'] = X[col]\n",
    "            break\n",
    "\n",
    "    X2['Display'] = np.nan\n",
    "    for col in columns:\n",
    "        if 'Display' in str(X[col]) or 'inches' in str(X[col]):\n",
    "            X2['Display'] = X[col]\n",
    "            break\n",
    "    \n",
    "    X2['Camera'] = np.nan\n",
    "    for col in columns:\n",
    "        if 'Camera' in str(X[col]):\n",
    "            X2['Camera'] = X[col]\n",
    "            break\n",
    "\n",
    "    X2['Memory'] = np.nan\n",
    "    for col in columns:\n",
    "        if 'Memory Card' in str(X[col]):\n",
    "            X2['Memory'] = X[col]\n",
    "            break\n",
    "    \n",
    "    X2['OperatingSystem'] = np.nan\n",
    "    for col in columns:\n",
    "        if 'Android' in str(X[col]):\n",
    "            X2['OperatingSystem'] = X[col]\n",
    "            break\n",
    "        if 'iOS' in str(X[col]):\n",
    "            X2['OperatingSystem'] = X[col]\n",
    "            break\n",
    "         \n",
    "    \n",
    "    return X2"
   ]
  },
  {
   "cell_type": "code",
   "execution_count": 8,
   "metadata": {},
   "outputs": [
    {
     "data": {
      "text/plain": [
       "2794"
      ]
     },
     "execution_count": 8,
     "metadata": {},
     "output_type": "execute_result"
    }
   ],
   "source": [
    "df.nunique().sum()"
   ]
  },
  {
   "cell_type": "code",
   "execution_count": 9,
   "metadata": {},
   "outputs": [],
   "source": [
    "df = df.apply(reorder, axis=1)"
   ]
  },
  {
   "cell_type": "code",
   "execution_count": 10,
   "metadata": {},
   "outputs": [
    {
     "data": {
      "text/plain": [
       "2667"
      ]
     },
     "execution_count": 10,
     "metadata": {},
     "output_type": "execute_result"
    }
   ],
   "source": [
    "df.nunique().sum()"
   ]
  },
  {
   "cell_type": "code",
   "execution_count": 11,
   "metadata": {},
   "outputs": [
    {
     "data": {
      "text/html": [
       "<div>\n",
       "<style scoped>\n",
       "    .dataframe tbody tr th:only-of-type {\n",
       "        vertical-align: middle;\n",
       "    }\n",
       "\n",
       "    .dataframe tbody tr th {\n",
       "        vertical-align: top;\n",
       "    }\n",
       "\n",
       "    .dataframe thead th {\n",
       "        text-align: right;\n",
       "    }\n",
       "</style>\n",
       "<table border=\"1\" class=\"dataframe\">\n",
       "  <thead>\n",
       "    <tr style=\"text-align: right;\">\n",
       "      <th></th>\n",
       "      <th>Model</th>\n",
       "      <th>Price</th>\n",
       "      <th>Specification</th>\n",
       "      <th>Processor</th>\n",
       "      <th>RAM</th>\n",
       "      <th>Battery</th>\n",
       "      <th>Display</th>\n",
       "      <th>Camera</th>\n",
       "      <th>Memory</th>\n",
       "      <th>OperatingSystem</th>\n",
       "    </tr>\n",
       "    <tr>\n",
       "      <th>Id</th>\n",
       "      <th></th>\n",
       "      <th></th>\n",
       "      <th></th>\n",
       "      <th></th>\n",
       "      <th></th>\n",
       "      <th></th>\n",
       "      <th></th>\n",
       "      <th></th>\n",
       "      <th></th>\n",
       "      <th></th>\n",
       "    </tr>\n",
       "  </thead>\n",
       "  <tbody>\n",
       "    <tr>\n",
       "      <th>456</th>\n",
       "      <td>Jio Bharat K1 Karbonn</td>\n",
       "      <td>₹999</td>\n",
       "      <td>Single Sim, 3G, 4G, VoLTE</td>\n",
       "      <td>NaN</td>\n",
       "      <td>512 MB RAM, 4 GB inbuilt</td>\n",
       "      <td>1000 mAh Battery</td>\n",
       "      <td>1.77 inches, 240 x 320 px Display</td>\n",
       "      <td>0.3 MP Rear Camera</td>\n",
       "      <td>Memory Card Supported, upto 128 GB</td>\n",
       "      <td>NaN</td>\n",
       "    </tr>\n",
       "    <tr>\n",
       "      <th>481</th>\n",
       "      <td>Vivo X70 Pro Plus 5G</td>\n",
       "      <td>₹52,999</td>\n",
       "      <td>Dual Sim, 3G, 4G, 5G, VoLTE, Wi-Fi, NFC</td>\n",
       "      <td>Snapdragon  888+, Octa Core, 2.9 GHz Processor</td>\n",
       "      <td>12 GB RAM, 256 GB inbuilt</td>\n",
       "      <td>4500 mAh Battery with 55W Fast Charging</td>\n",
       "      <td>6.78 inches, 1440 x 3200 px, 120 Hz Display wi...</td>\n",
       "      <td>50 MP Quad Rear &amp; 32 MP Front Camera</td>\n",
       "      <td>NaN</td>\n",
       "      <td>Android v11</td>\n",
       "    </tr>\n",
       "    <tr>\n",
       "      <th>855</th>\n",
       "      <td>Realme Narzo 50 5G (4GB RAM + 128GB)</td>\n",
       "      <td>₹15,996</td>\n",
       "      <td>Dual Sim, 3G, 4G, 5G, VoLTE, Wi-Fi</td>\n",
       "      <td>Dimensity 810 5G, Octa Core, 2.4 GHz Processor</td>\n",
       "      <td>4 GB RAM, 128 GB inbuilt</td>\n",
       "      <td>5000 mAh Battery with 33W Fast Charging</td>\n",
       "      <td>6.6 inches, 1080 x 2400 px, 90 Hz Display with...</td>\n",
       "      <td>48 MP + 2 MP + 2 MP Triple Rear &amp; 16 MP Front ...</td>\n",
       "      <td>Memory Card Supported, upto 1 TB</td>\n",
       "      <td>Android v11</td>\n",
       "    </tr>\n",
       "  </tbody>\n",
       "</table>\n",
       "</div>"
      ],
      "text/plain": [
       "                                    Model    Price  \\\n",
       "Id                                                   \n",
       "456                 Jio Bharat K1 Karbonn     ₹999   \n",
       "481                  Vivo X70 Pro Plus 5G  ₹52,999   \n",
       "855  Realme Narzo 50 5G (4GB RAM + 128GB)  ₹15,996   \n",
       "\n",
       "                               Specification  \\\n",
       "Id                                             \n",
       "456                Single Sim, 3G, 4G, VoLTE   \n",
       "481  Dual Sim, 3G, 4G, 5G, VoLTE, Wi-Fi, NFC   \n",
       "855       Dual Sim, 3G, 4G, 5G, VoLTE, Wi-Fi   \n",
       "\n",
       "                                          Processor  \\\n",
       "Id                                                    \n",
       "456                                             NaN   \n",
       "481  Snapdragon  888+, Octa Core, 2.9 GHz Processor   \n",
       "855  Dimensity 810 5G, Octa Core, 2.4 GHz Processor   \n",
       "\n",
       "                           RAM                                  Battery  \\\n",
       "Id                                                                        \n",
       "456   512 MB RAM, 4 GB inbuilt                         1000 mAh Battery   \n",
       "481  12 GB RAM, 256 GB inbuilt  4500 mAh Battery with 55W Fast Charging   \n",
       "855   4 GB RAM, 128 GB inbuilt  5000 mAh Battery with 33W Fast Charging   \n",
       "\n",
       "                                               Display  \\\n",
       "Id                                                       \n",
       "456                  1.77 inches, 240 x 320 px Display   \n",
       "481  6.78 inches, 1440 x 3200 px, 120 Hz Display wi...   \n",
       "855  6.6 inches, 1080 x 2400 px, 90 Hz Display with...   \n",
       "\n",
       "                                                Camera  \\\n",
       "Id                                                       \n",
       "456                                 0.3 MP Rear Camera   \n",
       "481               50 MP Quad Rear & 32 MP Front Camera   \n",
       "855  48 MP + 2 MP + 2 MP Triple Rear & 16 MP Front ...   \n",
       "\n",
       "                                 Memory OperatingSystem  \n",
       "Id                                                       \n",
       "456  Memory Card Supported, upto 128 GB             NaN  \n",
       "481                                 NaN     Android v11  \n",
       "855    Memory Card Supported, upto 1 TB     Android v11  "
      ]
     },
     "execution_count": 11,
     "metadata": {},
     "output_type": "execute_result"
    }
   ],
   "source": [
    "df.sample(3)"
   ]
  },
  {
   "cell_type": "code",
   "execution_count": 12,
   "metadata": {},
   "outputs": [
    {
     "data": {
      "text/plain": [
       "Model                0\n",
       "Price                0\n",
       "Specification        0\n",
       "Processor           53\n",
       "RAM                 11\n",
       "Battery              9\n",
       "Display              0\n",
       "Camera               1\n",
       "Memory             181\n",
       "OperatingSystem    126\n",
       "dtype: int64"
      ]
     },
     "execution_count": 12,
     "metadata": {},
     "output_type": "execute_result"
    }
   ],
   "source": [
    "df.isna().sum()"
   ]
  },
  {
   "cell_type": "code",
   "execution_count": 13,
   "metadata": {},
   "outputs": [
    {
     "data": {
      "text/plain": [
       "Vendor\n",
       "SAMSUNG       145\n",
       "REALME        120\n",
       "XIAOMI        115\n",
       "VIVO           92\n",
       "OPPO           58\n",
       "MOTOROLA       57\n",
       "POCO           57\n",
       "APPLE          40\n",
       "TECNO          39\n",
       "ONEPLUS        37\n",
       "ITEL           34\n",
       "INFINIX        31\n",
       "NOKIA          31\n",
       "LAVA           25\n",
       "IQOO           22\n",
       "SNEXIAN        16\n",
       "MICROMAX       11\n",
       "IKALL          10\n",
       "GOOGLE          9\n",
       "JIO             8\n",
       "NOTHING         8\n",
       "RINGME          7\n",
       "MTR             5\n",
       "GFIVE           5\n",
       "BLACKZONE       4\n",
       "FONEME          4\n",
       "LVIX            4\n",
       "OUKITEL         3\n",
       "HONOR           3\n",
       "KARBONN         2\n",
       "DOOGEE          2\n",
       "LYF             2\n",
       "LENOVO          1\n",
       "GAMMA           1\n",
       "VOX             1\n",
       "CAUL            1\n",
       "KECHAODA        1\n",
       "HUAWEI          1\n",
       "BLACKBERRY      1\n",
       "DIZO            1\n",
       "JMAX            1\n",
       "WINGS           1\n",
       "BENCO           1\n",
       "ASUS            1\n",
       "CAT             1\n",
       "TRYTO           1\n",
       "Name: count, dtype: int64"
      ]
     },
     "execution_count": 13,
     "metadata": {},
     "output_type": "execute_result"
    }
   ],
   "source": [
    "df['Vendor'] = df.Model.apply(lambda x: x.split(' ')[0])\n",
    "df['Vendor'] = df['Vendor'].str.upper()\n",
    "df['Vendor'].value_counts()"
   ]
  },
  {
   "cell_type": "code",
   "execution_count": 14,
   "metadata": {},
   "outputs": [
    {
     "data": {
      "text/plain": [
       "Vendor\n",
       "Other       164\n",
       "SAMSUNG     145\n",
       "REALME      120\n",
       "XIAOMI      115\n",
       "VIVO         92\n",
       "OPPO         58\n",
       "MOTOROLA     57\n",
       "POCO         57\n",
       "APPLE        40\n",
       "TECNO        39\n",
       "ONEPLUS      37\n",
       "ITEL         34\n",
       "INFINIX      31\n",
       "NOKIA        31\n",
       "Name: count, dtype: int64"
      ]
     },
     "execution_count": 14,
     "metadata": {},
     "output_type": "execute_result"
    }
   ],
   "source": [
    "# Calculate the frequency of each unique value\n",
    "value_counts = df['Vendor'].value_counts()\n",
    "# Replace infrequent values with 'Other'\n",
    "df.loc[df['Vendor'].isin( value_counts[value_counts < 30].index), 'Vendor'] = 'Other'\n",
    "\n",
    "df['Vendor'].value_counts()"
   ]
  },
  {
   "cell_type": "markdown",
   "metadata": {},
   "source": [
    "## Create Features From Specification Column\n",
    "### Create Sim Feature"
   ]
  },
  {
   "cell_type": "code",
   "execution_count": 15,
   "metadata": {},
   "outputs": [
    {
     "data": {
      "text/plain": [
       "Sim\n",
       "2    993\n",
       "1     24\n",
       "3      2\n",
       "4      1\n",
       "Name: count, dtype: int64"
      ]
     },
     "execution_count": 15,
     "metadata": {},
     "output_type": "execute_result"
    }
   ],
   "source": [
    "df['Sim'] = df['Specification'].str.extract(r'(Single|Dual|Triple|Quad)\\s*Sim')\n",
    "df['Sim'] = df['Sim'].map({'Single': 1, 'Dual': 2, 'Triple': 3, 'Quad': 4})\n",
    "df['Sim'].value_counts()"
   ]
  },
  {
   "cell_type": "markdown",
   "metadata": {},
   "source": [
    "### Create 3G Feature"
   ]
  },
  {
   "cell_type": "code",
   "execution_count": 16,
   "metadata": {},
   "outputs": [
    {
     "data": {
      "text/plain": [
       "3G\n",
       "1    927\n",
       "0     93\n",
       "Name: count, dtype: int64"
      ]
     },
     "execution_count": 16,
     "metadata": {},
     "output_type": "execute_result"
    }
   ],
   "source": [
    "df['3G'] = df['Specification'].str.contains('3G').astype(int)\n",
    "df['3G'].value_counts()"
   ]
  },
  {
   "cell_type": "markdown",
   "metadata": {},
   "source": [
    "### Create 4G Feature"
   ]
  },
  {
   "cell_type": "code",
   "execution_count": 17,
   "metadata": {},
   "outputs": [
    {
     "data": {
      "text/plain": [
       "4G\n",
       "1    925\n",
       "0     95\n",
       "Name: count, dtype: int64"
      ]
     },
     "execution_count": 17,
     "metadata": {},
     "output_type": "execute_result"
    }
   ],
   "source": [
    "df['4G'] = df['Specification'].str.contains('4G').astype(int)\n",
    "df['4G'].value_counts()"
   ]
  },
  {
   "cell_type": "markdown",
   "metadata": {},
   "source": [
    "### Create 5G Feature"
   ]
  },
  {
   "cell_type": "code",
   "execution_count": 18,
   "metadata": {},
   "outputs": [
    {
     "data": {
      "text/plain": [
       "5G\n",
       "0    539\n",
       "1    481\n",
       "Name: count, dtype: int64"
      ]
     },
     "execution_count": 18,
     "metadata": {},
     "output_type": "execute_result"
    }
   ],
   "source": [
    "df['5G'] = df['Specification'].str.contains('5G').astype(int)\n",
    "df['5G'].value_counts()"
   ]
  },
  {
   "cell_type": "markdown",
   "metadata": {},
   "source": [
    "### Create VoLTE Feature"
   ]
  },
  {
   "cell_type": "code",
   "execution_count": 19,
   "metadata": {},
   "outputs": [
    {
     "data": {
      "text/plain": [
       "VoLTE\n",
       "1    913\n",
       "0    107\n",
       "Name: count, dtype: int64"
      ]
     },
     "execution_count": 19,
     "metadata": {},
     "output_type": "execute_result"
    }
   ],
   "source": [
    "df['VoLTE'] = df['Specification'].str.contains('VoLTE').astype(int)\n",
    "df['VoLTE'].value_counts()"
   ]
  },
  {
   "cell_type": "markdown",
   "metadata": {},
   "source": [
    "### Create NFC Feature"
   ]
  },
  {
   "cell_type": "code",
   "execution_count": 20,
   "metadata": {},
   "outputs": [
    {
     "data": {
      "text/plain": [
       "NFC\n",
       "0    748\n",
       "1    272\n",
       "Name: count, dtype: int64"
      ]
     },
     "execution_count": 20,
     "metadata": {},
     "output_type": "execute_result"
    }
   ],
   "source": [
    "df['NFC'] = df['Specification'].str.contains('NFC').astype(int)\n",
    "df['NFC'].value_counts()"
   ]
  },
  {
   "cell_type": "markdown",
   "metadata": {},
   "source": [
    "### Create Wi-Fi Feature"
   ]
  },
  {
   "cell_type": "code",
   "execution_count": 21,
   "metadata": {},
   "outputs": [
    {
     "data": {
      "text/plain": [
       "Wi-Fi\n",
       "1    912\n",
       "0    108\n",
       "Name: count, dtype: int64"
      ]
     },
     "execution_count": 21,
     "metadata": {},
     "output_type": "execute_result"
    }
   ],
   "source": [
    "df['Wi-Fi'] = df['Specification'].str.contains('Wi-Fi').astype(int)\n",
    "df['Wi-Fi'].value_counts()"
   ]
  },
  {
   "cell_type": "markdown",
   "metadata": {},
   "source": [
    "### Create IR Feature"
   ]
  },
  {
   "cell_type": "code",
   "execution_count": 22,
   "metadata": {},
   "outputs": [
    {
     "data": {
      "text/plain": [
       "IR\n",
       "0    868\n",
       "1    152\n",
       "Name: count, dtype: int64"
      ]
     },
     "execution_count": 22,
     "metadata": {},
     "output_type": "execute_result"
    }
   ],
   "source": [
    "df['IR'] = df['Specification'].str.contains('IR Blaster').astype(int)\n",
    "df['IR'].value_counts()"
   ]
  },
  {
   "cell_type": "markdown",
   "metadata": {},
   "source": [
    "### Vo5G Feature"
   ]
  },
  {
   "cell_type": "code",
   "execution_count": 23,
   "metadata": {},
   "outputs": [
    {
     "data": {
      "text/plain": [
       "Vo5G\n",
       "0    989\n",
       "1     31\n",
       "Name: count, dtype: int64"
      ]
     },
     "execution_count": 23,
     "metadata": {},
     "output_type": "execute_result"
    }
   ],
   "source": [
    "df['Vo5G'] = df['Specification'].str.contains('Vo5G').astype(int)\n",
    "df['Vo5G'].value_counts()"
   ]
  },
  {
   "cell_type": "markdown",
   "metadata": {},
   "source": [
    "## Handling Price Column"
   ]
  },
  {
   "cell_type": "code",
   "execution_count": 24,
   "metadata": {},
   "outputs": [
    {
     "data": {
      "text/plain": [
       "Id\n",
       "805    ₹36,800\n",
       "885     ₹9,998\n",
       "778    ₹10,999\n",
       "139    ₹14,999\n",
       "877     ₹7,989\n",
       "Name: Price, dtype: object"
      ]
     },
     "execution_count": 24,
     "metadata": {},
     "output_type": "execute_result"
    }
   ],
   "source": [
    "df.Price.sample(5)"
   ]
  },
  {
   "cell_type": "code",
   "execution_count": 25,
   "metadata": {},
   "outputs": [],
   "source": [
    "df.Price = df.Price.apply(lambda price:float(price.replace('₹', '').replace(',', '')))"
   ]
  },
  {
   "cell_type": "code",
   "execution_count": 26,
   "metadata": {},
   "outputs": [
    {
     "data": {
      "text/plain": [
       "Id\n",
       "63      63679.0\n",
       "681      7099.0\n",
       "475     13870.0\n",
       "410     23999.0\n",
       "338    154999.0\n",
       "Name: Price, dtype: float64"
      ]
     },
     "execution_count": 26,
     "metadata": {},
     "output_type": "execute_result"
    }
   ],
   "source": [
    "df.Price.sample(5)"
   ]
  },
  {
   "cell_type": "markdown",
   "metadata": {},
   "source": [
    "### Drop Columns"
   ]
  },
  {
   "cell_type": "code",
   "execution_count": 27,
   "metadata": {},
   "outputs": [],
   "source": [
    "df.drop(columns=['Specification', 'Model'], inplace=True)"
   ]
  },
  {
   "cell_type": "code",
   "execution_count": 28,
   "metadata": {},
   "outputs": [
    {
     "data": {
      "text/html": [
       "<div>\n",
       "<style scoped>\n",
       "    .dataframe tbody tr th:only-of-type {\n",
       "        vertical-align: middle;\n",
       "    }\n",
       "\n",
       "    .dataframe tbody tr th {\n",
       "        vertical-align: top;\n",
       "    }\n",
       "\n",
       "    .dataframe thead th {\n",
       "        text-align: right;\n",
       "    }\n",
       "</style>\n",
       "<table border=\"1\" class=\"dataframe\">\n",
       "  <thead>\n",
       "    <tr style=\"text-align: right;\">\n",
       "      <th></th>\n",
       "      <th>Price</th>\n",
       "      <th>Processor</th>\n",
       "      <th>RAM</th>\n",
       "      <th>Battery</th>\n",
       "      <th>Display</th>\n",
       "      <th>Camera</th>\n",
       "      <th>Memory</th>\n",
       "      <th>OperatingSystem</th>\n",
       "      <th>Vendor</th>\n",
       "      <th>Sim</th>\n",
       "      <th>3G</th>\n",
       "      <th>4G</th>\n",
       "      <th>5G</th>\n",
       "      <th>VoLTE</th>\n",
       "      <th>NFC</th>\n",
       "      <th>Wi-Fi</th>\n",
       "      <th>IR</th>\n",
       "      <th>Vo5G</th>\n",
       "    </tr>\n",
       "    <tr>\n",
       "      <th>Id</th>\n",
       "      <th></th>\n",
       "      <th></th>\n",
       "      <th></th>\n",
       "      <th></th>\n",
       "      <th></th>\n",
       "      <th></th>\n",
       "      <th></th>\n",
       "      <th></th>\n",
       "      <th></th>\n",
       "      <th></th>\n",
       "      <th></th>\n",
       "      <th></th>\n",
       "      <th></th>\n",
       "      <th></th>\n",
       "      <th></th>\n",
       "      <th></th>\n",
       "      <th></th>\n",
       "      <th></th>\n",
       "    </tr>\n",
       "  </thead>\n",
       "  <tbody>\n",
       "    <tr>\n",
       "      <th>94</th>\n",
       "      <td>39999.0</td>\n",
       "      <td>Snapdragon 8+ Gen1, Octa Core, 3.2 GHz Processor</td>\n",
       "      <td>8 GB RAM, 128 GB inbuilt</td>\n",
       "      <td>4700 mAh Battery with 45W Fast Charging</td>\n",
       "      <td>6.7 inches, 1080 x 2412 px, 120 Hz Display wit...</td>\n",
       "      <td>50 MP + 50 MP Dual Rear &amp; 32 MP Front Camera</td>\n",
       "      <td>NaN</td>\n",
       "      <td>Android v13</td>\n",
       "      <td>Other</td>\n",
       "      <td>2</td>\n",
       "      <td>1</td>\n",
       "      <td>1</td>\n",
       "      <td>1</td>\n",
       "      <td>1</td>\n",
       "      <td>1</td>\n",
       "      <td>1</td>\n",
       "      <td>0</td>\n",
       "      <td>0</td>\n",
       "    </tr>\n",
       "  </tbody>\n",
       "</table>\n",
       "</div>"
      ],
      "text/plain": [
       "      Price                                         Processor  \\\n",
       "Id                                                              \n",
       "94  39999.0  Snapdragon 8+ Gen1, Octa Core, 3.2 GHz Processor   \n",
       "\n",
       "                         RAM                                  Battery  \\\n",
       "Id                                                                      \n",
       "94  8 GB RAM, 128 GB inbuilt  4700 mAh Battery with 45W Fast Charging   \n",
       "\n",
       "                                              Display  \\\n",
       "Id                                                      \n",
       "94  6.7 inches, 1080 x 2412 px, 120 Hz Display wit...   \n",
       "\n",
       "                                          Camera Memory OperatingSystem  \\\n",
       "Id                                                                        \n",
       "94  50 MP + 50 MP Dual Rear & 32 MP Front Camera    NaN     Android v13   \n",
       "\n",
       "   Vendor  Sim  3G  4G  5G  VoLTE  NFC  Wi-Fi  IR  Vo5G  \n",
       "Id                                                       \n",
       "94  Other    2   1   1   1      1    1      1   0     0  "
      ]
     },
     "execution_count": 28,
     "metadata": {},
     "output_type": "execute_result"
    }
   ],
   "source": [
    "df.sample()"
   ]
  },
  {
   "cell_type": "markdown",
   "metadata": {},
   "source": [
    "### Create Screen_Size Feature"
   ]
  },
  {
   "cell_type": "code",
   "execution_count": 29,
   "metadata": {},
   "outputs": [
    {
     "data": {
      "text/plain": [
       "0"
      ]
     },
     "execution_count": 29,
     "metadata": {},
     "output_type": "execute_result"
    }
   ],
   "source": [
    "df['Screen_Size'] = df['Display'].str.extract(r'(\\d+(?:\\.\\d+)?)\\s*inches')\n",
    "df['Screen_Size'].isna().sum()"
   ]
  },
  {
   "cell_type": "markdown",
   "metadata": {},
   "source": [
    "### Create Resolution Feature"
   ]
  },
  {
   "cell_type": "code",
   "execution_count": 30,
   "metadata": {},
   "outputs": [
    {
     "data": {
      "text/plain": [
       "3"
      ]
     },
     "execution_count": 30,
     "metadata": {},
     "output_type": "execute_result"
    }
   ],
   "source": [
    "# Extract width and height from the \"Display\" column\n",
    "pxs = df['Display'].str.extract(r'(\\d+)\\s*[xX]\\s*(\\d+)')\n",
    "pxs.fillna(value=0, inplace=True)\n",
    "df['px_w'] = pxs[0].astype(int)\n",
    "df['px_h'] = pxs[1].astype(int)\n",
    "\n",
    "# Compute total number of pixels\n",
    "df['Resolution'] = df['px_w'] * df['px_h']\n",
    "len(df[df['Resolution'] == 0])"
   ]
  },
  {
   "cell_type": "code",
   "execution_count": 31,
   "metadata": {},
   "outputs": [
    {
     "data": {
      "text/plain": [
       "Id\n",
       "674    Snapdragon 660, Octa Core, 2.2 GHz Processor\n",
       "Name: Processor, dtype: object"
      ]
     },
     "execution_count": 31,
     "metadata": {},
     "output_type": "execute_result"
    }
   ],
   "source": [
    "df.Processor.sample()"
   ]
  },
  {
   "cell_type": "code",
   "execution_count": 32,
   "metadata": {},
   "outputs": [],
   "source": [
    "import re\n",
    "# Define a function to extract processor speed and convert to MHz\n",
    "def extract_processor_speed(processor):\n",
    "    # Extract numeric value and unit using regex\n",
    "    match = re.search(r'(\\d+(\\.\\d+)?)\\s*([mMgGtT]?[hH][zZ])', str(processor))\n",
    "    if match:\n",
    "        value = float(match.group(1))  # Extract numeric value\n",
    "        unit = match.group(3).lower()   # Extract unit (MHz, GHz, etc.)\n",
    "        if unit == 'ghz':               # Convert GHz to MHz\n",
    "            value *= 1000\n",
    "        elif unit == 'thz':             # Convert THz to MHz\n",
    "            value *= 1000000\n",
    "        elif unit == 'ghz':             # Convert MHz to MHz\n",
    "            value *= 1.0\n",
    "        return int(value)               # Return processor speed in MHz\n",
    "    else:\n",
    "        return None  "
   ]
  },
  {
   "cell_type": "markdown",
   "metadata": {},
   "source": [
    "### Create Processor_Speed_MHz Feature"
   ]
  },
  {
   "cell_type": "code",
   "execution_count": 33,
   "metadata": {},
   "outputs": [],
   "source": [
    "# Apply the function to the Processor column\n",
    "df['Processor_Speed_MHz'] = df['Processor'].apply(extract_processor_speed)"
   ]
  },
  {
   "cell_type": "code",
   "execution_count": 34,
   "metadata": {},
   "outputs": [
    {
     "data": {
      "text/html": [
       "<div>\n",
       "<style scoped>\n",
       "    .dataframe tbody tr th:only-of-type {\n",
       "        vertical-align: middle;\n",
       "    }\n",
       "\n",
       "    .dataframe tbody tr th {\n",
       "        vertical-align: top;\n",
       "    }\n",
       "\n",
       "    .dataframe thead th {\n",
       "        text-align: right;\n",
       "    }\n",
       "</style>\n",
       "<table border=\"1\" class=\"dataframe\">\n",
       "  <thead>\n",
       "    <tr style=\"text-align: right;\">\n",
       "      <th></th>\n",
       "      <th>Processor_Speed_MHz</th>\n",
       "      <th>Processor</th>\n",
       "    </tr>\n",
       "    <tr>\n",
       "      <th>Id</th>\n",
       "      <th></th>\n",
       "      <th></th>\n",
       "    </tr>\n",
       "  </thead>\n",
       "  <tbody>\n",
       "    <tr>\n",
       "      <th>73</th>\n",
       "      <td>2200.0</td>\n",
       "      <td>Snapdragon 695, Octa Core, 2.2 GHz Processor</td>\n",
       "    </tr>\n",
       "    <tr>\n",
       "      <th>590</th>\n",
       "      <td>2960.0</td>\n",
       "      <td>Snapdragon 860, Octa Core, 2.96 GHz Processor</td>\n",
       "    </tr>\n",
       "    <tr>\n",
       "      <th>47</th>\n",
       "      <td>2200.0</td>\n",
       "      <td>Snapdragon 4 Gen2, Octa Core, 2.2 GHz Processor</td>\n",
       "    </tr>\n",
       "    <tr>\n",
       "      <th>176</th>\n",
       "      <td>2200.0</td>\n",
       "      <td>Snapdragon 695, Octa Core, 2.2 GHz Processor</td>\n",
       "    </tr>\n",
       "    <tr>\n",
       "      <th>188</th>\n",
       "      <td>2600.0</td>\n",
       "      <td>Dimensity 7050, Octa Core, 2.6 GHz Processor</td>\n",
       "    </tr>\n",
       "  </tbody>\n",
       "</table>\n",
       "</div>"
      ],
      "text/plain": [
       "     Processor_Speed_MHz                                        Processor\n",
       "Id                                                                       \n",
       "73                2200.0     Snapdragon 695, Octa Core, 2.2 GHz Processor\n",
       "590               2960.0    Snapdragon 860, Octa Core, 2.96 GHz Processor\n",
       "47                2200.0  Snapdragon 4 Gen2, Octa Core, 2.2 GHz Processor\n",
       "176               2200.0     Snapdragon 695, Octa Core, 2.2 GHz Processor\n",
       "188               2600.0     Dimensity 7050, Octa Core, 2.6 GHz Processor"
      ]
     },
     "execution_count": 34,
     "metadata": {},
     "output_type": "execute_result"
    }
   ],
   "source": [
    "df[['Processor_Speed_MHz', 'Processor']].sample(5)"
   ]
  },
  {
   "cell_type": "code",
   "execution_count": 35,
   "metadata": {},
   "outputs": [],
   "source": [
    "# Define a function to extract RAM size and inbuilt memory size and convert to MB\n",
    "def extract_memory_size(memory):\n",
    "    # Extract RAM size and inbuilt memory size separately\n",
    "    ram_match = re.search(r'(\\d+(\\.\\d+)?)\\s*([mMgGtT]?[bB])\\s*RAM', str(memory))\n",
    "    inbuilt_match = re.search(r'(\\d+(\\.\\d+)?)\\s*([mMgGtT]?[bB])\\s*inbuilt', str(memory))\n",
    "\n",
    "    ram_size = None\n",
    "    inbuilt_size = None\n",
    "\n",
    "    # Process RAM size\n",
    "    if ram_match:\n",
    "        value = float(ram_match.group(1))  # Extract numeric value\n",
    "        unit = ram_match.group(3).lower()   # Extract unit (MB, GB, etc.)\n",
    "        if unit == 'gb':                    # Convert GB to MB\n",
    "            value *= 1024\n",
    "        elif unit == 'tb':                  # Convert TB to MB\n",
    "            value *= 1024 * 1024\n",
    "        elif unit == 'mb':                  # Convert MB to MB\n",
    "            value *= 1\n",
    "        ram_size = int(value)               # Store RAM size in MB\n",
    "\n",
    "    # Process inbuilt memory size\n",
    "    if inbuilt_match:\n",
    "        value = float(inbuilt_match.group(1))  # Extract numeric value\n",
    "        unit = inbuilt_match.group(3).lower()   # Extract unit (MB, GB, etc.)\n",
    "        if unit == 'gb':                        # Convert GB to MB\n",
    "            value *= 1024\n",
    "        elif unit == 'tb':                      # Convert TB to MB\n",
    "            value *= 1024 * 1024\n",
    "        elif unit == 'mb':                      # Convert MB to MB\n",
    "            value *= 1\n",
    "        inbuilt_size = int(value)               # Store inbuilt memory size in MB\n",
    "\n",
    "    return ram_size, inbuilt_size"
   ]
  },
  {
   "cell_type": "markdown",
   "metadata": {},
   "source": [
    "### Create RAM_MB, Memory_MB Features"
   ]
  },
  {
   "cell_type": "code",
   "execution_count": 36,
   "metadata": {},
   "outputs": [],
   "source": [
    "# Apply the function to the RAM column\n",
    "df['RAM_MB'], df['Memory_MB'] = zip(*df['RAM'].apply(extract_memory_size))"
   ]
  },
  {
   "cell_type": "code",
   "execution_count": 37,
   "metadata": {},
   "outputs": [
    {
     "data": {
      "text/html": [
       "<div>\n",
       "<style scoped>\n",
       "    .dataframe tbody tr th:only-of-type {\n",
       "        vertical-align: middle;\n",
       "    }\n",
       "\n",
       "    .dataframe tbody tr th {\n",
       "        vertical-align: top;\n",
       "    }\n",
       "\n",
       "    .dataframe thead th {\n",
       "        text-align: right;\n",
       "    }\n",
       "</style>\n",
       "<table border=\"1\" class=\"dataframe\">\n",
       "  <thead>\n",
       "    <tr style=\"text-align: right;\">\n",
       "      <th></th>\n",
       "      <th>RAM_MB</th>\n",
       "      <th>Memory_MB</th>\n",
       "      <th>RAM</th>\n",
       "    </tr>\n",
       "    <tr>\n",
       "      <th>Id</th>\n",
       "      <th></th>\n",
       "      <th></th>\n",
       "      <th></th>\n",
       "    </tr>\n",
       "  </thead>\n",
       "  <tbody>\n",
       "    <tr>\n",
       "      <th>521</th>\n",
       "      <td>6144.0</td>\n",
       "      <td>131072.0</td>\n",
       "      <td>6 GB RAM, 128 GB inbuilt</td>\n",
       "    </tr>\n",
       "    <tr>\n",
       "      <th>594</th>\n",
       "      <td>8192.0</td>\n",
       "      <td>131072.0</td>\n",
       "      <td>8 GB RAM, 128 GB inbuilt</td>\n",
       "    </tr>\n",
       "    <tr>\n",
       "      <th>335</th>\n",
       "      <td>6144.0</td>\n",
       "      <td>131072.0</td>\n",
       "      <td>6 GB RAM, 128 GB inbuilt</td>\n",
       "    </tr>\n",
       "    <tr>\n",
       "      <th>613</th>\n",
       "      <td>8192.0</td>\n",
       "      <td>262144.0</td>\n",
       "      <td>8 GB RAM, 256 GB inbuilt</td>\n",
       "    </tr>\n",
       "    <tr>\n",
       "      <th>792</th>\n",
       "      <td>2048.0</td>\n",
       "      <td>32768.0</td>\n",
       "      <td>2 GB RAM, 32 GB inbuilt</td>\n",
       "    </tr>\n",
       "  </tbody>\n",
       "</table>\n",
       "</div>"
      ],
      "text/plain": [
       "     RAM_MB  Memory_MB                       RAM\n",
       "Id                                              \n",
       "521  6144.0   131072.0  6 GB RAM, 128 GB inbuilt\n",
       "594  8192.0   131072.0  8 GB RAM, 128 GB inbuilt\n",
       "335  6144.0   131072.0  6 GB RAM, 128 GB inbuilt\n",
       "613  8192.0   262144.0  8 GB RAM, 256 GB inbuilt\n",
       "792  2048.0    32768.0   2 GB RAM, 32 GB inbuilt"
      ]
     },
     "execution_count": 37,
     "metadata": {},
     "output_type": "execute_result"
    }
   ],
   "source": [
    "df[['RAM_MB', 'Memory_MB', 'RAM']].sample(5)"
   ]
  },
  {
   "cell_type": "markdown",
   "metadata": {},
   "source": [
    "### Create BatterymAh Feature"
   ]
  },
  {
   "cell_type": "code",
   "execution_count": 38,
   "metadata": {},
   "outputs": [
    {
     "data": {
      "text/plain": [
       "9"
      ]
     },
     "execution_count": 38,
     "metadata": {},
     "output_type": "execute_result"
    }
   ],
   "source": [
    "df['BatterymAh'] = df['Battery'].str.extract(r'(\\d+(\\.\\d+)?)\\s*(mAh Battery)')[0].astype(float)\n",
    "df['BatterymAh'].isna().sum()"
   ]
  },
  {
   "cell_type": "markdown",
   "metadata": {},
   "source": [
    "### Create FastCharging Feature"
   ]
  },
  {
   "cell_type": "code",
   "execution_count": 39,
   "metadata": {},
   "outputs": [
    {
     "data": {
      "text/plain": [
       "279"
      ]
     },
     "execution_count": 39,
     "metadata": {},
     "output_type": "execute_result"
    }
   ],
   "source": [
    "df['FastCharging'] = df['Battery'].str.extract(r'(\\d+(\\.\\d+)?)\\s*(W Fast Charging)')[0].astype(float)\n",
    "df['FastCharging'].isna().sum()"
   ]
  },
  {
   "cell_type": "markdown",
   "metadata": {},
   "source": [
    "### Create PC Feature"
   ]
  },
  {
   "cell_type": "code",
   "execution_count": 40,
   "metadata": {},
   "outputs": [
    {
     "data": {
      "text/plain": [
       "23"
      ]
     },
     "execution_count": 40,
     "metadata": {},
     "output_type": "execute_result"
    }
   ],
   "source": [
    "df['PC'] = df['Camera'].str.extract(r'(\\d+(\\.\\d+)?)\\s*(MP)')[0].astype(float)\n",
    "df['PC'].isna().sum()"
   ]
  },
  {
   "cell_type": "markdown",
   "metadata": {},
   "source": [
    "### Create FC Feature"
   ]
  },
  {
   "cell_type": "code",
   "execution_count": 41,
   "metadata": {},
   "outputs": [
    {
     "data": {
      "text/plain": [
       "129"
      ]
     },
     "execution_count": 41,
     "metadata": {},
     "output_type": "execute_result"
    }
   ],
   "source": [
    "df['FC'] = df['Camera'].str.extract(r'(\\d+(\\.\\d+)?)\\s*(MP Front Camera)')[0].astype(float)\n",
    "df['FC'].isna().sum()"
   ]
  },
  {
   "cell_type": "markdown",
   "metadata": {},
   "source": [
    "### Create OS, Version Features"
   ]
  },
  {
   "cell_type": "code",
   "execution_count": 42,
   "metadata": {},
   "outputs": [],
   "source": [
    "# Extract OS and version number\n",
    "df['OS'] = df['OperatingSystem'].str.extract(r'((Android|iOS)\\s*v([\\d.]+)|(.+))')[1]\n",
    "df['Version'] = df['OperatingSystem'].str.extract(r'((Android|iOS)\\s*v([\\d.]+)|(.+))')[2]\n",
    "\n",
    "# Map OS values to Android, iOS, and Other\n",
    "os_mapping = {'Android': 'Android', 'iOS': 'iOS', 'Mocor' : 'Mocor', 'Symbian' : 'Symbian', 'Blackberry' : 'Blackberry', 'KaiOS' : 'KaiOS', 'Nucleus' : 'Nucleus'}\n",
    "# df['OS'] = df['OS'].map(os_mapping).fillna('Other')"
   ]
  },
  {
   "cell_type": "code",
   "execution_count": 43,
   "metadata": {},
   "outputs": [
    {
     "data": {
      "text/plain": [
       "OS\n",
       "Android    852\n",
       "iOS         40\n",
       "Name: count, dtype: int64"
      ]
     },
     "execution_count": 43,
     "metadata": {},
     "output_type": "execute_result"
    }
   ],
   "source": [
    "df['OS'].value_counts()"
   ]
  },
  {
   "cell_type": "code",
   "execution_count": 44,
   "metadata": {},
   "outputs": [
    {
     "data": {
      "text/plain": [
       "Id\n",
       "1004     2500.0\n",
       "490      7299.0\n",
       "569      9849.0\n",
       "236      1285.0\n",
       "265     34480.0\n",
       "Name: Price, dtype: float64"
      ]
     },
     "execution_count": 44,
     "metadata": {},
     "output_type": "execute_result"
    }
   ],
   "source": [
    "df.Price.sample(5)"
   ]
  },
  {
   "cell_type": "code",
   "execution_count": 45,
   "metadata": {},
   "outputs": [
    {
     "name": "stdout",
     "output_type": "stream",
     "text": [
      "<class 'pandas.core.frame.DataFrame'>\n",
      "Index: 1020 entries, 0 to 1019\n",
      "Data columns (total 31 columns):\n",
      " #   Column               Non-Null Count  Dtype  \n",
      "---  ------               --------------  -----  \n",
      " 0   Price                1020 non-null   float64\n",
      " 1   Processor            967 non-null    object \n",
      " 2   RAM                  1009 non-null   object \n",
      " 3   Battery              1011 non-null   object \n",
      " 4   Display              1020 non-null   object \n",
      " 5   Camera               1019 non-null   object \n",
      " 6   Memory               839 non-null    object \n",
      " 7   OperatingSystem      894 non-null    object \n",
      " 8   Vendor               1020 non-null   object \n",
      " 9   Sim                  1020 non-null   int64  \n",
      " 10  3G                   1020 non-null   int32  \n",
      " 11  4G                   1020 non-null   int32  \n",
      " 12  5G                   1020 non-null   int32  \n",
      " 13  VoLTE                1020 non-null   int32  \n",
      " 14  NFC                  1020 non-null   int32  \n",
      " 15  Wi-Fi                1020 non-null   int32  \n",
      " 16  IR                   1020 non-null   int32  \n",
      " 17  Vo5G                 1020 non-null   int32  \n",
      " 18  Screen_Size          1020 non-null   object \n",
      " 19  px_w                 1020 non-null   int32  \n",
      " 20  px_h                 1020 non-null   int32  \n",
      " 21  Resolution           1020 non-null   int32  \n",
      " 22  Processor_Speed_MHz  951 non-null    float64\n",
      " 23  RAM_MB               1009 non-null   float64\n",
      " 24  Memory_MB            1007 non-null   float64\n",
      " 25  BatterymAh           1011 non-null   float64\n",
      " 26  FastCharging         741 non-null    float64\n",
      " 27  PC                   997 non-null    float64\n",
      " 28  FC                   891 non-null    float64\n",
      " 29  OS                   892 non-null    object \n",
      " 30  Version              892 non-null    object \n",
      "dtypes: float64(8), int32(11), int64(1), object(11)\n",
      "memory usage: 211.2+ KB\n"
     ]
    }
   ],
   "source": [
    "df.info()"
   ]
  },
  {
   "cell_type": "code",
   "execution_count": 46,
   "metadata": {},
   "outputs": [
    {
     "data": {
      "text/plain": [
       "Index(['Price', 'Processor', 'RAM', 'Battery', 'Display', 'Camera', 'Memory',\n",
       "       'OperatingSystem', 'Vendor', 'Sim', '3G', '4G', '5G', 'VoLTE', 'NFC',\n",
       "       'Wi-Fi', 'IR', 'Vo5G', 'Screen_Size', 'px_w', 'px_h', 'Resolution',\n",
       "       'Processor_Speed_MHz', 'RAM_MB', 'Memory_MB', 'BatterymAh',\n",
       "       'FastCharging', 'PC', 'FC', 'OS', 'Version'],\n",
       "      dtype='object')"
      ]
     },
     "execution_count": 46,
     "metadata": {},
     "output_type": "execute_result"
    }
   ],
   "source": [
    "df.columns"
   ]
  },
  {
   "cell_type": "markdown",
   "metadata": {},
   "source": [
    "### Drop Unused Columns"
   ]
  },
  {
   "cell_type": "code",
   "execution_count": 47,
   "metadata": {},
   "outputs": [],
   "source": [
    "df.drop(columns=['Processor', 'RAM', 'Battery', 'Display', 'Camera', 'Memory', 'OperatingSystem', 'px_w', 'px_h'], inplace=True)"
   ]
  },
  {
   "cell_type": "code",
   "execution_count": 48,
   "metadata": {},
   "outputs": [
    {
     "data": {
      "text/plain": [
       "Index(['Price', 'Vendor', 'Sim', '3G', '4G', '5G', 'VoLTE', 'NFC', 'Wi-Fi',\n",
       "       'IR', 'Vo5G', 'Screen_Size', 'Resolution', 'Processor_Speed_MHz',\n",
       "       'RAM_MB', 'Memory_MB', 'BatterymAh', 'FastCharging', 'PC', 'FC', 'OS',\n",
       "       'Version'],\n",
       "      dtype='object')"
      ]
     },
     "execution_count": 48,
     "metadata": {},
     "output_type": "execute_result"
    }
   ],
   "source": [
    "df.columns"
   ]
  },
  {
   "cell_type": "code",
   "execution_count": 49,
   "metadata": {},
   "outputs": [
    {
     "data": {
      "text/plain": [
       "Processor_Speed_MHz     69\n",
       "RAM_MB                  11\n",
       "Memory_MB               13\n",
       "BatterymAh               9\n",
       "FastCharging           279\n",
       "PC                      23\n",
       "FC                     129\n",
       "OS                     128\n",
       "Version                128\n",
       "dtype: int64"
      ]
     },
     "execution_count": 49,
     "metadata": {},
     "output_type": "execute_result"
    }
   ],
   "source": [
    "df.isna().sum()[df.isna().sum() > 0]"
   ]
  },
  {
   "cell_type": "code",
   "execution_count": 50,
   "metadata": {},
   "outputs": [],
   "source": [
    "from sklearn.pipeline import Pipeline\n",
    "from sklearn.impute import SimpleImputer\n",
    "from sklearn.compose import ColumnTransformer\n",
    "from sklearn.preprocessing import StandardScaler, OneHotEncoder, FunctionTransformer\n",
    "from sklearn.base import BaseEstimator, TransformerMixin\n",
    "import category_encoders as ce"
   ]
  },
  {
   "cell_type": "code",
   "execution_count": 51,
   "metadata": {},
   "outputs": [],
   "source": [
    "# # Define the pipeline\n",
    "# pipeline = Pipeline([\n",
    "#     ('transformer', ColumnTransformer(transformers=[\n",
    "#         ('mean_imputer', SimpleImputer(strategy='mean'), ['RAM_MB', 'Memory_MB', 'Processor_Speed_MHz']),\n",
    "#         ('most_frequent_imputer', SimpleImputer(strategy='most_frequent'), ['BatterymAh']),\n",
    "#         ('constant_imputer1', SimpleImputer(strategy='constant', fill_value=10), ['FastCharging']),\n",
    "#         ('constant_imputer2', SimpleImputer(strategy='constant', fill_value=0), ['PC', 'FC']),\n",
    "#         ('constant_imputer3', SimpleImputer(strategy='constant', fill_value='Other'), ['OS']),\n",
    "#         ('median_imputer', SimpleImputer(strategy='most_frequent'), ['Version']),\n",
    "#         # ('target_encoder', ce.TargetEncoder(), ['Vendor']),\n",
    "#         ('one_hot_encoder', OneHotEncoder(), ['OS']),\n",
    "#         ('standard_scaler', StandardScaler(), ['RAM_MB', 'Memory_MB'])\n",
    "#     ], remainder='passthrough')),\n",
    "# ])"
   ]
  },
  {
   "cell_type": "code",
   "execution_count": 52,
   "metadata": {},
   "outputs": [
    {
     "data": {
      "text/plain": [
       "Index(['Price', 'Vendor', 'Sim', '3G', '4G', '5G', 'VoLTE', 'NFC', 'Wi-Fi',\n",
       "       'IR', 'Vo5G', 'Screen_Size', 'Resolution', 'Processor_Speed_MHz',\n",
       "       'RAM_MB', 'Memory_MB', 'BatterymAh', 'FastCharging', 'PC', 'FC', 'OS',\n",
       "       'Version'],\n",
       "      dtype='object')"
      ]
     },
     "execution_count": 52,
     "metadata": {},
     "output_type": "execute_result"
    }
   ],
   "source": [
    "df.columns"
   ]
  },
  {
   "cell_type": "code",
   "execution_count": 53,
   "metadata": {},
   "outputs": [
    {
     "name": "stdout",
     "output_type": "stream",
     "text": [
      "Missing Values in Variables:\n"
     ]
    },
    {
     "data": {
      "text/plain": [
       "Processor_Speed_MHz     69\n",
       "RAM_MB                  11\n",
       "Memory_MB               13\n",
       "BatterymAh               9\n",
       "FastCharging           279\n",
       "PC                      23\n",
       "FC                     129\n",
       "OS                     128\n",
       "Version                128\n",
       "dtype: int64"
      ]
     },
     "execution_count": 53,
     "metadata": {},
     "output_type": "execute_result"
    }
   ],
   "source": [
    "print('Missing Values in Variables:')\n",
    "df.isna().sum()[df.isna().sum() > 0]"
   ]
  },
  {
   "cell_type": "markdown",
   "metadata": {},
   "source": [
    "### Function to Impute Missing Values in Columns"
   ]
  },
  {
   "cell_type": "code",
   "execution_count": 54,
   "metadata": {},
   "outputs": [],
   "source": [
    "def Impute_Processor_Speed_MHz(_):\n",
    "    df = _.copy()\n",
    "    df['Processor_Speed_MHz'] = SimpleImputer(strategy='median').fit_transform(df[['Processor_Speed_MHz']])\n",
    "    return df"
   ]
  },
  {
   "cell_type": "code",
   "execution_count": 55,
   "metadata": {},
   "outputs": [],
   "source": [
    "def Impute_RAM_MB(_):\n",
    "    df = _.copy()\n",
    "    df['RAM_MB'] = SimpleImputer(strategy='median').fit_transform(df[['RAM_MB']])\n",
    "    return df"
   ]
  },
  {
   "cell_type": "code",
   "execution_count": 56,
   "metadata": {},
   "outputs": [],
   "source": [
    "def Impute_Memory_MB(_):\n",
    "    df = _.copy()\n",
    "    df['Memory_MB'] = SimpleImputer(strategy='median').fit_transform(df[['Memory_MB']])\n",
    "    return df"
   ]
  },
  {
   "cell_type": "code",
   "execution_count": 57,
   "metadata": {},
   "outputs": [],
   "source": [
    "def Impute_BatterymAh(_):\n",
    "    df = _.copy()\n",
    "    df['BatterymAh'] = SimpleImputer(strategy='median').fit_transform(df[['BatterymAh']])\n",
    "    return df"
   ]
  },
  {
   "cell_type": "code",
   "execution_count": 58,
   "metadata": {},
   "outputs": [],
   "source": [
    "def Impute_FastCharging(_):\n",
    "    df = _.copy()\n",
    "    df['FastCharging'] = df.FastCharging.fillna(value=10)\n",
    "    return df"
   ]
  },
  {
   "cell_type": "code",
   "execution_count": 59,
   "metadata": {},
   "outputs": [],
   "source": [
    "def Impute_FC(_):\n",
    "    df = _.copy()\n",
    "    df['FC'] = df.FC.fillna(value=0)\n",
    "    return df"
   ]
  },
  {
   "cell_type": "code",
   "execution_count": 60,
   "metadata": {},
   "outputs": [],
   "source": [
    "def Impute_PC(_):\n",
    "    df = _.copy()\n",
    "    df['PC'] = df.groupby('Memory_MB')['PC'].transform(lambda x: x.fillna(x.mode().iloc[0]) if not x.mode().empty else x)\n",
    "    df['PC'] = df.PC.fillna(value=5)\n",
    "    return df"
   ]
  },
  {
   "cell_type": "code",
   "execution_count": 61,
   "metadata": {},
   "outputs": [
    {
     "data": {
      "text/plain": [
       "Id\n",
       "760    11\n",
       "744    11\n",
       "373    12\n",
       "555    12\n",
       "72     13\n",
       "Name: Version, dtype: object"
      ]
     },
     "execution_count": 61,
     "metadata": {},
     "output_type": "execute_result"
    }
   ],
   "source": [
    "df.Version.sample(5)"
   ]
  },
  {
   "cell_type": "code",
   "execution_count": 62,
   "metadata": {},
   "outputs": [],
   "source": [
    "def Impute_OS(_):\n",
    "    df = _.copy()\n",
    "    df['OS'] = df.OS.fillna(value='Other')\n",
    "    return df"
   ]
  },
  {
   "cell_type": "code",
   "execution_count": 63,
   "metadata": {},
   "outputs": [],
   "source": [
    "def Impute_Version(_):\n",
    "    df = _.copy()\n",
    "    df['Version'] = df.groupby('OS')['Version'].transform(lambda x: x.fillna(x.mode().iloc[0]) if not x.mode().empty else x)\n",
    "    df['Version'] = df.Version.fillna(value=1)\n",
    "    return df"
   ]
  },
  {
   "cell_type": "markdown",
   "metadata": {},
   "source": [
    "### Dealing With Categorical Variables"
   ]
  },
  {
   "cell_type": "code",
   "execution_count": 64,
   "metadata": {},
   "outputs": [
    {
     "data": {
      "text/html": [
       "<div>\n",
       "<style scoped>\n",
       "    .dataframe tbody tr th:only-of-type {\n",
       "        vertical-align: middle;\n",
       "    }\n",
       "\n",
       "    .dataframe tbody tr th {\n",
       "        vertical-align: top;\n",
       "    }\n",
       "\n",
       "    .dataframe thead th {\n",
       "        text-align: right;\n",
       "    }\n",
       "</style>\n",
       "<table border=\"1\" class=\"dataframe\">\n",
       "  <thead>\n",
       "    <tr style=\"text-align: right;\">\n",
       "      <th></th>\n",
       "      <th>Vendor</th>\n",
       "      <th>Screen_Size</th>\n",
       "      <th>OS</th>\n",
       "      <th>Version</th>\n",
       "    </tr>\n",
       "    <tr>\n",
       "      <th>Id</th>\n",
       "      <th></th>\n",
       "      <th></th>\n",
       "      <th></th>\n",
       "      <th></th>\n",
       "    </tr>\n",
       "  </thead>\n",
       "  <tbody>\n",
       "    <tr>\n",
       "      <th>448</th>\n",
       "      <td>XIAOMI</td>\n",
       "      <td>6.08</td>\n",
       "      <td>Android</td>\n",
       "      <td>9.0</td>\n",
       "    </tr>\n",
       "    <tr>\n",
       "      <th>73</th>\n",
       "      <td>VIVO</td>\n",
       "      <td>6.38</td>\n",
       "      <td>Android</td>\n",
       "      <td>13</td>\n",
       "    </tr>\n",
       "    <tr>\n",
       "      <th>818</th>\n",
       "      <td>INFINIX</td>\n",
       "      <td>6.6</td>\n",
       "      <td>Android</td>\n",
       "      <td>12</td>\n",
       "    </tr>\n",
       "    <tr>\n",
       "      <th>172</th>\n",
       "      <td>SAMSUNG</td>\n",
       "      <td>6.4</td>\n",
       "      <td>Android</td>\n",
       "      <td>13</td>\n",
       "    </tr>\n",
       "    <tr>\n",
       "      <th>660</th>\n",
       "      <td>OPPO</td>\n",
       "      <td>6.5</td>\n",
       "      <td>Android</td>\n",
       "      <td>11</td>\n",
       "    </tr>\n",
       "  </tbody>\n",
       "</table>\n",
       "</div>"
      ],
      "text/plain": [
       "      Vendor Screen_Size       OS Version\n",
       "Id                                       \n",
       "448   XIAOMI        6.08  Android     9.0\n",
       "73      VIVO        6.38  Android      13\n",
       "818  INFINIX         6.6  Android      12\n",
       "172  SAMSUNG         6.4  Android      13\n",
       "660     OPPO         6.5  Android      11"
      ]
     },
     "execution_count": 64,
     "metadata": {},
     "output_type": "execute_result"
    }
   ],
   "source": [
    "df.select_dtypes(include=['category', 'object']).sample(5)"
   ]
  },
  {
   "cell_type": "code",
   "execution_count": 65,
   "metadata": {},
   "outputs": [],
   "source": [
    "df.Screen_Size = df.Screen_Size.astype('float')"
   ]
  },
  {
   "cell_type": "code",
   "execution_count": 66,
   "metadata": {},
   "outputs": [
    {
     "data": {
      "text/html": [
       "<div>\n",
       "<style scoped>\n",
       "    .dataframe tbody tr th:only-of-type {\n",
       "        vertical-align: middle;\n",
       "    }\n",
       "\n",
       "    .dataframe tbody tr th {\n",
       "        vertical-align: top;\n",
       "    }\n",
       "\n",
       "    .dataframe thead th {\n",
       "        text-align: right;\n",
       "    }\n",
       "</style>\n",
       "<table border=\"1\" class=\"dataframe\">\n",
       "  <thead>\n",
       "    <tr style=\"text-align: right;\">\n",
       "      <th></th>\n",
       "      <th>Vendor</th>\n",
       "      <th>OS</th>\n",
       "      <th>Version</th>\n",
       "    </tr>\n",
       "    <tr>\n",
       "      <th>Id</th>\n",
       "      <th></th>\n",
       "      <th></th>\n",
       "      <th></th>\n",
       "    </tr>\n",
       "  </thead>\n",
       "  <tbody>\n",
       "    <tr>\n",
       "      <th>228</th>\n",
       "      <td>POCO</td>\n",
       "      <td>Android</td>\n",
       "      <td>13</td>\n",
       "    </tr>\n",
       "    <tr>\n",
       "      <th>905</th>\n",
       "      <td>POCO</td>\n",
       "      <td>Android</td>\n",
       "      <td>10</td>\n",
       "    </tr>\n",
       "    <tr>\n",
       "      <th>683</th>\n",
       "      <td>Other</td>\n",
       "      <td>Android</td>\n",
       "      <td>13</td>\n",
       "    </tr>\n",
       "    <tr>\n",
       "      <th>756</th>\n",
       "      <td>SAMSUNG</td>\n",
       "      <td>Android</td>\n",
       "      <td>11</td>\n",
       "    </tr>\n",
       "    <tr>\n",
       "      <th>593</th>\n",
       "      <td>POCO</td>\n",
       "      <td>Android</td>\n",
       "      <td>10</td>\n",
       "    </tr>\n",
       "  </tbody>\n",
       "</table>\n",
       "</div>"
      ],
      "text/plain": [
       "      Vendor       OS Version\n",
       "Id                           \n",
       "228     POCO  Android      13\n",
       "905     POCO  Android      10\n",
       "683    Other  Android      13\n",
       "756  SAMSUNG  Android      11\n",
       "593     POCO  Android      10"
      ]
     },
     "execution_count": 66,
     "metadata": {},
     "output_type": "execute_result"
    }
   ],
   "source": [
    "df.select_dtypes(include=['category', 'object']).sample(5)"
   ]
  },
  {
   "cell_type": "code",
   "execution_count": 67,
   "metadata": {},
   "outputs": [
    {
     "data": {
      "text/plain": [
       "OS\n",
       "Android    852\n",
       "iOS         40\n",
       "Name: count, dtype: int64"
      ]
     },
     "execution_count": 67,
     "metadata": {},
     "output_type": "execute_result"
    }
   ],
   "source": [
    "df.OS.value_counts()"
   ]
  },
  {
   "cell_type": "code",
   "execution_count": 68,
   "metadata": {},
   "outputs": [],
   "source": [
    "def Encode_Vendor(_):\n",
    "    df = _.copy()\n",
    "    # df['Vendor'] = df['Vendor'].map(df['Vendor'].value_counts())\n",
    "    df = pd.get_dummies(df, columns=['Vendor'], prefix='Vendor')\n",
    "    return df"
   ]
  },
  {
   "cell_type": "code",
   "execution_count": 69,
   "metadata": {},
   "outputs": [],
   "source": [
    "def Encode_OS(_):\n",
    "    df = _.copy()\n",
    "    df = pd.get_dummies(df, columns=['OS'], prefix='OS')\n",
    "    return df"
   ]
  },
  {
   "cell_type": "code",
   "execution_count": 70,
   "metadata": {},
   "outputs": [
    {
     "data": {
      "text/plain": [
       "Index(['Price', 'Vendor', 'Sim', '3G', '4G', '5G', 'VoLTE', 'NFC', 'Wi-Fi',\n",
       "       'IR', 'Vo5G', 'Screen_Size', 'Resolution', 'Processor_Speed_MHz',\n",
       "       'RAM_MB', 'Memory_MB', 'BatterymAh', 'FastCharging', 'PC', 'FC', 'OS',\n",
       "       'Version'],\n",
       "      dtype='object')"
      ]
     },
     "execution_count": 70,
     "metadata": {},
     "output_type": "execute_result"
    }
   ],
   "source": [
    "df.columns"
   ]
  },
  {
   "cell_type": "markdown",
   "metadata": {},
   "source": [
    "### Converting Version to Integer"
   ]
  },
  {
   "cell_type": "code",
   "execution_count": 71,
   "metadata": {},
   "outputs": [],
   "source": [
    "def Convert_Version(_):\n",
    "    df = _.copy()\n",
    "    df['Version'] = df['Version'].str.extract(r'^(\\d+)')\n",
    "    df['Version'] = df['Version'].astype(float).astype(pd.Int32Dtype())\n",
    "    return df"
   ]
  },
  {
   "cell_type": "code",
   "execution_count": 72,
   "metadata": {},
   "outputs": [],
   "source": [
    "def Impute_Version(_):\n",
    "    df = _.copy()\n",
    "    df.Version = df.Version.fillna(value=1)\n",
    "    return df"
   ]
  },
  {
   "cell_type": "code",
   "execution_count": 73,
   "metadata": {},
   "outputs": [
    {
     "data": {
      "text/html": [
       "<div>\n",
       "<style scoped>\n",
       "    .dataframe tbody tr th:only-of-type {\n",
       "        vertical-align: middle;\n",
       "    }\n",
       "\n",
       "    .dataframe tbody tr th {\n",
       "        vertical-align: top;\n",
       "    }\n",
       "\n",
       "    .dataframe thead th {\n",
       "        text-align: right;\n",
       "    }\n",
       "</style>\n",
       "<table border=\"1\" class=\"dataframe\">\n",
       "  <thead>\n",
       "    <tr style=\"text-align: right;\">\n",
       "      <th></th>\n",
       "      <th>Price</th>\n",
       "      <th>Vendor</th>\n",
       "      <th>Sim</th>\n",
       "      <th>3G</th>\n",
       "      <th>4G</th>\n",
       "      <th>5G</th>\n",
       "      <th>VoLTE</th>\n",
       "      <th>NFC</th>\n",
       "      <th>Wi-Fi</th>\n",
       "      <th>IR</th>\n",
       "      <th>...</th>\n",
       "      <th>Resolution</th>\n",
       "      <th>Processor_Speed_MHz</th>\n",
       "      <th>RAM_MB</th>\n",
       "      <th>Memory_MB</th>\n",
       "      <th>BatterymAh</th>\n",
       "      <th>FastCharging</th>\n",
       "      <th>PC</th>\n",
       "      <th>FC</th>\n",
       "      <th>OS</th>\n",
       "      <th>Version</th>\n",
       "    </tr>\n",
       "    <tr>\n",
       "      <th>Id</th>\n",
       "      <th></th>\n",
       "      <th></th>\n",
       "      <th></th>\n",
       "      <th></th>\n",
       "      <th></th>\n",
       "      <th></th>\n",
       "      <th></th>\n",
       "      <th></th>\n",
       "      <th></th>\n",
       "      <th></th>\n",
       "      <th></th>\n",
       "      <th></th>\n",
       "      <th></th>\n",
       "      <th></th>\n",
       "      <th></th>\n",
       "      <th></th>\n",
       "      <th></th>\n",
       "      <th></th>\n",
       "      <th></th>\n",
       "      <th></th>\n",
       "      <th></th>\n",
       "    </tr>\n",
       "  </thead>\n",
       "  <tbody>\n",
       "    <tr>\n",
       "      <th>281</th>\n",
       "      <td>14990.0</td>\n",
       "      <td>SAMSUNG</td>\n",
       "      <td>2</td>\n",
       "      <td>1</td>\n",
       "      <td>1</td>\n",
       "      <td>0</td>\n",
       "      <td>1</td>\n",
       "      <td>0</td>\n",
       "      <td>1</td>\n",
       "      <td>0</td>\n",
       "      <td>...</td>\n",
       "      <td>2592000</td>\n",
       "      <td>2300.0</td>\n",
       "      <td>6144.0</td>\n",
       "      <td>131072.0</td>\n",
       "      <td>6000.0</td>\n",
       "      <td>25.0</td>\n",
       "      <td>64.0</td>\n",
       "      <td>32.0</td>\n",
       "      <td>Android</td>\n",
       "      <td>10.0</td>\n",
       "    </tr>\n",
       "  </tbody>\n",
       "</table>\n",
       "<p>1 rows × 22 columns</p>\n",
       "</div>"
      ],
      "text/plain": [
       "       Price   Vendor  Sim  3G  4G  5G  VoLTE  NFC  Wi-Fi  IR  ...  \\\n",
       "Id                                                             ...   \n",
       "281  14990.0  SAMSUNG    2   1   1   0      1    0      1   0  ...   \n",
       "\n",
       "     Resolution  Processor_Speed_MHz  RAM_MB  Memory_MB  BatterymAh  \\\n",
       "Id                                                                    \n",
       "281     2592000               2300.0  6144.0   131072.0      6000.0   \n",
       "\n",
       "     FastCharging    PC    FC       OS  Version  \n",
       "Id                                               \n",
       "281          25.0  64.0  32.0  Android     10.0  \n",
       "\n",
       "[1 rows x 22 columns]"
      ]
     },
     "execution_count": 73,
     "metadata": {},
     "output_type": "execute_result"
    }
   ],
   "source": [
    "df.sample()"
   ]
  },
  {
   "cell_type": "markdown",
   "metadata": {},
   "source": [
    "## Convert the Price Column to Four Classes"
   ]
  },
  {
   "cell_type": "code",
   "execution_count": 74,
   "metadata": {},
   "outputs": [],
   "source": [
    "# Calculate quartiles\n",
    "quartiles = df['Price'].quantile([0.25, 0.5, 0.75])\n",
    "\n",
    "# Define function to assign class labels\n",
    "def price_to_class(price):\n",
    "    if price <= quartiles[0.25]:\n",
    "        return 0\n",
    "    elif price <= quartiles[0.5]:\n",
    "        return 1\n",
    "    elif price <= quartiles[0.75]:\n",
    "        return 2\n",
    "    else:\n",
    "        return 3"
   ]
  },
  {
   "cell_type": "code",
   "execution_count": 75,
   "metadata": {},
   "outputs": [
    {
     "data": {
      "text/plain": [
       "Index(['Price', 'Vendor', 'Sim', '3G', '4G', '5G', 'VoLTE', 'NFC', 'Wi-Fi',\n",
       "       'IR', 'Vo5G', 'Screen_Size', 'Resolution', 'Processor_Speed_MHz',\n",
       "       'RAM_MB', 'Memory_MB', 'BatterymAh', 'FastCharging', 'PC', 'FC', 'OS',\n",
       "       'Version'],\n",
       "      dtype='object')"
      ]
     },
     "execution_count": 75,
     "metadata": {},
     "output_type": "execute_result"
    }
   ],
   "source": [
    "df.columns"
   ]
  },
  {
   "cell_type": "code",
   "execution_count": 76,
   "metadata": {},
   "outputs": [
    {
     "data": {
      "image/png": "[encoded data removed]",
      "text/plain": [
       "<Figure size 1000x800 with 2 Axes>"
      ]
     },
     "metadata": {},
     "output_type": "display_data"
    }
   ],
   "source": [
    "correlation_matrix = df[['Price', 'Sim', '3G', '4G', '5G', 'VoLTE', 'NFC', 'Wi-Fi',\n",
    "       'IR', 'Vo5G', 'Screen_Size', 'Resolution', 'Processor_Speed_MHz',\n",
    "       'RAM_MB', 'Memory_MB', 'BatterymAh', 'FastCharging', 'PC', 'FC']].corr()\n",
    "\n",
    "# Plot correlation matrix as a heatmap\n",
    "plt.figure(figsize=(10, 8))\n",
    "sns.heatmap(correlation_matrix, annot=True, cmap='coolwarm', fmt=\".2f\", linewidths=0.5)\n",
    "plt.title('Correlation Matrix')\n",
    "plt.show()"
   ]
  },
  {
   "cell_type": "code",
   "execution_count": 77,
   "metadata": {},
   "outputs": [
    {
     "data": {
      "image/png": "[encoded data removed]",
      "text/plain": [
       "<Figure size 1000x600 with 1 Axes>"
      ]
     },
     "metadata": {},
     "output_type": "display_data"
    }
   ],
   "source": [
    "plt.figure(figsize=(10, 6))\n",
    "sns.scatterplot(data=df, x='FastCharging', y='Price')\n",
    "# Rotate the x-axis labels by 90 degrees\n",
    "plt.xticks(rotation=90)\n",
    "\n",
    "# Show the plot\n",
    "plt.show()"
   ]
  },
  {
   "cell_type": "code",
   "execution_count": 78,
   "metadata": {},
   "outputs": [
    {
     "data": {
      "image/png": "[encoded data removed]",
      "text/plain": [
       "<Figure size 1000x600 with 1 Axes>"
      ]
     },
     "metadata": {},
     "output_type": "display_data"
    }
   ],
   "source": [
    "plt.figure(figsize=(10, 6))\n",
    "sns.scatterplot(data=df, x='FastCharging', y='Price')\n",
    "plt.xticks(rotation=90)\n",
    "plt.show()"
   ]
  },
  {
   "cell_type": "code",
   "execution_count": 79,
   "metadata": {},
   "outputs": [],
   "source": [
    "y = df['Price'].apply(price_to_class)\n",
    "y_price = df['Price']"
   ]
  },
  {
   "cell_type": "code",
   "execution_count": 80,
   "metadata": {},
   "outputs": [],
   "source": [
    "df.drop(columns=['Price'], inplace=True)"
   ]
  },
  {
   "cell_type": "code",
   "execution_count": 81,
   "metadata": {},
   "outputs": [],
   "source": [
    "df['OS'] = df.OS.fillna(value='Other')\n",
    "df = pd.get_dummies(df, columns=['OS'], prefix='OS')"
   ]
  },
  {
   "cell_type": "code",
   "execution_count": 82,
   "metadata": {},
   "outputs": [
    {
     "data": {
      "text/plain": [
       "0"
      ]
     },
     "execution_count": 82,
     "metadata": {},
     "output_type": "execute_result"
    }
   ],
   "source": [
    "df.Vendor.isna().sum()"
   ]
  },
  {
   "cell_type": "code",
   "execution_count": 83,
   "metadata": {},
   "outputs": [],
   "source": [
    "df['Vendor'] = df.Vendor.fillna(value='Other')\n",
    "df = Encode_Vendor(df)"
   ]
  },
  {
   "cell_type": "code",
   "execution_count": 84,
   "metadata": {},
   "outputs": [
    {
     "data": {
      "text/html": [
       "<div>\n",
       "<style scoped>\n",
       "    .dataframe tbody tr th:only-of-type {\n",
       "        vertical-align: middle;\n",
       "    }\n",
       "\n",
       "    .dataframe tbody tr th {\n",
       "        vertical-align: top;\n",
       "    }\n",
       "\n",
       "    .dataframe thead th {\n",
       "        text-align: right;\n",
       "    }\n",
       "</style>\n",
       "<table border=\"1\" class=\"dataframe\">\n",
       "  <thead>\n",
       "    <tr style=\"text-align: right;\">\n",
       "      <th></th>\n",
       "      <th>Sim</th>\n",
       "      <th>3G</th>\n",
       "      <th>4G</th>\n",
       "      <th>5G</th>\n",
       "      <th>VoLTE</th>\n",
       "      <th>NFC</th>\n",
       "      <th>Wi-Fi</th>\n",
       "      <th>IR</th>\n",
       "      <th>Vo5G</th>\n",
       "      <th>Screen_Size</th>\n",
       "      <th>Resolution</th>\n",
       "      <th>Processor_Speed_MHz</th>\n",
       "      <th>RAM_MB</th>\n",
       "      <th>Memory_MB</th>\n",
       "      <th>BatterymAh</th>\n",
       "      <th>FastCharging</th>\n",
       "      <th>PC</th>\n",
       "      <th>FC</th>\n",
       "      <th>Version</th>\n",
       "      <th>OS_Android</th>\n",
       "      <th>OS_Other</th>\n",
       "      <th>OS_iOS</th>\n",
       "      <th>Vendor_APPLE</th>\n",
       "      <th>Vendor_INFINIX</th>\n",
       "      <th>Vendor_ITEL</th>\n",
       "      <th>Vendor_MOTOROLA</th>\n",
       "      <th>Vendor_NOKIA</th>\n",
       "      <th>Vendor_ONEPLUS</th>\n",
       "      <th>Vendor_OPPO</th>\n",
       "      <th>Vendor_Other</th>\n",
       "      <th>Vendor_POCO</th>\n",
       "      <th>Vendor_REALME</th>\n",
       "      <th>Vendor_SAMSUNG</th>\n",
       "      <th>Vendor_TECNO</th>\n",
       "      <th>Vendor_VIVO</th>\n",
       "      <th>Vendor_XIAOMI</th>\n",
       "    </tr>\n",
       "    <tr>\n",
       "      <th>Id</th>\n",
       "      <th></th>\n",
       "      <th></th>\n",
       "      <th></th>\n",
       "      <th></th>\n",
       "      <th></th>\n",
       "      <th></th>\n",
       "      <th></th>\n",
       "      <th></th>\n",
       "      <th></th>\n",
       "      <th></th>\n",
       "      <th></th>\n",
       "      <th></th>\n",
       "      <th></th>\n",
       "      <th></th>\n",
       "      <th></th>\n",
       "      <th></th>\n",
       "      <th></th>\n",
       "      <th></th>\n",
       "      <th></th>\n",
       "      <th></th>\n",
       "      <th></th>\n",
       "      <th></th>\n",
       "      <th></th>\n",
       "      <th></th>\n",
       "      <th></th>\n",
       "      <th></th>\n",
       "      <th></th>\n",
       "      <th></th>\n",
       "      <th></th>\n",
       "      <th></th>\n",
       "      <th></th>\n",
       "      <th></th>\n",
       "      <th></th>\n",
       "      <th></th>\n",
       "      <th></th>\n",
       "      <th></th>\n",
       "    </tr>\n",
       "  </thead>\n",
       "  <tbody>\n",
       "    <tr>\n",
       "      <th>581</th>\n",
       "      <td>2</td>\n",
       "      <td>1</td>\n",
       "      <td>1</td>\n",
       "      <td>1</td>\n",
       "      <td>1</td>\n",
       "      <td>1</td>\n",
       "      <td>1</td>\n",
       "      <td>0</td>\n",
       "      <td>0</td>\n",
       "      <td>6.62</td>\n",
       "      <td>2592000</td>\n",
       "      <td>3200.0</td>\n",
       "      <td>8192.0</td>\n",
       "      <td>131072.0</td>\n",
       "      <td>5000.0</td>\n",
       "      <td>65.0</td>\n",
       "      <td>64.0</td>\n",
       "      <td>16.0</td>\n",
       "      <td>11</td>\n",
       "      <td>True</td>\n",
       "      <td>False</td>\n",
       "      <td>False</td>\n",
       "      <td>False</td>\n",
       "      <td>False</td>\n",
       "      <td>False</td>\n",
       "      <td>False</td>\n",
       "      <td>False</td>\n",
       "      <td>False</td>\n",
       "      <td>False</td>\n",
       "      <td>False</td>\n",
       "      <td>False</td>\n",
       "      <td>True</td>\n",
       "      <td>False</td>\n",
       "      <td>False</td>\n",
       "      <td>False</td>\n",
       "      <td>False</td>\n",
       "    </tr>\n",
       "    <tr>\n",
       "      <th>146</th>\n",
       "      <td>2</td>\n",
       "      <td>1</td>\n",
       "      <td>1</td>\n",
       "      <td>0</td>\n",
       "      <td>1</td>\n",
       "      <td>0</td>\n",
       "      <td>1</td>\n",
       "      <td>0</td>\n",
       "      <td>0</td>\n",
       "      <td>6.71</td>\n",
       "      <td>1188000</td>\n",
       "      <td>2000.0</td>\n",
       "      <td>4096.0</td>\n",
       "      <td>65536.0</td>\n",
       "      <td>5000.0</td>\n",
       "      <td>10.0</td>\n",
       "      <td>50.0</td>\n",
       "      <td>5.0</td>\n",
       "      <td>12</td>\n",
       "      <td>True</td>\n",
       "      <td>False</td>\n",
       "      <td>False</td>\n",
       "      <td>False</td>\n",
       "      <td>False</td>\n",
       "      <td>False</td>\n",
       "      <td>False</td>\n",
       "      <td>False</td>\n",
       "      <td>False</td>\n",
       "      <td>False</td>\n",
       "      <td>False</td>\n",
       "      <td>True</td>\n",
       "      <td>False</td>\n",
       "      <td>False</td>\n",
       "      <td>False</td>\n",
       "      <td>False</td>\n",
       "      <td>False</td>\n",
       "    </tr>\n",
       "  </tbody>\n",
       "</table>\n",
       "</div>"
      ],
      "text/plain": [
       "     Sim  3G  4G  5G  VoLTE  NFC  Wi-Fi  IR  Vo5G  Screen_Size  Resolution  \\\n",
       "Id                                                                           \n",
       "581    2   1   1   1      1    1      1   0     0         6.62     2592000   \n",
       "146    2   1   1   0      1    0      1   0     0         6.71     1188000   \n",
       "\n",
       "     Processor_Speed_MHz  RAM_MB  Memory_MB  BatterymAh  FastCharging    PC  \\\n",
       "Id                                                                            \n",
       "581               3200.0  8192.0   131072.0      5000.0          65.0  64.0   \n",
       "146               2000.0  4096.0    65536.0      5000.0          10.0  50.0   \n",
       "\n",
       "       FC Version  OS_Android  OS_Other  OS_iOS  Vendor_APPLE  Vendor_INFINIX  \\\n",
       "Id                                                                              \n",
       "581  16.0      11        True     False   False         False           False   \n",
       "146   5.0      12        True     False   False         False           False   \n",
       "\n",
       "     Vendor_ITEL  Vendor_MOTOROLA  Vendor_NOKIA  Vendor_ONEPLUS  Vendor_OPPO  \\\n",
       "Id                                                                             \n",
       "581        False            False         False           False        False   \n",
       "146        False            False         False           False        False   \n",
       "\n",
       "     Vendor_Other  Vendor_POCO  Vendor_REALME  Vendor_SAMSUNG  Vendor_TECNO  \\\n",
       "Id                                                                            \n",
       "581         False        False           True           False         False   \n",
       "146         False         True          False           False         False   \n",
       "\n",
       "     Vendor_VIVO  Vendor_XIAOMI  \n",
       "Id                               \n",
       "581        False          False  \n",
       "146        False          False  "
      ]
     },
     "execution_count": 84,
     "metadata": {},
     "output_type": "execute_result"
    }
   ],
   "source": [
    "pd.set_option('display.max_columns', None)\n",
    "df.sample(2)"
   ]
  },
  {
   "cell_type": "code",
   "execution_count": 85,
   "metadata": {},
   "outputs": [
    {
     "data": {
      "text/plain": [
       "Index(['Sim', '3G', '4G', '5G', 'VoLTE', 'NFC', 'Wi-Fi', 'IR', 'Vo5G',\n",
       "       'Screen_Size', 'Resolution', 'Processor_Speed_MHz', 'RAM_MB',\n",
       "       'Memory_MB', 'BatterymAh', 'FastCharging', 'PC', 'FC', 'Version',\n",
       "       'OS_Android', 'OS_Other', 'OS_iOS', 'Vendor_APPLE', 'Vendor_INFINIX',\n",
       "       'Vendor_ITEL', 'Vendor_MOTOROLA', 'Vendor_NOKIA', 'Vendor_ONEPLUS',\n",
       "       'Vendor_OPPO', 'Vendor_Other', 'Vendor_POCO', 'Vendor_REALME',\n",
       "       'Vendor_SAMSUNG', 'Vendor_TECNO', 'Vendor_VIVO', 'Vendor_XIAOMI'],\n",
       "      dtype='object')"
      ]
     },
     "execution_count": 85,
     "metadata": {},
     "output_type": "execute_result"
    }
   ],
   "source": [
    "df.columns"
   ]
  },
  {
   "cell_type": "code",
   "execution_count": 86,
   "metadata": {},
   "outputs": [
    {
     "data": {
      "text/plain": [
       "<Axes: xlabel='Price', ylabel='Density'>"
      ]
     },
     "execution_count": 86,
     "metadata": {},
     "output_type": "execute_result"
    },
    {
     "data": {
      "image/png": "[encoded data removed]",
      "text/plain": [
       "<Figure size 640x480 with 1 Axes>"
      ]
     },
     "metadata": {},
     "output_type": "display_data"
    }
   ],
   "source": [
    "sns.kdeplot(data=y_price)"
   ]
  },
  {
   "cell_type": "code",
   "execution_count": 87,
   "metadata": {},
   "outputs": [],
   "source": [
    "from sklearn.ensemble import RandomForestClassifier\n",
    "from sklearn.svm import SVC\n",
    "from sklearn.linear_model import LogisticRegression\n",
    "from sklearn.model_selection import cross_val_score\n",
    "from sklearn.model_selection import KFold\n",
    "from sklearn.model_selection import StratifiedKFold, train_test_split\n",
    "\n",
    "def evaluate_model(model, X, y):\n",
    "    kfold = KFold(n_splits=5, shuffle=True, random_state=42)  # For regular cross-validation\n",
    "    # stratified_kfold = StratifiedKFold(n_splits=5, shuffle=True, random_state=42)  # For stratified cross-validation\n",
    "    scores = cross_val_score(model, X, y, cv=kfold, scoring='recall')  # For regular cross-validation\n",
    "    # scores = cross_val_score(model, X, y, cv=stratified_kfold)  # For stratified cross-validation\n",
    "    # for metric, score in zip(scoring, scores.T):\n",
    "    #     print(f\"{metric}: {score.mean():.3f} (±{score.std():.3f})\")\n",
    "    print(scores)"
   ]
  },
  {
   "cell_type": "code",
   "execution_count": 88,
   "metadata": {},
   "outputs": [],
   "source": [
    "pipeline = Pipeline([\n",
    "    ('impute_Processor_Speed_MHz', FunctionTransformer(Impute_Processor_Speed_MHz)),\n",
    "    ('impute_RAM_MB', FunctionTransformer(Impute_RAM_MB)),\n",
    "    ('impute_Memory_MB', FunctionTransformer(Impute_Memory_MB)),\n",
    "    ('impute_BatterymAh', FunctionTransformer(Impute_BatterymAh)),\n",
    "    ('impute_FastCharging', FunctionTransformer(Impute_FastCharging)),\n",
    "    ('impute_FC', FunctionTransformer(Impute_FC)),\n",
    "    ('impute_PC', FunctionTransformer(Impute_PC)),\n",
    "    # ('impute_OS', FunctionTransformer(Impute_OS)),\n",
    "    # ('impute_Version', FunctionTransformer(Impute_Version)),\n",
    "    # ('encode_Vendor', FunctionTransformer(Encode_Vendor)),\n",
    "    # ('encode_OS', FunctionTransformer(Encode_OS)),\n",
    "    ('convert_Version', FunctionTransformer(Convert_Version)),\n",
    "    ('impute_Version', FunctionTransformer(Impute_Version)),\n",
    "    # ('model', RandomForestClassifier())\n",
    "])"
   ]
  },
  {
   "cell_type": "code",
   "execution_count": null,
   "metadata": {},
   "outputs": [],
   "source": [
    "# evaluate_model(pipeline, df, y)"
   ]
  },
  {
   "cell_type": "code",
   "execution_count": 89,
   "metadata": {},
   "outputs": [
    {
     "data": {
      "text/plain": [
       "Index(['Sim', '3G', '4G', '5G', 'VoLTE', 'NFC', 'Wi-Fi', 'IR', 'Vo5G',\n",
       "       'Screen_Size', 'Resolution', 'Processor_Speed_MHz', 'RAM_MB',\n",
       "       'Memory_MB', 'BatterymAh', 'FastCharging', 'PC', 'FC', 'Version',\n",
       "       'OS_Android', 'OS_Other', 'OS_iOS', 'Vendor_APPLE', 'Vendor_INFINIX',\n",
       "       'Vendor_ITEL', 'Vendor_MOTOROLA', 'Vendor_NOKIA', 'Vendor_ONEPLUS',\n",
       "       'Vendor_OPPO', 'Vendor_Other', 'Vendor_POCO', 'Vendor_REALME',\n",
       "       'Vendor_SAMSUNG', 'Vendor_TECNO', 'Vendor_VIVO', 'Vendor_XIAOMI'],\n",
       "      dtype='object')"
      ]
     },
     "execution_count": 89,
     "metadata": {},
     "output_type": "execute_result"
    }
   ],
   "source": [
    "df.columns"
   ]
  },
  {
   "cell_type": "code",
   "execution_count": 90,
   "metadata": {},
   "outputs": [],
   "source": [
    "X_train, X_test, y_train, y_test = train_test_split(df, y, test_size=0.2, random_state=42)"
   ]
  },
  {
   "cell_type": "code",
   "execution_count": 91,
   "metadata": {},
   "outputs": [
    {
     "data": {
      "text/html": [
       "<div>\n",
       "<style scoped>\n",
       "    .dataframe tbody tr th:only-of-type {\n",
       "        vertical-align: middle;\n",
       "    }\n",
       "\n",
       "    .dataframe tbody tr th {\n",
       "        vertical-align: top;\n",
       "    }\n",
       "\n",
       "    .dataframe thead th {\n",
       "        text-align: right;\n",
       "    }\n",
       "</style>\n",
       "<table border=\"1\" class=\"dataframe\">\n",
       "  <thead>\n",
       "    <tr style=\"text-align: right;\">\n",
       "      <th></th>\n",
       "      <th>Sim</th>\n",
       "      <th>3G</th>\n",
       "      <th>4G</th>\n",
       "      <th>5G</th>\n",
       "      <th>VoLTE</th>\n",
       "      <th>NFC</th>\n",
       "      <th>Wi-Fi</th>\n",
       "      <th>IR</th>\n",
       "      <th>Vo5G</th>\n",
       "      <th>Screen_Size</th>\n",
       "      <th>Resolution</th>\n",
       "      <th>Processor_Speed_MHz</th>\n",
       "      <th>RAM_MB</th>\n",
       "      <th>Memory_MB</th>\n",
       "      <th>BatterymAh</th>\n",
       "      <th>FastCharging</th>\n",
       "      <th>PC</th>\n",
       "      <th>FC</th>\n",
       "      <th>Version</th>\n",
       "      <th>OS_Android</th>\n",
       "      <th>OS_Other</th>\n",
       "      <th>OS_iOS</th>\n",
       "      <th>Vendor_APPLE</th>\n",
       "      <th>Vendor_INFINIX</th>\n",
       "      <th>Vendor_ITEL</th>\n",
       "      <th>Vendor_MOTOROLA</th>\n",
       "      <th>Vendor_NOKIA</th>\n",
       "      <th>Vendor_ONEPLUS</th>\n",
       "      <th>Vendor_OPPO</th>\n",
       "      <th>Vendor_Other</th>\n",
       "      <th>Vendor_POCO</th>\n",
       "      <th>Vendor_REALME</th>\n",
       "      <th>Vendor_SAMSUNG</th>\n",
       "      <th>Vendor_TECNO</th>\n",
       "      <th>Vendor_VIVO</th>\n",
       "      <th>Vendor_XIAOMI</th>\n",
       "    </tr>\n",
       "    <tr>\n",
       "      <th>Id</th>\n",
       "      <th></th>\n",
       "      <th></th>\n",
       "      <th></th>\n",
       "      <th></th>\n",
       "      <th></th>\n",
       "      <th></th>\n",
       "      <th></th>\n",
       "      <th></th>\n",
       "      <th></th>\n",
       "      <th></th>\n",
       "      <th></th>\n",
       "      <th></th>\n",
       "      <th></th>\n",
       "      <th></th>\n",
       "      <th></th>\n",
       "      <th></th>\n",
       "      <th></th>\n",
       "      <th></th>\n",
       "      <th></th>\n",
       "      <th></th>\n",
       "      <th></th>\n",
       "      <th></th>\n",
       "      <th></th>\n",
       "      <th></th>\n",
       "      <th></th>\n",
       "      <th></th>\n",
       "      <th></th>\n",
       "      <th></th>\n",
       "      <th></th>\n",
       "      <th></th>\n",
       "      <th></th>\n",
       "      <th></th>\n",
       "      <th></th>\n",
       "      <th></th>\n",
       "      <th></th>\n",
       "      <th></th>\n",
       "    </tr>\n",
       "  </thead>\n",
       "  <tbody>\n",
       "    <tr>\n",
       "      <th>743</th>\n",
       "      <td>2</td>\n",
       "      <td>1</td>\n",
       "      <td>1</td>\n",
       "      <td>0</td>\n",
       "      <td>1</td>\n",
       "      <td>0</td>\n",
       "      <td>1</td>\n",
       "      <td>0</td>\n",
       "      <td>0</td>\n",
       "      <td>6.52</td>\n",
       "      <td>1152000</td>\n",
       "      <td>2300.0</td>\n",
       "      <td>3072.0</td>\n",
       "      <td>32768.0</td>\n",
       "      <td>4230.0</td>\n",
       "      <td>10.0</td>\n",
       "      <td>13.0</td>\n",
       "      <td>5.0</td>\n",
       "      <td>11</td>\n",
       "      <td>True</td>\n",
       "      <td>False</td>\n",
       "      <td>False</td>\n",
       "      <td>False</td>\n",
       "      <td>False</td>\n",
       "      <td>False</td>\n",
       "      <td>False</td>\n",
       "      <td>False</td>\n",
       "      <td>False</td>\n",
       "      <td>True</td>\n",
       "      <td>False</td>\n",
       "      <td>False</td>\n",
       "      <td>False</td>\n",
       "      <td>False</td>\n",
       "      <td>False</td>\n",
       "      <td>False</td>\n",
       "      <td>False</td>\n",
       "    </tr>\n",
       "    <tr>\n",
       "      <th>137</th>\n",
       "      <td>2</td>\n",
       "      <td>1</td>\n",
       "      <td>1</td>\n",
       "      <td>1</td>\n",
       "      <td>1</td>\n",
       "      <td>0</td>\n",
       "      <td>1</td>\n",
       "      <td>0</td>\n",
       "      <td>0</td>\n",
       "      <td>6.72</td>\n",
       "      <td>2592000</td>\n",
       "      <td>2200.0</td>\n",
       "      <td>4096.0</td>\n",
       "      <td>131072.0</td>\n",
       "      <td>5000.0</td>\n",
       "      <td>33.0</td>\n",
       "      <td>50.0</td>\n",
       "      <td>8.0</td>\n",
       "      <td>13</td>\n",
       "      <td>True</td>\n",
       "      <td>False</td>\n",
       "      <td>False</td>\n",
       "      <td>False</td>\n",
       "      <td>False</td>\n",
       "      <td>False</td>\n",
       "      <td>False</td>\n",
       "      <td>False</td>\n",
       "      <td>False</td>\n",
       "      <td>False</td>\n",
       "      <td>False</td>\n",
       "      <td>False</td>\n",
       "      <td>True</td>\n",
       "      <td>False</td>\n",
       "      <td>False</td>\n",
       "      <td>False</td>\n",
       "      <td>False</td>\n",
       "    </tr>\n",
       "    <tr>\n",
       "      <th>799</th>\n",
       "      <td>2</td>\n",
       "      <td>1</td>\n",
       "      <td>1</td>\n",
       "      <td>0</td>\n",
       "      <td>1</td>\n",
       "      <td>0</td>\n",
       "      <td>1</td>\n",
       "      <td>0</td>\n",
       "      <td>0</td>\n",
       "      <td>5.00</td>\n",
       "      <td>408000</td>\n",
       "      <td>2.0</td>\n",
       "      <td>2048.0</td>\n",
       "      <td>32768.0</td>\n",
       "      <td>3000.0</td>\n",
       "      <td>10.0</td>\n",
       "      <td>13.0</td>\n",
       "      <td>5.0</td>\n",
       "      <td>13</td>\n",
       "      <td>True</td>\n",
       "      <td>False</td>\n",
       "      <td>False</td>\n",
       "      <td>False</td>\n",
       "      <td>False</td>\n",
       "      <td>False</td>\n",
       "      <td>False</td>\n",
       "      <td>False</td>\n",
       "      <td>False</td>\n",
       "      <td>False</td>\n",
       "      <td>True</td>\n",
       "      <td>False</td>\n",
       "      <td>False</td>\n",
       "      <td>False</td>\n",
       "      <td>False</td>\n",
       "      <td>False</td>\n",
       "      <td>False</td>\n",
       "    </tr>\n",
       "    <tr>\n",
       "      <th>933</th>\n",
       "      <td>2</td>\n",
       "      <td>1</td>\n",
       "      <td>1</td>\n",
       "      <td>0</td>\n",
       "      <td>1</td>\n",
       "      <td>0</td>\n",
       "      <td>1</td>\n",
       "      <td>0</td>\n",
       "      <td>0</td>\n",
       "      <td>6.39</td>\n",
       "      <td>1123200</td>\n",
       "      <td>2000.0</td>\n",
       "      <td>4096.0</td>\n",
       "      <td>65536.0</td>\n",
       "      <td>4000.0</td>\n",
       "      <td>10.0</td>\n",
       "      <td>48.0</td>\n",
       "      <td>16.0</td>\n",
       "      <td>10</td>\n",
       "      <td>True</td>\n",
       "      <td>False</td>\n",
       "      <td>False</td>\n",
       "      <td>False</td>\n",
       "      <td>False</td>\n",
       "      <td>False</td>\n",
       "      <td>False</td>\n",
       "      <td>True</td>\n",
       "      <td>False</td>\n",
       "      <td>False</td>\n",
       "      <td>False</td>\n",
       "      <td>False</td>\n",
       "      <td>False</td>\n",
       "      <td>False</td>\n",
       "      <td>False</td>\n",
       "      <td>False</td>\n",
       "      <td>False</td>\n",
       "    </tr>\n",
       "    <tr>\n",
       "      <th>822</th>\n",
       "      <td>2</td>\n",
       "      <td>1</td>\n",
       "      <td>1</td>\n",
       "      <td>1</td>\n",
       "      <td>1</td>\n",
       "      <td>0</td>\n",
       "      <td>1</td>\n",
       "      <td>0</td>\n",
       "      <td>0</td>\n",
       "      <td>6.38</td>\n",
       "      <td>2592000</td>\n",
       "      <td>2200.0</td>\n",
       "      <td>8192.0</td>\n",
       "      <td>131072.0</td>\n",
       "      <td>4500.0</td>\n",
       "      <td>44.0</td>\n",
       "      <td>64.0</td>\n",
       "      <td>16.0</td>\n",
       "      <td>13</td>\n",
       "      <td>True</td>\n",
       "      <td>False</td>\n",
       "      <td>False</td>\n",
       "      <td>False</td>\n",
       "      <td>False</td>\n",
       "      <td>False</td>\n",
       "      <td>False</td>\n",
       "      <td>False</td>\n",
       "      <td>False</td>\n",
       "      <td>False</td>\n",
       "      <td>False</td>\n",
       "      <td>False</td>\n",
       "      <td>False</td>\n",
       "      <td>False</td>\n",
       "      <td>False</td>\n",
       "      <td>True</td>\n",
       "      <td>False</td>\n",
       "    </tr>\n",
       "    <tr>\n",
       "      <th>...</th>\n",
       "      <td>...</td>\n",
       "      <td>...</td>\n",
       "      <td>...</td>\n",
       "      <td>...</td>\n",
       "      <td>...</td>\n",
       "      <td>...</td>\n",
       "      <td>...</td>\n",
       "      <td>...</td>\n",
       "      <td>...</td>\n",
       "      <td>...</td>\n",
       "      <td>...</td>\n",
       "      <td>...</td>\n",
       "      <td>...</td>\n",
       "      <td>...</td>\n",
       "      <td>...</td>\n",
       "      <td>...</td>\n",
       "      <td>...</td>\n",
       "      <td>...</td>\n",
       "      <td>...</td>\n",
       "      <td>...</td>\n",
       "      <td>...</td>\n",
       "      <td>...</td>\n",
       "      <td>...</td>\n",
       "      <td>...</td>\n",
       "      <td>...</td>\n",
       "      <td>...</td>\n",
       "      <td>...</td>\n",
       "      <td>...</td>\n",
       "      <td>...</td>\n",
       "      <td>...</td>\n",
       "      <td>...</td>\n",
       "      <td>...</td>\n",
       "      <td>...</td>\n",
       "      <td>...</td>\n",
       "      <td>...</td>\n",
       "      <td>...</td>\n",
       "    </tr>\n",
       "    <tr>\n",
       "      <th>106</th>\n",
       "      <td>2</td>\n",
       "      <td>1</td>\n",
       "      <td>1</td>\n",
       "      <td>0</td>\n",
       "      <td>1</td>\n",
       "      <td>0</td>\n",
       "      <td>1</td>\n",
       "      <td>0</td>\n",
       "      <td>0</td>\n",
       "      <td>6.51</td>\n",
       "      <td>1152000</td>\n",
       "      <td>2300.0</td>\n",
       "      <td>4096.0</td>\n",
       "      <td>131072.0</td>\n",
       "      <td>5000.0</td>\n",
       "      <td>10.0</td>\n",
       "      <td>13.0</td>\n",
       "      <td>5.0</td>\n",
       "      <td>12</td>\n",
       "      <td>True</td>\n",
       "      <td>False</td>\n",
       "      <td>False</td>\n",
       "      <td>False</td>\n",
       "      <td>False</td>\n",
       "      <td>False</td>\n",
       "      <td>False</td>\n",
       "      <td>False</td>\n",
       "      <td>False</td>\n",
       "      <td>False</td>\n",
       "      <td>False</td>\n",
       "      <td>False</td>\n",
       "      <td>False</td>\n",
       "      <td>False</td>\n",
       "      <td>False</td>\n",
       "      <td>True</td>\n",
       "      <td>False</td>\n",
       "    </tr>\n",
       "    <tr>\n",
       "      <th>270</th>\n",
       "      <td>2</td>\n",
       "      <td>1</td>\n",
       "      <td>1</td>\n",
       "      <td>1</td>\n",
       "      <td>1</td>\n",
       "      <td>1</td>\n",
       "      <td>1</td>\n",
       "      <td>0</td>\n",
       "      <td>0</td>\n",
       "      <td>4.70</td>\n",
       "      <td>1000500</td>\n",
       "      <td>3220.0</td>\n",
       "      <td>6144.0</td>\n",
       "      <td>131072.0</td>\n",
       "      <td>5000.0</td>\n",
       "      <td>10.0</td>\n",
       "      <td>12.0</td>\n",
       "      <td>7.0</td>\n",
       "      <td>15</td>\n",
       "      <td>False</td>\n",
       "      <td>False</td>\n",
       "      <td>True</td>\n",
       "      <td>True</td>\n",
       "      <td>False</td>\n",
       "      <td>False</td>\n",
       "      <td>False</td>\n",
       "      <td>False</td>\n",
       "      <td>False</td>\n",
       "      <td>False</td>\n",
       "      <td>False</td>\n",
       "      <td>False</td>\n",
       "      <td>False</td>\n",
       "      <td>False</td>\n",
       "      <td>False</td>\n",
       "      <td>False</td>\n",
       "      <td>False</td>\n",
       "    </tr>\n",
       "    <tr>\n",
       "      <th>860</th>\n",
       "      <td>2</td>\n",
       "      <td>0</td>\n",
       "      <td>0</td>\n",
       "      <td>0</td>\n",
       "      <td>0</td>\n",
       "      <td>0</td>\n",
       "      <td>0</td>\n",
       "      <td>0</td>\n",
       "      <td>0</td>\n",
       "      <td>1.80</td>\n",
       "      <td>20480</td>\n",
       "      <td>2200.0</td>\n",
       "      <td>4.0</td>\n",
       "      <td>4.0</td>\n",
       "      <td>1200.0</td>\n",
       "      <td>10.0</td>\n",
       "      <td>0.3</td>\n",
       "      <td>0.0</td>\n",
       "      <td>1</td>\n",
       "      <td>False</td>\n",
       "      <td>True</td>\n",
       "      <td>False</td>\n",
       "      <td>False</td>\n",
       "      <td>False</td>\n",
       "      <td>True</td>\n",
       "      <td>False</td>\n",
       "      <td>False</td>\n",
       "      <td>False</td>\n",
       "      <td>False</td>\n",
       "      <td>False</td>\n",
       "      <td>False</td>\n",
       "      <td>False</td>\n",
       "      <td>False</td>\n",
       "      <td>False</td>\n",
       "      <td>False</td>\n",
       "      <td>False</td>\n",
       "    </tr>\n",
       "    <tr>\n",
       "      <th>435</th>\n",
       "      <td>2</td>\n",
       "      <td>1</td>\n",
       "      <td>1</td>\n",
       "      <td>1</td>\n",
       "      <td>1</td>\n",
       "      <td>1</td>\n",
       "      <td>1</td>\n",
       "      <td>0</td>\n",
       "      <td>0</td>\n",
       "      <td>6.67</td>\n",
       "      <td>2592000</td>\n",
       "      <td>3200.0</td>\n",
       "      <td>6144.0</td>\n",
       "      <td>131072.0</td>\n",
       "      <td>4500.0</td>\n",
       "      <td>67.0</td>\n",
       "      <td>64.0</td>\n",
       "      <td>20.0</td>\n",
       "      <td>12</td>\n",
       "      <td>True</td>\n",
       "      <td>False</td>\n",
       "      <td>False</td>\n",
       "      <td>False</td>\n",
       "      <td>False</td>\n",
       "      <td>False</td>\n",
       "      <td>False</td>\n",
       "      <td>False</td>\n",
       "      <td>False</td>\n",
       "      <td>False</td>\n",
       "      <td>False</td>\n",
       "      <td>True</td>\n",
       "      <td>False</td>\n",
       "      <td>False</td>\n",
       "      <td>False</td>\n",
       "      <td>False</td>\n",
       "      <td>False</td>\n",
       "    </tr>\n",
       "    <tr>\n",
       "      <th>102</th>\n",
       "      <td>2</td>\n",
       "      <td>1</td>\n",
       "      <td>1</td>\n",
       "      <td>1</td>\n",
       "      <td>1</td>\n",
       "      <td>1</td>\n",
       "      <td>1</td>\n",
       "      <td>0</td>\n",
       "      <td>0</td>\n",
       "      <td>6.50</td>\n",
       "      <td>2592000</td>\n",
       "      <td>2840.0</td>\n",
       "      <td>8192.0</td>\n",
       "      <td>131072.0</td>\n",
       "      <td>4500.0</td>\n",
       "      <td>10.0</td>\n",
       "      <td>12.0</td>\n",
       "      <td>32.0</td>\n",
       "      <td>10</td>\n",
       "      <td>True</td>\n",
       "      <td>False</td>\n",
       "      <td>False</td>\n",
       "      <td>False</td>\n",
       "      <td>False</td>\n",
       "      <td>False</td>\n",
       "      <td>False</td>\n",
       "      <td>False</td>\n",
       "      <td>False</td>\n",
       "      <td>False</td>\n",
       "      <td>False</td>\n",
       "      <td>False</td>\n",
       "      <td>False</td>\n",
       "      <td>True</td>\n",
       "      <td>False</td>\n",
       "      <td>False</td>\n",
       "      <td>False</td>\n",
       "    </tr>\n",
       "  </tbody>\n",
       "</table>\n",
       "<p>816 rows × 36 columns</p>\n",
       "</div>"
      ],
      "text/plain": [
       "     Sim  3G  4G  5G  VoLTE  NFC  Wi-Fi  IR  Vo5G  Screen_Size  Resolution  \\\n",
       "Id                                                                           \n",
       "743    2   1   1   0      1    0      1   0     0         6.52     1152000   \n",
       "137    2   1   1   1      1    0      1   0     0         6.72     2592000   \n",
       "799    2   1   1   0      1    0      1   0     0         5.00      408000   \n",
       "933    2   1   1   0      1    0      1   0     0         6.39     1123200   \n",
       "822    2   1   1   1      1    0      1   0     0         6.38     2592000   \n",
       "..   ...  ..  ..  ..    ...  ...    ...  ..   ...          ...         ...   \n",
       "106    2   1   1   0      1    0      1   0     0         6.51     1152000   \n",
       "270    2   1   1   1      1    1      1   0     0         4.70     1000500   \n",
       "860    2   0   0   0      0    0      0   0     0         1.80       20480   \n",
       "435    2   1   1   1      1    1      1   0     0         6.67     2592000   \n",
       "102    2   1   1   1      1    1      1   0     0         6.50     2592000   \n",
       "\n",
       "     Processor_Speed_MHz  RAM_MB  Memory_MB  BatterymAh  FastCharging    PC  \\\n",
       "Id                                                                            \n",
       "743               2300.0  3072.0    32768.0      4230.0          10.0  13.0   \n",
       "137               2200.0  4096.0   131072.0      5000.0          33.0  50.0   \n",
       "799                  2.0  2048.0    32768.0      3000.0          10.0  13.0   \n",
       "933               2000.0  4096.0    65536.0      4000.0          10.0  48.0   \n",
       "822               2200.0  8192.0   131072.0      4500.0          44.0  64.0   \n",
       "..                   ...     ...        ...         ...           ...   ...   \n",
       "106               2300.0  4096.0   131072.0      5000.0          10.0  13.0   \n",
       "270               3220.0  6144.0   131072.0      5000.0          10.0  12.0   \n",
       "860               2200.0     4.0        4.0      1200.0          10.0   0.3   \n",
       "435               3200.0  6144.0   131072.0      4500.0          67.0  64.0   \n",
       "102               2840.0  8192.0   131072.0      4500.0          10.0  12.0   \n",
       "\n",
       "       FC  Version  OS_Android  OS_Other  OS_iOS  Vendor_APPLE  \\\n",
       "Id                                                               \n",
       "743   5.0       11        True     False   False         False   \n",
       "137   8.0       13        True     False   False         False   \n",
       "799   5.0       13        True     False   False         False   \n",
       "933  16.0       10        True     False   False         False   \n",
       "822  16.0       13        True     False   False         False   \n",
       "..    ...      ...         ...       ...     ...           ...   \n",
       "106   5.0       12        True     False   False         False   \n",
       "270   7.0       15       False     False    True          True   \n",
       "860   0.0        1       False      True   False         False   \n",
       "435  20.0       12        True     False   False         False   \n",
       "102  32.0       10        True     False   False         False   \n",
       "\n",
       "     Vendor_INFINIX  Vendor_ITEL  Vendor_MOTOROLA  Vendor_NOKIA  \\\n",
       "Id                                                                \n",
       "743           False        False            False         False   \n",
       "137           False        False            False         False   \n",
       "799           False        False            False         False   \n",
       "933           False        False            False          True   \n",
       "822           False        False            False         False   \n",
       "..              ...          ...              ...           ...   \n",
       "106           False        False            False         False   \n",
       "270           False        False            False         False   \n",
       "860           False         True            False         False   \n",
       "435           False        False            False         False   \n",
       "102           False        False            False         False   \n",
       "\n",
       "     Vendor_ONEPLUS  Vendor_OPPO  Vendor_Other  Vendor_POCO  Vendor_REALME  \\\n",
       "Id                                                                           \n",
       "743           False         True         False        False          False   \n",
       "137           False        False         False        False           True   \n",
       "799           False        False          True        False          False   \n",
       "933           False        False         False        False          False   \n",
       "822           False        False         False        False          False   \n",
       "..              ...          ...           ...          ...            ...   \n",
       "106           False        False         False        False          False   \n",
       "270           False        False         False        False          False   \n",
       "860           False        False         False        False          False   \n",
       "435           False        False         False         True          False   \n",
       "102           False        False         False        False          False   \n",
       "\n",
       "     Vendor_SAMSUNG  Vendor_TECNO  Vendor_VIVO  Vendor_XIAOMI  \n",
       "Id                                                             \n",
       "743           False         False        False          False  \n",
       "137           False         False        False          False  \n",
       "799           False         False        False          False  \n",
       "933           False         False        False          False  \n",
       "822           False         False         True          False  \n",
       "..              ...           ...          ...            ...  \n",
       "106           False         False         True          False  \n",
       "270           False         False        False          False  \n",
       "860           False         False        False          False  \n",
       "435           False         False        False          False  \n",
       "102            True         False        False          False  \n",
       "\n",
       "[816 rows x 36 columns]"
      ]
     },
     "execution_count": 91,
     "metadata": {},
     "output_type": "execute_result"
    }
   ],
   "source": [
    "X_train = pipeline.fit_transform(X_train)\n",
    "X_train"
   ]
  },
  {
   "cell_type": "code",
   "execution_count": 92,
   "metadata": {},
   "outputs": [
    {
     "data": {
      "text/html": [
       "<div>\n",
       "<style scoped>\n",
       "    .dataframe tbody tr th:only-of-type {\n",
       "        vertical-align: middle;\n",
       "    }\n",
       "\n",
       "    .dataframe tbody tr th {\n",
       "        vertical-align: top;\n",
       "    }\n",
       "\n",
       "    .dataframe thead th {\n",
       "        text-align: right;\n",
       "    }\n",
       "</style>\n",
       "<table border=\"1\" class=\"dataframe\">\n",
       "  <thead>\n",
       "    <tr style=\"text-align: right;\">\n",
       "      <th></th>\n",
       "      <th>Sim</th>\n",
       "      <th>3G</th>\n",
       "      <th>4G</th>\n",
       "      <th>5G</th>\n",
       "      <th>VoLTE</th>\n",
       "      <th>NFC</th>\n",
       "      <th>Wi-Fi</th>\n",
       "      <th>IR</th>\n",
       "      <th>Vo5G</th>\n",
       "      <th>Screen_Size</th>\n",
       "      <th>Resolution</th>\n",
       "      <th>Processor_Speed_MHz</th>\n",
       "      <th>RAM_MB</th>\n",
       "      <th>Memory_MB</th>\n",
       "      <th>BatterymAh</th>\n",
       "      <th>FastCharging</th>\n",
       "      <th>PC</th>\n",
       "      <th>FC</th>\n",
       "      <th>Version</th>\n",
       "      <th>OS_Android</th>\n",
       "      <th>OS_Other</th>\n",
       "      <th>OS_iOS</th>\n",
       "      <th>Vendor_APPLE</th>\n",
       "      <th>Vendor_INFINIX</th>\n",
       "      <th>Vendor_ITEL</th>\n",
       "      <th>Vendor_MOTOROLA</th>\n",
       "      <th>Vendor_NOKIA</th>\n",
       "      <th>Vendor_ONEPLUS</th>\n",
       "      <th>Vendor_OPPO</th>\n",
       "      <th>Vendor_Other</th>\n",
       "      <th>Vendor_POCO</th>\n",
       "      <th>Vendor_REALME</th>\n",
       "      <th>Vendor_SAMSUNG</th>\n",
       "      <th>Vendor_TECNO</th>\n",
       "      <th>Vendor_VIVO</th>\n",
       "      <th>Vendor_XIAOMI</th>\n",
       "    </tr>\n",
       "    <tr>\n",
       "      <th>Id</th>\n",
       "      <th></th>\n",
       "      <th></th>\n",
       "      <th></th>\n",
       "      <th></th>\n",
       "      <th></th>\n",
       "      <th></th>\n",
       "      <th></th>\n",
       "      <th></th>\n",
       "      <th></th>\n",
       "      <th></th>\n",
       "      <th></th>\n",
       "      <th></th>\n",
       "      <th></th>\n",
       "      <th></th>\n",
       "      <th></th>\n",
       "      <th></th>\n",
       "      <th></th>\n",
       "      <th></th>\n",
       "      <th></th>\n",
       "      <th></th>\n",
       "      <th></th>\n",
       "      <th></th>\n",
       "      <th></th>\n",
       "      <th></th>\n",
       "      <th></th>\n",
       "      <th></th>\n",
       "      <th></th>\n",
       "      <th></th>\n",
       "      <th></th>\n",
       "      <th></th>\n",
       "      <th></th>\n",
       "      <th></th>\n",
       "      <th></th>\n",
       "      <th></th>\n",
       "      <th></th>\n",
       "      <th></th>\n",
       "    </tr>\n",
       "  </thead>\n",
       "  <tbody>\n",
       "    <tr>\n",
       "      <th>523</th>\n",
       "      <td>2</td>\n",
       "      <td>1</td>\n",
       "      <td>1</td>\n",
       "      <td>1</td>\n",
       "      <td>1</td>\n",
       "      <td>0</td>\n",
       "      <td>1</td>\n",
       "      <td>0</td>\n",
       "      <td>0</td>\n",
       "      <td>6.44</td>\n",
       "      <td>2592000</td>\n",
       "      <td>2400.0</td>\n",
       "      <td>8192.0</td>\n",
       "      <td>131072.0</td>\n",
       "      <td>4000.0</td>\n",
       "      <td>33.0</td>\n",
       "      <td>64.0</td>\n",
       "      <td>44.0</td>\n",
       "      <td>11</td>\n",
       "      <td>True</td>\n",
       "      <td>False</td>\n",
       "      <td>False</td>\n",
       "      <td>False</td>\n",
       "      <td>False</td>\n",
       "      <td>False</td>\n",
       "      <td>False</td>\n",
       "      <td>False</td>\n",
       "      <td>False</td>\n",
       "      <td>False</td>\n",
       "      <td>False</td>\n",
       "      <td>False</td>\n",
       "      <td>False</td>\n",
       "      <td>False</td>\n",
       "      <td>False</td>\n",
       "      <td>True</td>\n",
       "      <td>False</td>\n",
       "    </tr>\n",
       "    <tr>\n",
       "      <th>602</th>\n",
       "      <td>2</td>\n",
       "      <td>1</td>\n",
       "      <td>1</td>\n",
       "      <td>0</td>\n",
       "      <td>1</td>\n",
       "      <td>0</td>\n",
       "      <td>0</td>\n",
       "      <td>0</td>\n",
       "      <td>0</td>\n",
       "      <td>2.40</td>\n",
       "      <td>134400</td>\n",
       "      <td>256.0</td>\n",
       "      <td>32.0</td>\n",
       "      <td>32.0</td>\n",
       "      <td>3000.0</td>\n",
       "      <td>10.0</td>\n",
       "      <td>0.3</td>\n",
       "      <td>0.0</td>\n",
       "      <td>1</td>\n",
       "      <td>False</td>\n",
       "      <td>True</td>\n",
       "      <td>False</td>\n",
       "      <td>False</td>\n",
       "      <td>False</td>\n",
       "      <td>False</td>\n",
       "      <td>False</td>\n",
       "      <td>False</td>\n",
       "      <td>False</td>\n",
       "      <td>False</td>\n",
       "      <td>True</td>\n",
       "      <td>False</td>\n",
       "      <td>False</td>\n",
       "      <td>False</td>\n",
       "      <td>False</td>\n",
       "      <td>False</td>\n",
       "      <td>False</td>\n",
       "    </tr>\n",
       "    <tr>\n",
       "      <th>526</th>\n",
       "      <td>2</td>\n",
       "      <td>1</td>\n",
       "      <td>1</td>\n",
       "      <td>1</td>\n",
       "      <td>1</td>\n",
       "      <td>1</td>\n",
       "      <td>1</td>\n",
       "      <td>0</td>\n",
       "      <td>0</td>\n",
       "      <td>6.20</td>\n",
       "      <td>2592000</td>\n",
       "      <td>2900.0</td>\n",
       "      <td>8192.0</td>\n",
       "      <td>262144.0</td>\n",
       "      <td>4000.0</td>\n",
       "      <td>25.0</td>\n",
       "      <td>64.0</td>\n",
       "      <td>10.0</td>\n",
       "      <td>10</td>\n",
       "      <td>True</td>\n",
       "      <td>False</td>\n",
       "      <td>False</td>\n",
       "      <td>False</td>\n",
       "      <td>False</td>\n",
       "      <td>False</td>\n",
       "      <td>False</td>\n",
       "      <td>False</td>\n",
       "      <td>False</td>\n",
       "      <td>False</td>\n",
       "      <td>False</td>\n",
       "      <td>False</td>\n",
       "      <td>False</td>\n",
       "      <td>True</td>\n",
       "      <td>False</td>\n",
       "      <td>False</td>\n",
       "      <td>False</td>\n",
       "    </tr>\n",
       "    <tr>\n",
       "      <th>31</th>\n",
       "      <td>2</td>\n",
       "      <td>1</td>\n",
       "      <td>1</td>\n",
       "      <td>1</td>\n",
       "      <td>1</td>\n",
       "      <td>1</td>\n",
       "      <td>1</td>\n",
       "      <td>1</td>\n",
       "      <td>0</td>\n",
       "      <td>6.74</td>\n",
       "      <td>3437280</td>\n",
       "      <td>3050.0</td>\n",
       "      <td>8192.0</td>\n",
       "      <td>131072.0</td>\n",
       "      <td>5000.0</td>\n",
       "      <td>80.0</td>\n",
       "      <td>50.0</td>\n",
       "      <td>16.0</td>\n",
       "      <td>13</td>\n",
       "      <td>True</td>\n",
       "      <td>False</td>\n",
       "      <td>False</td>\n",
       "      <td>False</td>\n",
       "      <td>False</td>\n",
       "      <td>False</td>\n",
       "      <td>False</td>\n",
       "      <td>False</td>\n",
       "      <td>True</td>\n",
       "      <td>False</td>\n",
       "      <td>False</td>\n",
       "      <td>False</td>\n",
       "      <td>False</td>\n",
       "      <td>False</td>\n",
       "      <td>False</td>\n",
       "      <td>False</td>\n",
       "      <td>False</td>\n",
       "    </tr>\n",
       "    <tr>\n",
       "      <th>616</th>\n",
       "      <td>2</td>\n",
       "      <td>0</td>\n",
       "      <td>0</td>\n",
       "      <td>0</td>\n",
       "      <td>0</td>\n",
       "      <td>0</td>\n",
       "      <td>0</td>\n",
       "      <td>0</td>\n",
       "      <td>0</td>\n",
       "      <td>2.80</td>\n",
       "      <td>76800</td>\n",
       "      <td>2300.0</td>\n",
       "      <td>6144.0</td>\n",
       "      <td>131072.0</td>\n",
       "      <td>10000.0</td>\n",
       "      <td>10.0</td>\n",
       "      <td>0.3</td>\n",
       "      <td>0.0</td>\n",
       "      <td>1</td>\n",
       "      <td>False</td>\n",
       "      <td>True</td>\n",
       "      <td>False</td>\n",
       "      <td>False</td>\n",
       "      <td>False</td>\n",
       "      <td>True</td>\n",
       "      <td>False</td>\n",
       "      <td>False</td>\n",
       "      <td>False</td>\n",
       "      <td>False</td>\n",
       "      <td>False</td>\n",
       "      <td>False</td>\n",
       "      <td>False</td>\n",
       "      <td>False</td>\n",
       "      <td>False</td>\n",
       "      <td>False</td>\n",
       "      <td>False</td>\n",
       "    </tr>\n",
       "    <tr>\n",
       "      <th>...</th>\n",
       "      <td>...</td>\n",
       "      <td>...</td>\n",
       "      <td>...</td>\n",
       "      <td>...</td>\n",
       "      <td>...</td>\n",
       "      <td>...</td>\n",
       "      <td>...</td>\n",
       "      <td>...</td>\n",
       "      <td>...</td>\n",
       "      <td>...</td>\n",
       "      <td>...</td>\n",
       "      <td>...</td>\n",
       "      <td>...</td>\n",
       "      <td>...</td>\n",
       "      <td>...</td>\n",
       "      <td>...</td>\n",
       "      <td>...</td>\n",
       "      <td>...</td>\n",
       "      <td>...</td>\n",
       "      <td>...</td>\n",
       "      <td>...</td>\n",
       "      <td>...</td>\n",
       "      <td>...</td>\n",
       "      <td>...</td>\n",
       "      <td>...</td>\n",
       "      <td>...</td>\n",
       "      <td>...</td>\n",
       "      <td>...</td>\n",
       "      <td>...</td>\n",
       "      <td>...</td>\n",
       "      <td>...</td>\n",
       "      <td>...</td>\n",
       "      <td>...</td>\n",
       "      <td>...</td>\n",
       "      <td>...</td>\n",
       "      <td>...</td>\n",
       "    </tr>\n",
       "    <tr>\n",
       "      <th>516</th>\n",
       "      <td>2</td>\n",
       "      <td>1</td>\n",
       "      <td>1</td>\n",
       "      <td>0</td>\n",
       "      <td>1</td>\n",
       "      <td>0</td>\n",
       "      <td>1</td>\n",
       "      <td>0</td>\n",
       "      <td>0</td>\n",
       "      <td>6.60</td>\n",
       "      <td>2604960</td>\n",
       "      <td>2000.0</td>\n",
       "      <td>4096.0</td>\n",
       "      <td>65536.0</td>\n",
       "      <td>5000.0</td>\n",
       "      <td>33.0</td>\n",
       "      <td>50.0</td>\n",
       "      <td>16.0</td>\n",
       "      <td>11</td>\n",
       "      <td>True</td>\n",
       "      <td>False</td>\n",
       "      <td>False</td>\n",
       "      <td>False</td>\n",
       "      <td>False</td>\n",
       "      <td>False</td>\n",
       "      <td>False</td>\n",
       "      <td>False</td>\n",
       "      <td>False</td>\n",
       "      <td>False</td>\n",
       "      <td>False</td>\n",
       "      <td>False</td>\n",
       "      <td>True</td>\n",
       "      <td>False</td>\n",
       "      <td>False</td>\n",
       "      <td>False</td>\n",
       "      <td>False</td>\n",
       "    </tr>\n",
       "    <tr>\n",
       "      <th>449</th>\n",
       "      <td>1</td>\n",
       "      <td>1</td>\n",
       "      <td>1</td>\n",
       "      <td>0</td>\n",
       "      <td>1</td>\n",
       "      <td>1</td>\n",
       "      <td>1</td>\n",
       "      <td>0</td>\n",
       "      <td>0</td>\n",
       "      <td>4.70</td>\n",
       "      <td>1000500</td>\n",
       "      <td>1840.0</td>\n",
       "      <td>2048.0</td>\n",
       "      <td>32768.0</td>\n",
       "      <td>1715.0</td>\n",
       "      <td>10.0</td>\n",
       "      <td>12.0</td>\n",
       "      <td>5.0</td>\n",
       "      <td>9</td>\n",
       "      <td>False</td>\n",
       "      <td>False</td>\n",
       "      <td>True</td>\n",
       "      <td>True</td>\n",
       "      <td>False</td>\n",
       "      <td>False</td>\n",
       "      <td>False</td>\n",
       "      <td>False</td>\n",
       "      <td>False</td>\n",
       "      <td>False</td>\n",
       "      <td>False</td>\n",
       "      <td>False</td>\n",
       "      <td>False</td>\n",
       "      <td>False</td>\n",
       "      <td>False</td>\n",
       "      <td>False</td>\n",
       "      <td>False</td>\n",
       "    </tr>\n",
       "    <tr>\n",
       "      <th>783</th>\n",
       "      <td>2</td>\n",
       "      <td>1</td>\n",
       "      <td>1</td>\n",
       "      <td>0</td>\n",
       "      <td>1</td>\n",
       "      <td>0</td>\n",
       "      <td>1</td>\n",
       "      <td>0</td>\n",
       "      <td>0</td>\n",
       "      <td>5.45</td>\n",
       "      <td>1036800</td>\n",
       "      <td>2000.0</td>\n",
       "      <td>2048.0</td>\n",
       "      <td>16384.0</td>\n",
       "      <td>3000.0</td>\n",
       "      <td>10.0</td>\n",
       "      <td>13.0</td>\n",
       "      <td>5.0</td>\n",
       "      <td>8</td>\n",
       "      <td>True</td>\n",
       "      <td>False</td>\n",
       "      <td>False</td>\n",
       "      <td>False</td>\n",
       "      <td>False</td>\n",
       "      <td>False</td>\n",
       "      <td>False</td>\n",
       "      <td>False</td>\n",
       "      <td>False</td>\n",
       "      <td>False</td>\n",
       "      <td>False</td>\n",
       "      <td>False</td>\n",
       "      <td>False</td>\n",
       "      <td>False</td>\n",
       "      <td>False</td>\n",
       "      <td>False</td>\n",
       "      <td>True</td>\n",
       "    </tr>\n",
       "    <tr>\n",
       "      <th>593</th>\n",
       "      <td>2</td>\n",
       "      <td>1</td>\n",
       "      <td>1</td>\n",
       "      <td>0</td>\n",
       "      <td>1</td>\n",
       "      <td>0</td>\n",
       "      <td>1</td>\n",
       "      <td>1</td>\n",
       "      <td>0</td>\n",
       "      <td>6.67</td>\n",
       "      <td>2592000</td>\n",
       "      <td>2300.0</td>\n",
       "      <td>6144.0</td>\n",
       "      <td>65536.0</td>\n",
       "      <td>6000.0</td>\n",
       "      <td>33.0</td>\n",
       "      <td>64.0</td>\n",
       "      <td>20.0</td>\n",
       "      <td>10</td>\n",
       "      <td>True</td>\n",
       "      <td>False</td>\n",
       "      <td>False</td>\n",
       "      <td>False</td>\n",
       "      <td>False</td>\n",
       "      <td>False</td>\n",
       "      <td>False</td>\n",
       "      <td>False</td>\n",
       "      <td>False</td>\n",
       "      <td>False</td>\n",
       "      <td>False</td>\n",
       "      <td>True</td>\n",
       "      <td>False</td>\n",
       "      <td>False</td>\n",
       "      <td>False</td>\n",
       "      <td>False</td>\n",
       "      <td>False</td>\n",
       "    </tr>\n",
       "    <tr>\n",
       "      <th>909</th>\n",
       "      <td>2</td>\n",
       "      <td>1</td>\n",
       "      <td>1</td>\n",
       "      <td>0</td>\n",
       "      <td>1</td>\n",
       "      <td>0</td>\n",
       "      <td>1</td>\n",
       "      <td>0</td>\n",
       "      <td>0</td>\n",
       "      <td>6.40</td>\n",
       "      <td>2592000</td>\n",
       "      <td>2000.0</td>\n",
       "      <td>6144.0</td>\n",
       "      <td>131072.0</td>\n",
       "      <td>6000.0</td>\n",
       "      <td>15.0</td>\n",
       "      <td>64.0</td>\n",
       "      <td>20.0</td>\n",
       "      <td>11</td>\n",
       "      <td>True</td>\n",
       "      <td>False</td>\n",
       "      <td>False</td>\n",
       "      <td>False</td>\n",
       "      <td>False</td>\n",
       "      <td>False</td>\n",
       "      <td>False</td>\n",
       "      <td>False</td>\n",
       "      <td>False</td>\n",
       "      <td>False</td>\n",
       "      <td>False</td>\n",
       "      <td>False</td>\n",
       "      <td>False</td>\n",
       "      <td>True</td>\n",
       "      <td>False</td>\n",
       "      <td>False</td>\n",
       "      <td>False</td>\n",
       "    </tr>\n",
       "  </tbody>\n",
       "</table>\n",
       "<p>204 rows × 36 columns</p>\n",
       "</div>"
      ],
      "text/plain": [
       "     Sim  3G  4G  5G  VoLTE  NFC  Wi-Fi  IR  Vo5G  Screen_Size  Resolution  \\\n",
       "Id                                                                           \n",
       "523    2   1   1   1      1    0      1   0     0         6.44     2592000   \n",
       "602    2   1   1   0      1    0      0   0     0         2.40      134400   \n",
       "526    2   1   1   1      1    1      1   0     0         6.20     2592000   \n",
       "31     2   1   1   1      1    1      1   1     0         6.74     3437280   \n",
       "616    2   0   0   0      0    0      0   0     0         2.80       76800   \n",
       "..   ...  ..  ..  ..    ...  ...    ...  ..   ...          ...         ...   \n",
       "516    2   1   1   0      1    0      1   0     0         6.60     2604960   \n",
       "449    1   1   1   0      1    1      1   0     0         4.70     1000500   \n",
       "783    2   1   1   0      1    0      1   0     0         5.45     1036800   \n",
       "593    2   1   1   0      1    0      1   1     0         6.67     2592000   \n",
       "909    2   1   1   0      1    0      1   0     0         6.40     2592000   \n",
       "\n",
       "     Processor_Speed_MHz  RAM_MB  Memory_MB  BatterymAh  FastCharging    PC  \\\n",
       "Id                                                                            \n",
       "523               2400.0  8192.0   131072.0      4000.0          33.0  64.0   \n",
       "602                256.0    32.0       32.0      3000.0          10.0   0.3   \n",
       "526               2900.0  8192.0   262144.0      4000.0          25.0  64.0   \n",
       "31                3050.0  8192.0   131072.0      5000.0          80.0  50.0   \n",
       "616               2300.0  6144.0   131072.0     10000.0          10.0   0.3   \n",
       "..                   ...     ...        ...         ...           ...   ...   \n",
       "516               2000.0  4096.0    65536.0      5000.0          33.0  50.0   \n",
       "449               1840.0  2048.0    32768.0      1715.0          10.0  12.0   \n",
       "783               2000.0  2048.0    16384.0      3000.0          10.0  13.0   \n",
       "593               2300.0  6144.0    65536.0      6000.0          33.0  64.0   \n",
       "909               2000.0  6144.0   131072.0      6000.0          15.0  64.0   \n",
       "\n",
       "       FC  Version  OS_Android  OS_Other  OS_iOS  Vendor_APPLE  \\\n",
       "Id                                                               \n",
       "523  44.0       11        True     False   False         False   \n",
       "602   0.0        1       False      True   False         False   \n",
       "526  10.0       10        True     False   False         False   \n",
       "31   16.0       13        True     False   False         False   \n",
       "616   0.0        1       False      True   False         False   \n",
       "..    ...      ...         ...       ...     ...           ...   \n",
       "516  16.0       11        True     False   False         False   \n",
       "449   5.0        9       False     False    True          True   \n",
       "783   5.0        8        True     False   False         False   \n",
       "593  20.0       10        True     False   False         False   \n",
       "909  20.0       11        True     False   False         False   \n",
       "\n",
       "     Vendor_INFINIX  Vendor_ITEL  Vendor_MOTOROLA  Vendor_NOKIA  \\\n",
       "Id                                                                \n",
       "523           False        False            False         False   \n",
       "602           False        False            False         False   \n",
       "526           False        False            False         False   \n",
       "31            False        False            False         False   \n",
       "616           False         True            False         False   \n",
       "..              ...          ...              ...           ...   \n",
       "516           False        False            False         False   \n",
       "449           False        False            False         False   \n",
       "783           False        False            False         False   \n",
       "593           False        False            False         False   \n",
       "909           False        False            False         False   \n",
       "\n",
       "     Vendor_ONEPLUS  Vendor_OPPO  Vendor_Other  Vendor_POCO  Vendor_REALME  \\\n",
       "Id                                                                           \n",
       "523           False        False         False        False          False   \n",
       "602           False        False          True        False          False   \n",
       "526           False        False         False        False          False   \n",
       "31             True        False         False        False          False   \n",
       "616           False        False         False        False          False   \n",
       "..              ...          ...           ...          ...            ...   \n",
       "516           False        False         False        False           True   \n",
       "449           False        False         False        False          False   \n",
       "783           False        False         False        False          False   \n",
       "593           False        False         False         True          False   \n",
       "909           False        False         False        False          False   \n",
       "\n",
       "     Vendor_SAMSUNG  Vendor_TECNO  Vendor_VIVO  Vendor_XIAOMI  \n",
       "Id                                                             \n",
       "523           False         False         True          False  \n",
       "602           False         False        False          False  \n",
       "526            True         False        False          False  \n",
       "31            False         False        False          False  \n",
       "616           False         False        False          False  \n",
       "..              ...           ...          ...            ...  \n",
       "516           False         False        False          False  \n",
       "449           False         False        False          False  \n",
       "783           False         False        False           True  \n",
       "593           False         False        False          False  \n",
       "909            True         False        False          False  \n",
       "\n",
       "[204 rows x 36 columns]"
      ]
     },
     "execution_count": 92,
     "metadata": {},
     "output_type": "execute_result"
    }
   ],
   "source": [
    "X_test = pipeline.fit_transform(X_test)\n",
    "X_test"
   ]
  },
  {
   "cell_type": "code",
   "execution_count": 93,
   "metadata": {},
   "outputs": [],
   "source": [
    "from sklearn.metrics import precision_score, recall_score, f1_score, roc_auc_score, roc_curve, auc\n",
    "\n",
    "def get_results(y_test, y_pred):\n",
    "    precision = precision_score(y_test, y_pred, average='weighted')\n",
    "    recall = recall_score(y_test, y_pred, average='weighted')\n",
    "    f1 = f1_score(y_test, y_pred, average='weighted')\n",
    "\n",
    "    print(\"Precision:\", precision)\n",
    "    print(\"Recall:\", recall)\n",
    "    print(\"F1-score:\", f1)"
   ]
  },
  {
   "cell_type": "code",
   "execution_count": 94,
   "metadata": {},
   "outputs": [
    {
     "name": "stdout",
     "output_type": "stream",
     "text": [
      "Accuracy:  0.5441176470588235\n",
      "Precision: 0.48962290277645737\n",
      "Recall: 0.5441176470588235\n",
      "F1-score: 0.45033845529005617\n"
     ]
    },
    {
     "name": "stderr",
     "output_type": "stream",
     "text": [
      "c:\\Users\\ASUS\\AppData\\Local\\Programs\\Python\\Python311\\Lib\\site-packages\\sklearn\\metrics\\_classification.py:1471: UndefinedMetricWarning: Precision is ill-defined and being set to 0.0 in labels with no predicted samples. Use `zero_division` parameter to control this behavior.\n",
      "  _warn_prf(average, modifier, msg_start, len(result))\n"
     ]
    }
   ],
   "source": [
    "svm = SVC()\n",
    "svm.fit(X_train, y_train)\n",
    "print('Accuracy: ', svm.score(X_test, y_test))\n",
    "\n",
    "y_pred = svm.predict(X_test)\n",
    "get_results(y_test, y_pred)"
   ]
  },
  {
   "cell_type": "code",
   "execution_count": 95,
   "metadata": {},
   "outputs": [
    {
     "name": "stdout",
     "output_type": "stream",
     "text": [
      "Accuracy:  0.6323529411764706\n",
      "Precision: 0.6448025488751138\n",
      "Recall: 0.6323529411764706\n",
      "F1-score: 0.6298200985497606\n"
     ]
    },
    {
     "name": "stderr",
     "output_type": "stream",
     "text": [
      "c:\\Users\\ASUS\\AppData\\Local\\Programs\\Python\\Python311\\Lib\\site-packages\\sklearn\\linear_model\\_logistic.py:460: ConvergenceWarning: lbfgs failed to converge (status=1):\n",
      "STOP: TOTAL NO. of ITERATIONS REACHED LIMIT.\n",
      "\n",
      "Increase the number of iterations (max_iter) or scale the data as shown in:\n",
      "    https://scikit-learn.org/stable/modules/preprocessing.html\n",
      "Please also refer to the documentation for alternative solver options:\n",
      "    https://scikit-learn.org/stable/modules/linear_model.html#logistic-regression\n",
      "  n_iter_i = _check_optimize_result(\n"
     ]
    }
   ],
   "source": [
    "lr = LogisticRegression()\n",
    "lr.fit(X_train, y_train)\n",
    "print('Accuracy: ', lr.score(X_test, y_test))\n",
    "\n",
    "y_pred = lr.predict(X_test)\n",
    "get_results(y_test, y_pred)"
   ]
  },
  {
   "cell_type": "code",
   "execution_count": 103,
   "metadata": {},
   "outputs": [
    {
     "name": "stdout",
     "output_type": "stream",
     "text": [
      "Accuracy:  0.803921568627451\n",
      "Precision: 0.803951762523191\n",
      "Recall: 0.803921568627451\n",
      "F1-score: 0.8031975223489\n"
     ]
    }
   ],
   "source": [
    "rf = RandomForestClassifier()\n",
    "rf.fit(X_train, y_train)\n",
    "print('Accuracy: ', rf.score(X_test, y_test))\n",
    "\n",
    "y_pred = rf.predict(X_test)\n",
    "get_results(y_test, y_pred)"
   ]
  },
  {
   "cell_type": "code",
   "execution_count": 104,
   "metadata": {},
   "outputs": [
    {
     "name": "stdout",
     "output_type": "stream",
     "text": [
      "Accuracy:  0.8088235294117647\n",
      "Precision: 0.8095118310482088\n",
      "Recall: 0.8088235294117647\n",
      "F1-score: 0.8084008252888708\n"
     ]
    }
   ],
   "source": [
    "import xgboost\n",
    "\n",
    "xgb = xgboost.XGBClassifier()\n",
    "xgb.fit(X_train, y_train)\n",
    "print('Accuracy: ', xgb.score(X_test, y_test))\n",
    "\n",
    "y_pred = xgb.predict(X_test)\n",
    "get_results(y_test, y_pred)"
   ]
  },
  {
   "cell_type": "code",
   "execution_count": 105,
   "metadata": {},
   "outputs": [
    {
     "data": {
      "text/plain": [
       "Index(['Sim', '3G', '4G', '5G', 'VoLTE', 'NFC', 'Wi-Fi', 'IR', 'Vo5G',\n",
       "       'Screen_Size', 'Resolution', 'Processor_Speed_MHz', 'RAM_MB',\n",
       "       'Memory_MB', 'BatterymAh', 'FastCharging', 'PC', 'FC', 'Version',\n",
       "       'OS_Android', 'OS_Other', 'OS_iOS', 'Vendor_APPLE', 'Vendor_INFINIX',\n",
       "       'Vendor_ITEL', 'Vendor_MOTOROLA', 'Vendor_NOKIA', 'Vendor_ONEPLUS',\n",
       "       'Vendor_OPPO', 'Vendor_Other', 'Vendor_POCO', 'Vendor_REALME',\n",
       "       'Vendor_SAMSUNG', 'Vendor_TECNO', 'Vendor_VIVO', 'Vendor_XIAOMI'],\n",
       "      dtype='object')"
      ]
     },
     "execution_count": 105,
     "metadata": {},
     "output_type": "execute_result"
    }
   ],
   "source": [
    "df.columns"
   ]
  },
  {
   "cell_type": "code",
   "execution_count": 107,
   "metadata": {},
   "outputs": [
    {
     "data": {
      "text/html": [
       "<style>#sk-container-id-1 {color: black;}#sk-container-id-1 pre{padding: 0;}#sk-container-id-1 div.sk-toggleable {background-color: white;}#sk-container-id-1 label.sk-toggleable__label {cursor: pointer;display: block;width: 100%;margin-bottom: 0;padding: 0.3em;box-sizing: border-box;text-align: center;}#sk-container-id-1 label.sk-toggleable__label-arrow:before {content: \"▸\";float: left;margin-right: 0.25em;color: #696969;}#sk-container-id-1 label.sk-toggleable__label-arrow:hover:before {color: black;}#sk-container-id-1 div.sk-estimator:hover label.sk-toggleable__label-arrow:before {color: black;}#sk-container-id-1 div.sk-toggleable__content {max-height: 0;max-width: 0;overflow: hidden;text-align: left;background-color: #f0f8ff;}#sk-container-id-1 div.sk-toggleable__content pre {margin: 0.2em;color: black;border-radius: 0.25em;background-color: #f0f8ff;}#sk-container-id-1 input.sk-toggleable__control:checked~div.sk-toggleable__content {max-height: 200px;max-width: 100%;overflow: auto;}#sk-container-id-1 input.sk-toggleable__control:checked~label.sk-toggleable__label-arrow:before {content: \"▾\";}#sk-container-id-1 div.sk-estimator input.sk-toggleable__control:checked~label.sk-toggleable__label {background-color: #d4ebff;}#sk-container-id-1 div.sk-label input.sk-toggleable__control:checked~label.sk-toggleable__label {background-color: #d4ebff;}#sk-container-id-1 input.sk-hidden--visually {border: 0;clip: rect(1px 1px 1px 1px);clip: rect(1px, 1px, 1px, 1px);height: 1px;margin: -1px;overflow: hidden;padding: 0;position: absolute;width: 1px;}#sk-container-id-1 div.sk-estimator {font-family: monospace;background-color: #f0f8ff;border: 1px dotted black;border-radius: 0.25em;box-sizing: border-box;margin-bottom: 0.5em;}#sk-container-id-1 div.sk-estimator:hover {background-color: #d4ebff;}#sk-container-id-1 div.sk-parallel-item::after {content: \"\";width: 100%;border-bottom: 1px solid gray;flex-grow: 1;}#sk-container-id-1 div.sk-label:hover label.sk-toggleable__label {background-color: #d4ebff;}#sk-container-id-1 div.sk-serial::before {content: \"\";position: absolute;border-left: 1px solid gray;box-sizing: border-box;top: 0;bottom: 0;left: 50%;z-index: 0;}#sk-container-id-1 div.sk-serial {display: flex;flex-direction: column;align-items: center;background-color: white;padding-right: 0.2em;padding-left: 0.2em;position: relative;}#sk-container-id-1 div.sk-item {position: relative;z-index: 1;}#sk-container-id-1 div.sk-parallel {display: flex;align-items: stretch;justify-content: center;background-color: white;position: relative;}#sk-container-id-1 div.sk-item::before, #sk-container-id-1 div.sk-parallel-item::before {content: \"\";position: absolute;border-left: 1px solid gray;box-sizing: border-box;top: 0;bottom: 0;left: 50%;z-index: -1;}#sk-container-id-1 div.sk-parallel-item {display: flex;flex-direction: column;z-index: 1;position: relative;background-color: white;}#sk-container-id-1 div.sk-parallel-item:first-child::after {align-self: flex-end;width: 50%;}#sk-container-id-1 div.sk-parallel-item:last-child::after {align-self: flex-start;width: 50%;}#sk-container-id-1 div.sk-parallel-item:only-child::after {width: 0;}#sk-container-id-1 div.sk-dashed-wrapped {border: 1px dashed gray;margin: 0 0.4em 0.5em 0.4em;box-sizing: border-box;padding-bottom: 0.4em;background-color: white;}#sk-container-id-1 div.sk-label label {font-family: monospace;font-weight: bold;display: inline-block;line-height: 1.2em;}#sk-container-id-1 div.sk-label-container {text-align: center;}#sk-container-id-1 div.sk-container {/* jupyter's `normalize.less` sets `[hidden] { display: none; }` but bootstrap.min.css set `[hidden] { display: none !important; }` so we also need the `!important` here to be able to override the default hidden behavior on the sphinx rendered scikit-learn.org. See: https://github.com/scikit-learn/scikit-learn/issues/21755 */display: inline-block !important;position: relative;}#sk-container-id-1 div.sk-text-repr-fallback {display: none;}</style><div id=\"sk-container-id-1\" class=\"sk-top-container\"><div class=\"sk-text-repr-fallback\"><pre>RandomForestClassifier()</pre><b>In a Jupyter environment, please rerun this cell to show the HTML representation or trust the notebook. <br />On GitHub, the HTML representation is unable to render, please try loading this page with nbviewer.org.</b></div><div class=\"sk-container\" hidden><div class=\"sk-item\"><div class=\"sk-estimator sk-toggleable\"><input class=\"sk-toggleable__control sk-hidden--visually\" id=\"sk-estimator-id-1\" type=\"checkbox\" checked><label for=\"sk-estimator-id-1\" class=\"sk-toggleable__label sk-toggleable__label-arrow\">RandomForestClassifier</label><div class=\"sk-toggleable__content\"><pre>RandomForestClassifier()</pre></div></div></div></div></div>"
      ],
      "text/plain": [
       "RandomForestClassifier()"
      ]
     },
     "execution_count": 107,
     "metadata": {},
     "output_type": "execute_result"
    }
   ],
   "source": [
    "df = pipeline.fit_transform(df)\n",
    "rf.fit(df, y)"
   ]
  },
  {
   "cell_type": "code",
   "execution_count": 109,
   "metadata": {},
   "outputs": [],
   "source": [
    "import pickle\n",
    "\n",
    "# Save the trained model to disk\n",
    "with open('random_forest_model.pkl', 'wb') as file:\n",
    "    pickle.dump(rf, file)"
   ]
  },
  {
   "cell_type": "markdown",
   "metadata": {},
   "source": [
    "# Done! *** Good Luck ***"
   ]
  }
 ],
 "metadata": {
  "kernelspec": {
   "display_name": "Python 3",
   "language": "python",
   "name": "python3"
  },
  "language_info": {
   "codemirror_mode": {
    "name": "ipython",
    "version": 3
   },
   "file_extension": ".py",
   "mimetype": "text/x-python",
   "name": "python",
   "nbconvert_exporter": "python",
   "pygments_lexer": "ipython3",
   "version": "3.11.5"
  }
 },
 "nbformat": 4,
 "nbformat_minor": 2
}
