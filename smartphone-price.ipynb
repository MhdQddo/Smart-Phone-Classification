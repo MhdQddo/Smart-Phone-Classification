{
 "cells": [
  {
   "cell_type": "code",
   "execution_count": 1,
   "metadata": {},
   "outputs": [],
   "source": [
    "import pandas as pd\n",
    "import seaborn as sns\n",
    "import matplotlib.pyplot as plt\n",
    "import numpy as np"
   ]
  },
  {
   "cell_type": "code",
   "execution_count": 2,
   "metadata": {},
   "outputs": [],
   "source": [
    "df = pd.read_csv('./Smartphone_2024.csv', index_col='Id')"
   ]
  },
  {
   "cell_type": "code",
   "execution_count": 3,
   "metadata": {},
   "outputs": [
    {
     "data": {
      "text/html": [
       "<div>\n",
       "<style scoped>\n",
       "    .dataframe tbody tr th:only-of-type {\n",
       "        vertical-align: middle;\n",
       "    }\n",
       "\n",
       "    .dataframe tbody tr th {\n",
       "        vertical-align: top;\n",
       "    }\n",
       "\n",
       "    .dataframe thead th {\n",
       "        text-align: right;\n",
       "    }\n",
       "</style>\n",
       "<table border=\"1\" class=\"dataframe\">\n",
       "  <thead>\n",
       "    <tr style=\"text-align: right;\">\n",
       "      <th></th>\n",
       "      <th>Model</th>\n",
       "      <th>Price</th>\n",
       "      <th>Rating</th>\n",
       "      <th>Specification</th>\n",
       "      <th>Processor</th>\n",
       "      <th>RAM</th>\n",
       "      <th>Battery</th>\n",
       "      <th>Display</th>\n",
       "      <th>Camera</th>\n",
       "      <th>Memory</th>\n",
       "      <th>OperatingSystem</th>\n",
       "    </tr>\n",
       "    <tr>\n",
       "      <th>Id</th>\n",
       "      <th></th>\n",
       "      <th></th>\n",
       "      <th></th>\n",
       "      <th></th>\n",
       "      <th></th>\n",
       "      <th></th>\n",
       "      <th></th>\n",
       "      <th></th>\n",
       "      <th></th>\n",
       "      <th></th>\n",
       "      <th></th>\n",
       "    </tr>\n",
       "  </thead>\n",
       "  <tbody>\n",
       "    <tr>\n",
       "      <th>832</th>\n",
       "      <td>Infinix Hot 20 (6GB RAM+ 128GB)</td>\n",
       "      <td>₹14,499</td>\n",
       "      <td>78.0</td>\n",
       "      <td>Dual Sim, 3G, 4G, 5G, VoLTE, Wi-Fi</td>\n",
       "      <td>Dimensity 810, Octa Core, 2.4 GHz Processor</td>\n",
       "      <td>6 GB RAM, 128 GB inbuilt</td>\n",
       "      <td>5000 mAh Battery with 18W Fast Charging</td>\n",
       "      <td>6.6 inches, 1080 x 2408 px, 120 Hz Display wit...</td>\n",
       "      <td>50 MP Dual Rear &amp; 8 MP Front Camera</td>\n",
       "      <td>Memory Card Supported, upto 1 TB</td>\n",
       "      <td>Android v12</td>\n",
       "    </tr>\n",
       "    <tr>\n",
       "      <th>827</th>\n",
       "      <td>itel A60</td>\n",
       "      <td>₹5,599</td>\n",
       "      <td>NaN</td>\n",
       "      <td>Dual Sim, 3G, 4G, VoLTE, Wi-Fi</td>\n",
       "      <td>Unisoc  SC9832E, Quad Core Processor</td>\n",
       "      <td>2 GB RAM, 32 GB inbuilt</td>\n",
       "      <td>5000 mAh Battery</td>\n",
       "      <td>6.6 inches, 720 x 1612 px Display with Water D...</td>\n",
       "      <td>8 MP Dual Rear &amp; 5 MP Front Camera</td>\n",
       "      <td>Memory Card Supported, upto 128 GB</td>\n",
       "      <td>Android v12</td>\n",
       "    </tr>\n",
       "    <tr>\n",
       "      <th>131</th>\n",
       "      <td>Google Pixel 7A</td>\n",
       "      <td>₹37,999</td>\n",
       "      <td>NaN</td>\n",
       "      <td>Dual Sim, 3G, 4G, 5G, VoLTE, Wi-Fi, NFC</td>\n",
       "      <td>Tensor G2, Octa Core, 2.85 GHz Processor</td>\n",
       "      <td>8 GB RAM, 128 GB inbuilt</td>\n",
       "      <td>4385 mAh Battery with 18W Fast Charging</td>\n",
       "      <td>6.1 inches, 1080 x 2400 px, 90 Hz Display with...</td>\n",
       "      <td>64 MP + 13 MP Dual Rear &amp; 13 MP Front Camera</td>\n",
       "      <td>Memory Card Not Supported</td>\n",
       "      <td>Android v13</td>\n",
       "    </tr>\n",
       "    <tr>\n",
       "      <th>708</th>\n",
       "      <td>Apple iPhone 14 Plus (512GB)</td>\n",
       "      <td>₹95,999</td>\n",
       "      <td>NaN</td>\n",
       "      <td>Dual Sim, 3G, 4G, 5G, VoLTE, Wi-Fi, NFC</td>\n",
       "      <td>Bionic A15, Hexa Core, 3.22 GHz Processor</td>\n",
       "      <td>6 GB RAM, 512 GB inbuilt</td>\n",
       "      <td>4325 mAh Battery with Fast Charging</td>\n",
       "      <td>6.7 inches, 1284 x 2778 px Display with Small ...</td>\n",
       "      <td>12 MP + 12 MP Dual Rear &amp; 12 MP Front Camera</td>\n",
       "      <td>Memory Card Not Supported</td>\n",
       "      <td>iOS v16</td>\n",
       "    </tr>\n",
       "    <tr>\n",
       "      <th>497</th>\n",
       "      <td>Vivo Y56 5G (4GB RAM + 128GB)</td>\n",
       "      <td>₹15,050</td>\n",
       "      <td>78.0</td>\n",
       "      <td>Dual Sim, 3G, 4G, 5G, VoLTE, Wi-Fi</td>\n",
       "      <td>Dimensity 700 5G, Octa Core, 2.2 GHz Processor</td>\n",
       "      <td>4 GB RAM, 128 GB inbuilt</td>\n",
       "      <td>5000 mAh Battery with 18W Fast Charging</td>\n",
       "      <td>6.58 inches, 1080 x 2408 px Display with Water...</td>\n",
       "      <td>50 MP + 2 MP Dual Rear &amp; 16 MP Front Camera</td>\n",
       "      <td>Memory Card (Hybrid)</td>\n",
       "      <td>Android v13</td>\n",
       "    </tr>\n",
       "  </tbody>\n",
       "</table>\n",
       "</div>"
      ],
      "text/plain": [
       "                               Model    Price  Rating  \\\n",
       "Id                                                      \n",
       "832  Infinix Hot 20 (6GB RAM+ 128GB)  ₹14,499    78.0   \n",
       "827                         itel A60   ₹5,599     NaN   \n",
       "131                  Google Pixel 7A  ₹37,999     NaN   \n",
       "708     Apple iPhone 14 Plus (512GB)  ₹95,999     NaN   \n",
       "497    Vivo Y56 5G (4GB RAM + 128GB)  ₹15,050    78.0   \n",
       "\n",
       "                               Specification  \\\n",
       "Id                                             \n",
       "832       Dual Sim, 3G, 4G, 5G, VoLTE, Wi-Fi   \n",
       "827           Dual Sim, 3G, 4G, VoLTE, Wi-Fi   \n",
       "131  Dual Sim, 3G, 4G, 5G, VoLTE, Wi-Fi, NFC   \n",
       "708  Dual Sim, 3G, 4G, 5G, VoLTE, Wi-Fi, NFC   \n",
       "497       Dual Sim, 3G, 4G, 5G, VoLTE, Wi-Fi   \n",
       "\n",
       "                                          Processor                       RAM  \\\n",
       "Id                                                                              \n",
       "832     Dimensity 810, Octa Core, 2.4 GHz Processor  6 GB RAM, 128 GB inbuilt   \n",
       "827            Unisoc  SC9832E, Quad Core Processor   2 GB RAM, 32 GB inbuilt   \n",
       "131        Tensor G2, Octa Core, 2.85 GHz Processor  8 GB RAM, 128 GB inbuilt   \n",
       "708       Bionic A15, Hexa Core, 3.22 GHz Processor  6 GB RAM, 512 GB inbuilt   \n",
       "497  Dimensity 700 5G, Octa Core, 2.2 GHz Processor  4 GB RAM, 128 GB inbuilt   \n",
       "\n",
       "                                     Battery  \\\n",
       "Id                                             \n",
       "832  5000 mAh Battery with 18W Fast Charging   \n",
       "827                         5000 mAh Battery   \n",
       "131  4385 mAh Battery with 18W Fast Charging   \n",
       "708      4325 mAh Battery with Fast Charging   \n",
       "497  5000 mAh Battery with 18W Fast Charging   \n",
       "\n",
       "                                               Display  \\\n",
       "Id                                                       \n",
       "832  6.6 inches, 1080 x 2408 px, 120 Hz Display wit...   \n",
       "827  6.6 inches, 720 x 1612 px Display with Water D...   \n",
       "131  6.1 inches, 1080 x 2400 px, 90 Hz Display with...   \n",
       "708  6.7 inches, 1284 x 2778 px Display with Small ...   \n",
       "497  6.58 inches, 1080 x 2408 px Display with Water...   \n",
       "\n",
       "                                           Camera  \\\n",
       "Id                                                  \n",
       "832           50 MP Dual Rear & 8 MP Front Camera   \n",
       "827            8 MP Dual Rear & 5 MP Front Camera   \n",
       "131  64 MP + 13 MP Dual Rear & 13 MP Front Camera   \n",
       "708  12 MP + 12 MP Dual Rear & 12 MP Front Camera   \n",
       "497   50 MP + 2 MP Dual Rear & 16 MP Front Camera   \n",
       "\n",
       "                                 Memory OperatingSystem  \n",
       "Id                                                       \n",
       "832    Memory Card Supported, upto 1 TB     Android v12  \n",
       "827  Memory Card Supported, upto 128 GB     Android v12  \n",
       "131           Memory Card Not Supported     Android v13  \n",
       "708           Memory Card Not Supported         iOS v16  \n",
       "497                Memory Card (Hybrid)     Android v13  "
      ]
     },
     "execution_count": 3,
     "metadata": {},
     "output_type": "execute_result"
    }
   ],
   "source": [
    "df.sample(5)"
   ]
  },
  {
   "cell_type": "code",
   "execution_count": 4,
   "metadata": {},
   "outputs": [
    {
     "name": "stdout",
     "output_type": "stream",
     "text": [
      "<class 'pandas.core.frame.DataFrame'>\n",
      "Index: 1020 entries, 0 to 1019\n",
      "Data columns (total 11 columns):\n",
      " #   Column           Non-Null Count  Dtype  \n",
      "---  ------           --------------  -----  \n",
      " 0   Model            1020 non-null   object \n",
      " 1   Price            1020 non-null   object \n",
      " 2   Rating           443 non-null    float64\n",
      " 3   Specification    1020 non-null   object \n",
      " 4   Processor        1020 non-null   object \n",
      " 5   RAM              1020 non-null   object \n",
      " 6   Battery          1020 non-null   object \n",
      " 7   Display          1020 non-null   object \n",
      " 8   Camera           1020 non-null   object \n",
      " 9   Memory           1003 non-null   object \n",
      " 10  OperatingSystem  976 non-null    object \n",
      "dtypes: float64(1), object(10)\n",
      "memory usage: 95.6+ KB\n"
     ]
    }
   ],
   "source": [
    "df.info()"
   ]
  },
  {
   "cell_type": "code",
   "execution_count": 5,
   "metadata": {},
   "outputs": [
    {
     "data": {
      "text/html": [
       "<div>\n",
       "<style scoped>\n",
       "    .dataframe tbody tr th:only-of-type {\n",
       "        vertical-align: middle;\n",
       "    }\n",
       "\n",
       "    .dataframe tbody tr th {\n",
       "        vertical-align: top;\n",
       "    }\n",
       "\n",
       "    .dataframe thead th {\n",
       "        text-align: right;\n",
       "    }\n",
       "</style>\n",
       "<table border=\"1\" class=\"dataframe\">\n",
       "  <thead>\n",
       "    <tr style=\"text-align: right;\">\n",
       "      <th></th>\n",
       "      <th>Model</th>\n",
       "      <th>Price</th>\n",
       "      <th>Specification</th>\n",
       "      <th>Processor</th>\n",
       "      <th>RAM</th>\n",
       "      <th>Battery</th>\n",
       "      <th>Display</th>\n",
       "      <th>Camera</th>\n",
       "      <th>Memory</th>\n",
       "      <th>OperatingSystem</th>\n",
       "    </tr>\n",
       "    <tr>\n",
       "      <th>Id</th>\n",
       "      <th></th>\n",
       "      <th></th>\n",
       "      <th></th>\n",
       "      <th></th>\n",
       "      <th></th>\n",
       "      <th></th>\n",
       "      <th></th>\n",
       "      <th></th>\n",
       "      <th></th>\n",
       "      <th></th>\n",
       "    </tr>\n",
       "  </thead>\n",
       "  <tbody>\n",
       "    <tr>\n",
       "      <th>897</th>\n",
       "      <td>Infinix Hot 11S</td>\n",
       "      <td>₹9,890</td>\n",
       "      <td>Dual Sim, 3G, 4G, VoLTE, Wi-Fi</td>\n",
       "      <td>Helio G88, Octa Core, 2 GHz Processor</td>\n",
       "      <td>4 GB RAM, 64 GB inbuilt</td>\n",
       "      <td>5000 mAh Battery</td>\n",
       "      <td>6.78 inches, 1080 x 2480 px, 90 Hz Display wit...</td>\n",
       "      <td>50 MP + 2 MP Triple Rear &amp; 8 MP Front Camera</td>\n",
       "      <td>Memory Card Supported, upto 256 GB</td>\n",
       "      <td>Android v11</td>\n",
       "    </tr>\n",
       "  </tbody>\n",
       "</table>\n",
       "</div>"
      ],
      "text/plain": [
       "               Model   Price                   Specification  \\\n",
       "Id                                                             \n",
       "897  Infinix Hot 11S  ₹9,890  Dual Sim, 3G, 4G, VoLTE, Wi-Fi   \n",
       "\n",
       "                                 Processor                      RAM  \\\n",
       "Id                                                                    \n",
       "897  Helio G88, Octa Core, 2 GHz Processor  4 GB RAM, 64 GB inbuilt   \n",
       "\n",
       "              Battery                                            Display  \\\n",
       "Id                                                                         \n",
       "897  5000 mAh Battery  6.78 inches, 1080 x 2480 px, 90 Hz Display wit...   \n",
       "\n",
       "                                           Camera  \\\n",
       "Id                                                  \n",
       "897  50 MP + 2 MP Triple Rear & 8 MP Front Camera   \n",
       "\n",
       "                                 Memory OperatingSystem  \n",
       "Id                                                       \n",
       "897  Memory Card Supported, upto 256 GB     Android v11  "
      ]
     },
     "execution_count": 5,
     "metadata": {},
     "output_type": "execute_result"
    }
   ],
   "source": [
    "df.drop(columns=['Rating'], inplace=True)\n",
    "df.sample()"
   ]
  },
  {
   "cell_type": "code",
   "execution_count": 6,
   "metadata": {},
   "outputs": [
    {
     "data": {
      "text/html": [
       "<div>\n",
       "<style scoped>\n",
       "    .dataframe tbody tr th:only-of-type {\n",
       "        vertical-align: middle;\n",
       "    }\n",
       "\n",
       "    .dataframe tbody tr th {\n",
       "        vertical-align: top;\n",
       "    }\n",
       "\n",
       "    .dataframe thead th {\n",
       "        text-align: right;\n",
       "    }\n",
       "</style>\n",
       "<table border=\"1\" class=\"dataframe\">\n",
       "  <thead>\n",
       "    <tr style=\"text-align: right;\">\n",
       "      <th></th>\n",
       "      <th>Model</th>\n",
       "      <th>Price</th>\n",
       "      <th>Specification</th>\n",
       "      <th>Processor</th>\n",
       "      <th>RAM</th>\n",
       "      <th>Battery</th>\n",
       "      <th>Display</th>\n",
       "      <th>Camera</th>\n",
       "      <th>Memory</th>\n",
       "      <th>OperatingSystem</th>\n",
       "    </tr>\n",
       "    <tr>\n",
       "      <th>Id</th>\n",
       "      <th></th>\n",
       "      <th></th>\n",
       "      <th></th>\n",
       "      <th></th>\n",
       "      <th></th>\n",
       "      <th></th>\n",
       "      <th></th>\n",
       "      <th></th>\n",
       "      <th></th>\n",
       "      <th></th>\n",
       "    </tr>\n",
       "  </thead>\n",
       "  <tbody>\n",
       "    <tr>\n",
       "      <th>793</th>\n",
       "      <td>Snexian Rock Pro Max</td>\n",
       "      <td>₹1,399</td>\n",
       "      <td>Dual Sim</td>\n",
       "      <td>No Wifi</td>\n",
       "      <td>1.4 MHz Processor</td>\n",
       "      <td>32 MB RAM, 32 MB inbuilt</td>\n",
       "      <td>1800 mAh Battery</td>\n",
       "      <td>2.8 inches, 320 x 420 px Display</td>\n",
       "      <td>0.3 MP Rear Camera</td>\n",
       "      <td>Memory Card Supported, upto 16 GB</td>\n",
       "    </tr>\n",
       "  </tbody>\n",
       "</table>\n",
       "</div>"
      ],
      "text/plain": [
       "                    Model   Price Specification Processor                RAM  \\\n",
       "Id                                                                             \n",
       "793  Snexian Rock Pro Max  ₹1,399      Dual Sim   No Wifi  1.4 MHz Processor   \n",
       "\n",
       "                      Battery           Display  \\\n",
       "Id                                                \n",
       "793  32 MB RAM, 32 MB inbuilt  1800 mAh Battery   \n",
       "\n",
       "                               Camera              Memory  \\\n",
       "Id                                                          \n",
       "793  2.8 inches, 320 x 420 px Display  0.3 MP Rear Camera   \n",
       "\n",
       "                       OperatingSystem  \n",
       "Id                                      \n",
       "793  Memory Card Supported, upto 16 GB  "
      ]
     },
     "execution_count": 6,
     "metadata": {},
     "output_type": "execute_result"
    }
   ],
   "source": [
    "df.sample()"
   ]
  },
  {
   "cell_type": "code",
   "execution_count": 7,
   "metadata": {},
   "outputs": [],
   "source": [
    "def reorder(X):\n",
    "    columns = ['Processor', 'RAM', 'Battery', 'Display', 'Camera', 'Memory', 'OperatingSystem']\n",
    "    X2 = X.copy()\n",
    "    X2['Processor'] = np.nan\n",
    "    for col in columns:\n",
    "        if 'Processor' in str(X[col]) or 'GHz' in str(X[col]) or 'MHz' in str(X[col]):\n",
    "            X2['Processor'] = X[col]\n",
    "            break\n",
    "\n",
    "    X2['RAM'] = np.nan\n",
    "    for col in columns:\n",
    "        if 'RAM' in str(X[col]):\n",
    "            X2['RAM'] = X[col]\n",
    "            break\n",
    "\n",
    "    X2['Battery'] = np.nan\n",
    "    for col in columns:\n",
    "        if 'mAh' in str(X[col]):\n",
    "            X2['Battery'] = X[col]\n",
    "            break\n",
    "\n",
    "    X2['Display'] = np.nan\n",
    "    for col in columns:\n",
    "        if 'Display' in str(X[col]) or 'inches' in str(X[col]):\n",
    "            X2['Display'] = X[col]\n",
    "            break\n",
    "    \n",
    "    X2['Camera'] = np.nan\n",
    "    for col in columns:\n",
    "        if 'Camera' in str(X[col]):\n",
    "            X2['Camera'] = X[col]\n",
    "            break\n",
    "\n",
    "    X2['Memory'] = np.nan\n",
    "    for col in columns:\n",
    "        if 'Memory Card' in str(X[col]):\n",
    "            X2['Memory'] = X[col]\n",
    "            break\n",
    "    \n",
    "    X2['OperatingSystem'] = np.nan\n",
    "    for col in columns:\n",
    "        if 'Android' in str(X[col]):\n",
    "            X2['OperatingSystem'] = X[col]\n",
    "            break\n",
    "        if 'iOS' in str(X[col]):\n",
    "            X2['OperatingSystem'] = X[col]\n",
    "            break\n",
    "        if 'Mocor' in str(X[col]):\n",
    "            X2['OperatingSystem'] = X[col]\n",
    "            break\n",
    "        if 'Symbian' in str(X[col]):\n",
    "            X2['OperatingSystem'] = X[col]\n",
    "            break\n",
    "        if 'Blackberry' in str(X[col]):\n",
    "            X2['OperatingSystem'] = X[col]\n",
    "            break\n",
    "        if 'KaiOS' in str(X[col]):\n",
    "            X2['OperatingSystem'] = X[col]\n",
    "            break\n",
    "        if 'Nucleus' in str(X[col]):\n",
    "            X2['OperatingSystem'] = X[col]\n",
    "            break\n",
    "         \n",
    "    \n",
    "    return X2"
   ]
  },
  {
   "cell_type": "code",
   "execution_count": 8,
   "metadata": {},
   "outputs": [
    {
     "data": {
      "text/plain": [
       "2794"
      ]
     },
     "execution_count": 8,
     "metadata": {},
     "output_type": "execute_result"
    }
   ],
   "source": [
    "df.nunique().sum()"
   ]
  },
  {
   "cell_type": "code",
   "execution_count": 9,
   "metadata": {},
   "outputs": [],
   "source": [
    "df = df.apply(reorder, axis=1)"
   ]
  },
  {
   "cell_type": "code",
   "execution_count": 10,
   "metadata": {},
   "outputs": [
    {
     "data": {
      "text/plain": [
       "2673"
      ]
     },
     "execution_count": 10,
     "metadata": {},
     "output_type": "execute_result"
    }
   ],
   "source": [
    "df.nunique().sum()"
   ]
  },
  {
   "cell_type": "code",
   "execution_count": 11,
   "metadata": {},
   "outputs": [
    {
     "data": {
      "text/html": [
       "<div>\n",
       "<style scoped>\n",
       "    .dataframe tbody tr th:only-of-type {\n",
       "        vertical-align: middle;\n",
       "    }\n",
       "\n",
       "    .dataframe tbody tr th {\n",
       "        vertical-align: top;\n",
       "    }\n",
       "\n",
       "    .dataframe thead th {\n",
       "        text-align: right;\n",
       "    }\n",
       "</style>\n",
       "<table border=\"1\" class=\"dataframe\">\n",
       "  <thead>\n",
       "    <tr style=\"text-align: right;\">\n",
       "      <th></th>\n",
       "      <th>Model</th>\n",
       "      <th>Price</th>\n",
       "      <th>Specification</th>\n",
       "      <th>Processor</th>\n",
       "      <th>RAM</th>\n",
       "      <th>Battery</th>\n",
       "      <th>Display</th>\n",
       "      <th>Camera</th>\n",
       "      <th>Memory</th>\n",
       "      <th>OperatingSystem</th>\n",
       "    </tr>\n",
       "    <tr>\n",
       "      <th>Id</th>\n",
       "      <th></th>\n",
       "      <th></th>\n",
       "      <th></th>\n",
       "      <th></th>\n",
       "      <th></th>\n",
       "      <th></th>\n",
       "      <th></th>\n",
       "      <th></th>\n",
       "      <th></th>\n",
       "      <th></th>\n",
       "    </tr>\n",
       "  </thead>\n",
       "  <tbody>\n",
       "    <tr>\n",
       "      <th>390</th>\n",
       "      <td>Infinix Smart 8 HD</td>\n",
       "      <td>₹6,298</td>\n",
       "      <td>Dual Sim, 3G, 4G, VoLTE, Wi-Fi</td>\n",
       "      <td>Unisoc T606, Octa Core, 1.6 GHz Processor</td>\n",
       "      <td>3 GB RAM, 64 GB inbuilt</td>\n",
       "      <td>5000 mAh Battery with 10W Fast Charging</td>\n",
       "      <td>6.6 inches, 720 x 1612 px, 90 Hz Display with ...</td>\n",
       "      <td>13 MP + 0.08 MP Dual Rear &amp; 8 MP Front Camera</td>\n",
       "      <td>Memory Card Supported, upto 2 TB</td>\n",
       "      <td>Android v13</td>\n",
       "    </tr>\n",
       "    <tr>\n",
       "      <th>558</th>\n",
       "      <td>Xiaomi Redmi 11 Prime (6GB RAM + 128GB)</td>\n",
       "      <td>₹8,999</td>\n",
       "      <td>Dual Sim, 3G, 4G, VoLTE, Wi-Fi, IR Blaster</td>\n",
       "      <td>Helio G99, Octa Core, 2.2 GHz Processor</td>\n",
       "      <td>6 GB RAM, 128 GB inbuilt</td>\n",
       "      <td>5000 mAh Battery with 18W Fast Charging</td>\n",
       "      <td>6.58 inches, 1080 x 2400 px, 90 Hz Display wit...</td>\n",
       "      <td>50 MP + 2 MP + 2 MP Triple Rear &amp; 8 MP Front C...</td>\n",
       "      <td>Memory Card Supported, upto 512 GB</td>\n",
       "      <td>Android v12</td>\n",
       "    </tr>\n",
       "    <tr>\n",
       "      <th>48</th>\n",
       "      <td>Realme 11x 5G</td>\n",
       "      <td>₹12,999</td>\n",
       "      <td>Dual Sim, 3G, 4G, 5G, VoLTE, Wi-Fi</td>\n",
       "      <td>Dimensity 6100 Plus, Octa Core, 2.2 GHz Processor</td>\n",
       "      <td>6 GB RAM, 128 GB inbuilt</td>\n",
       "      <td>5000 mAh Battery with 33W Fast Charging</td>\n",
       "      <td>6.72 inches, 1080 x 2400 px, 120 Hz Display wi...</td>\n",
       "      <td>64 MP + 2 MP Dual Rear &amp; 8 MP Front Camera</td>\n",
       "      <td>Memory Card Supported, upto 2 TB</td>\n",
       "      <td>Android v13</td>\n",
       "    </tr>\n",
       "  </tbody>\n",
       "</table>\n",
       "</div>"
      ],
      "text/plain": [
       "                                       Model    Price  \\\n",
       "Id                                                      \n",
       "390                       Infinix Smart 8 HD   ₹6,298   \n",
       "558  Xiaomi Redmi 11 Prime (6GB RAM + 128GB)   ₹8,999   \n",
       "48                             Realme 11x 5G  ₹12,999   \n",
       "\n",
       "                                  Specification  \\\n",
       "Id                                                \n",
       "390              Dual Sim, 3G, 4G, VoLTE, Wi-Fi   \n",
       "558  Dual Sim, 3G, 4G, VoLTE, Wi-Fi, IR Blaster   \n",
       "48           Dual Sim, 3G, 4G, 5G, VoLTE, Wi-Fi   \n",
       "\n",
       "                                             Processor  \\\n",
       "Id                                                       \n",
       "390          Unisoc T606, Octa Core, 1.6 GHz Processor   \n",
       "558            Helio G99, Octa Core, 2.2 GHz Processor   \n",
       "48   Dimensity 6100 Plus, Octa Core, 2.2 GHz Processor   \n",
       "\n",
       "                          RAM                                  Battery  \\\n",
       "Id                                                                       \n",
       "390   3 GB RAM, 64 GB inbuilt  5000 mAh Battery with 10W Fast Charging   \n",
       "558  6 GB RAM, 128 GB inbuilt  5000 mAh Battery with 18W Fast Charging   \n",
       "48   6 GB RAM, 128 GB inbuilt  5000 mAh Battery with 33W Fast Charging   \n",
       "\n",
       "                                               Display  \\\n",
       "Id                                                       \n",
       "390  6.6 inches, 720 x 1612 px, 90 Hz Display with ...   \n",
       "558  6.58 inches, 1080 x 2400 px, 90 Hz Display wit...   \n",
       "48   6.72 inches, 1080 x 2400 px, 120 Hz Display wi...   \n",
       "\n",
       "                                                Camera  \\\n",
       "Id                                                       \n",
       "390      13 MP + 0.08 MP Dual Rear & 8 MP Front Camera   \n",
       "558  50 MP + 2 MP + 2 MP Triple Rear & 8 MP Front C...   \n",
       "48          64 MP + 2 MP Dual Rear & 8 MP Front Camera   \n",
       "\n",
       "                                 Memory OperatingSystem  \n",
       "Id                                                       \n",
       "390    Memory Card Supported, upto 2 TB     Android v13  \n",
       "558  Memory Card Supported, upto 512 GB     Android v12  \n",
       "48     Memory Card Supported, upto 2 TB     Android v13  "
      ]
     },
     "execution_count": 11,
     "metadata": {},
     "output_type": "execute_result"
    }
   ],
   "source": [
    "df.sample(3)"
   ]
  },
  {
   "cell_type": "code",
   "execution_count": 12,
   "metadata": {},
   "outputs": [
    {
     "data": {
      "text/plain": [
       "Model                0\n",
       "Price                0\n",
       "Specification        0\n",
       "Processor           53\n",
       "RAM                 11\n",
       "Battery              9\n",
       "Display              0\n",
       "Camera               1\n",
       "Memory             181\n",
       "OperatingSystem    117\n",
       "dtype: int64"
      ]
     },
     "execution_count": 12,
     "metadata": {},
     "output_type": "execute_result"
    }
   ],
   "source": [
    "df.isna().sum()"
   ]
  },
  {
   "cell_type": "code",
   "execution_count": 13,
   "metadata": {},
   "outputs": [
    {
     "data": {
      "text/plain": [
       "Vendor\n",
       "SAMSUNG       145\n",
       "REALME        120\n",
       "XIAOMI        115\n",
       "VIVO           92\n",
       "OPPO           58\n",
       "MOTOROLA       57\n",
       "POCO           57\n",
       "APPLE          40\n",
       "TECNO          39\n",
       "ONEPLUS        37\n",
       "ITEL           34\n",
       "INFINIX        31\n",
       "NOKIA          31\n",
       "LAVA           25\n",
       "IQOO           22\n",
       "SNEXIAN        16\n",
       "MICROMAX       11\n",
       "IKALL          10\n",
       "GOOGLE          9\n",
       "JIO             8\n",
       "NOTHING         8\n",
       "RINGME          7\n",
       "MTR             5\n",
       "GFIVE           5\n",
       "BLACKZONE       4\n",
       "FONEME          4\n",
       "LVIX            4\n",
       "OUKITEL         3\n",
       "HONOR           3\n",
       "KARBONN         2\n",
       "DOOGEE          2\n",
       "LYF             2\n",
       "LENOVO          1\n",
       "GAMMA           1\n",
       "VOX             1\n",
       "CAUL            1\n",
       "KECHAODA        1\n",
       "HUAWEI          1\n",
       "BLACKBERRY      1\n",
       "DIZO            1\n",
       "JMAX            1\n",
       "WINGS           1\n",
       "BENCO           1\n",
       "ASUS            1\n",
       "CAT             1\n",
       "TRYTO           1\n",
       "Name: count, dtype: int64"
      ]
     },
     "execution_count": 13,
     "metadata": {},
     "output_type": "execute_result"
    }
   ],
   "source": [
    "df['Vendor'] = df.Model.apply(lambda x: x.split(' ')[0])\n",
    "df['Vendor'] = df['Vendor'].str.upper()\n",
    "df['Vendor'].value_counts()"
   ]
  },
  {
   "cell_type": "markdown",
   "metadata": {},
   "source": [
    "## Create Features From Specification Column\n",
    "### Create Sim Feature"
   ]
  },
  {
   "cell_type": "code",
   "execution_count": 14,
   "metadata": {},
   "outputs": [
    {
     "data": {
      "text/plain": [
       "Sim\n",
       "2    993\n",
       "1     24\n",
       "3      2\n",
       "4      1\n",
       "Name: count, dtype: int64"
      ]
     },
     "execution_count": 14,
     "metadata": {},
     "output_type": "execute_result"
    }
   ],
   "source": [
    "df['Sim'] = df['Specification'].str.extract(r'(Single|Dual|Triple|Quad)\\s*Sim')\n",
    "df['Sim'] = df['Sim'].map({'Single': 1, 'Dual': 2, 'Triple': 3, 'Quad': 4})\n",
    "df['Sim'].value_counts()"
   ]
  },
  {
   "cell_type": "markdown",
   "metadata": {},
   "source": [
    "### Create 3G Feature"
   ]
  },
  {
   "cell_type": "code",
   "execution_count": 15,
   "metadata": {},
   "outputs": [
    {
     "data": {
      "text/plain": [
       "3G\n",
       "1    927\n",
       "0     93\n",
       "Name: count, dtype: int64"
      ]
     },
     "execution_count": 15,
     "metadata": {},
     "output_type": "execute_result"
    }
   ],
   "source": [
    "df['3G'] = df['Specification'].str.contains('3G').astype(int)\n",
    "df['3G'].value_counts()"
   ]
  },
  {
   "cell_type": "markdown",
   "metadata": {},
   "source": [
    "### Create 4G Feature"
   ]
  },
  {
   "cell_type": "code",
   "execution_count": 16,
   "metadata": {},
   "outputs": [
    {
     "data": {
      "text/plain": [
       "4G\n",
       "1    925\n",
       "0     95\n",
       "Name: count, dtype: int64"
      ]
     },
     "execution_count": 16,
     "metadata": {},
     "output_type": "execute_result"
    }
   ],
   "source": [
    "df['4G'] = df['Specification'].str.contains('4G').astype(int)\n",
    "df['4G'].value_counts()"
   ]
  },
  {
   "cell_type": "markdown",
   "metadata": {},
   "source": [
    "### Create 5G Feature"
   ]
  },
  {
   "cell_type": "code",
   "execution_count": 17,
   "metadata": {},
   "outputs": [
    {
     "data": {
      "text/plain": [
       "5G\n",
       "0    539\n",
       "1    481\n",
       "Name: count, dtype: int64"
      ]
     },
     "execution_count": 17,
     "metadata": {},
     "output_type": "execute_result"
    }
   ],
   "source": [
    "df['5G'] = df['Specification'].str.contains('5G').astype(int)\n",
    "df['5G'].value_counts()"
   ]
  },
  {
   "cell_type": "markdown",
   "metadata": {},
   "source": [
    "### Create VoLTE Feature"
   ]
  },
  {
   "cell_type": "code",
   "execution_count": 18,
   "metadata": {},
   "outputs": [
    {
     "data": {
      "text/plain": [
       "VoLTE\n",
       "1    913\n",
       "0    107\n",
       "Name: count, dtype: int64"
      ]
     },
     "execution_count": 18,
     "metadata": {},
     "output_type": "execute_result"
    }
   ],
   "source": [
    "df['VoLTE'] = df['Specification'].str.contains('VoLTE').astype(int)\n",
    "df['VoLTE'].value_counts()"
   ]
  },
  {
   "cell_type": "markdown",
   "metadata": {},
   "source": [
    "### Create NFC Feature"
   ]
  },
  {
   "cell_type": "code",
   "execution_count": 19,
   "metadata": {},
   "outputs": [
    {
     "data": {
      "text/plain": [
       "NFC\n",
       "0    748\n",
       "1    272\n",
       "Name: count, dtype: int64"
      ]
     },
     "execution_count": 19,
     "metadata": {},
     "output_type": "execute_result"
    }
   ],
   "source": [
    "df['NFC'] = df['Specification'].str.contains('NFC').astype(int)\n",
    "df['NFC'].value_counts()"
   ]
  },
  {
   "cell_type": "markdown",
   "metadata": {},
   "source": [
    "### Create Wi-Fi Feature"
   ]
  },
  {
   "cell_type": "code",
   "execution_count": 20,
   "metadata": {},
   "outputs": [
    {
     "data": {
      "text/plain": [
       "Wi-Fi\n",
       "1    912\n",
       "0    108\n",
       "Name: count, dtype: int64"
      ]
     },
     "execution_count": 20,
     "metadata": {},
     "output_type": "execute_result"
    }
   ],
   "source": [
    "df['Wi-Fi'] = df['Specification'].str.contains('Wi-Fi').astype(int)\n",
    "df['Wi-Fi'].value_counts()"
   ]
  },
  {
   "cell_type": "markdown",
   "metadata": {},
   "source": [
    "### Create IR Feature"
   ]
  },
  {
   "cell_type": "code",
   "execution_count": 21,
   "metadata": {},
   "outputs": [
    {
     "data": {
      "text/plain": [
       "IR\n",
       "0    868\n",
       "1    152\n",
       "Name: count, dtype: int64"
      ]
     },
     "execution_count": 21,
     "metadata": {},
     "output_type": "execute_result"
    }
   ],
   "source": [
    "df['IR'] = df['Specification'].str.contains('IR Blaster').astype(int)\n",
    "df['IR'].value_counts()"
   ]
  },
  {
   "cell_type": "markdown",
   "metadata": {},
   "source": [
    "### Vo5G Feature"
   ]
  },
  {
   "cell_type": "code",
   "execution_count": 22,
   "metadata": {},
   "outputs": [
    {
     "data": {
      "text/plain": [
       "Vo5G\n",
       "0    989\n",
       "1     31\n",
       "Name: count, dtype: int64"
      ]
     },
     "execution_count": 22,
     "metadata": {},
     "output_type": "execute_result"
    }
   ],
   "source": [
    "df['Vo5G'] = df['Specification'].str.contains('Vo5G').astype(int)\n",
    "df['Vo5G'].value_counts()"
   ]
  },
  {
   "cell_type": "markdown",
   "metadata": {},
   "source": [
    "## Handling Price Column"
   ]
  },
  {
   "cell_type": "code",
   "execution_count": 23,
   "metadata": {},
   "outputs": [
    {
     "data": {
      "text/plain": [
       "Id\n",
       "277    ₹24,990\n",
       "788    ₹22,300\n",
       "151    ₹49,999\n",
       "929    ₹16,490\n",
       "749    ₹14,499\n",
       "Name: Price, dtype: object"
      ]
     },
     "execution_count": 23,
     "metadata": {},
     "output_type": "execute_result"
    }
   ],
   "source": [
    "df.Price.sample(5)"
   ]
  },
  {
   "cell_type": "code",
   "execution_count": 24,
   "metadata": {},
   "outputs": [],
   "source": [
    "df.Price = df.Price.apply(lambda price:float(price.replace('₹', '').replace(',', '')))"
   ]
  },
  {
   "cell_type": "code",
   "execution_count": 25,
   "metadata": {},
   "outputs": [
    {
     "data": {
      "text/plain": [
       "Id\n",
       "602      1700.0\n",
       "43      19711.0\n",
       "606      8295.0\n",
       "70       6499.0\n",
       "1013      889.0\n",
       "Name: Price, dtype: float64"
      ]
     },
     "execution_count": 25,
     "metadata": {},
     "output_type": "execute_result"
    }
   ],
   "source": [
    "df.Price.sample(5)"
   ]
  },
  {
   "cell_type": "markdown",
   "metadata": {},
   "source": [
    "### Drop Columns"
   ]
  },
  {
   "cell_type": "code",
   "execution_count": 26,
   "metadata": {},
   "outputs": [],
   "source": [
    "df.drop(columns=['Specification', 'Model'], inplace=True)"
   ]
  },
  {
   "cell_type": "code",
   "execution_count": 27,
   "metadata": {},
   "outputs": [
    {
     "data": {
      "text/html": [
       "<div>\n",
       "<style scoped>\n",
       "    .dataframe tbody tr th:only-of-type {\n",
       "        vertical-align: middle;\n",
       "    }\n",
       "\n",
       "    .dataframe tbody tr th {\n",
       "        vertical-align: top;\n",
       "    }\n",
       "\n",
       "    .dataframe thead th {\n",
       "        text-align: right;\n",
       "    }\n",
       "</style>\n",
       "<table border=\"1\" class=\"dataframe\">\n",
       "  <thead>\n",
       "    <tr style=\"text-align: right;\">\n",
       "      <th></th>\n",
       "      <th>Price</th>\n",
       "      <th>Processor</th>\n",
       "      <th>RAM</th>\n",
       "      <th>Battery</th>\n",
       "      <th>Display</th>\n",
       "      <th>Camera</th>\n",
       "      <th>Memory</th>\n",
       "      <th>OperatingSystem</th>\n",
       "      <th>Vendor</th>\n",
       "      <th>Sim</th>\n",
       "      <th>3G</th>\n",
       "      <th>4G</th>\n",
       "      <th>5G</th>\n",
       "      <th>VoLTE</th>\n",
       "      <th>NFC</th>\n",
       "      <th>Wi-Fi</th>\n",
       "      <th>IR</th>\n",
       "      <th>Vo5G</th>\n",
       "    </tr>\n",
       "    <tr>\n",
       "      <th>Id</th>\n",
       "      <th></th>\n",
       "      <th></th>\n",
       "      <th></th>\n",
       "      <th></th>\n",
       "      <th></th>\n",
       "      <th></th>\n",
       "      <th></th>\n",
       "      <th></th>\n",
       "      <th></th>\n",
       "      <th></th>\n",
       "      <th></th>\n",
       "      <th></th>\n",
       "      <th></th>\n",
       "      <th></th>\n",
       "      <th></th>\n",
       "      <th></th>\n",
       "      <th></th>\n",
       "      <th></th>\n",
       "    </tr>\n",
       "  </thead>\n",
       "  <tbody>\n",
       "    <tr>\n",
       "      <th>256</th>\n",
       "      <td>20898.0</td>\n",
       "      <td>Dimensity 6020, Octa Core, 2.2 GHz Processor</td>\n",
       "      <td>8 GB RAM, 256 GB inbuilt</td>\n",
       "      <td>5000 mAh Battery with 33W Fast Charging</td>\n",
       "      <td>6.43 inches, 1080 x 2400 px, 90 Hz Display wit...</td>\n",
       "      <td>64 MP + 2 MP Dual Rear &amp; 16 MP Front Camera</td>\n",
       "      <td>Memory Card Supported, upto 1 TB</td>\n",
       "      <td>Android v13</td>\n",
       "      <td>REALME</td>\n",
       "      <td>2</td>\n",
       "      <td>1</td>\n",
       "      <td>1</td>\n",
       "      <td>1</td>\n",
       "      <td>1</td>\n",
       "      <td>0</td>\n",
       "      <td>1</td>\n",
       "      <td>0</td>\n",
       "      <td>0</td>\n",
       "    </tr>\n",
       "  </tbody>\n",
       "</table>\n",
       "</div>"
      ],
      "text/plain": [
       "       Price                                     Processor  \\\n",
       "Id                                                           \n",
       "256  20898.0  Dimensity 6020, Octa Core, 2.2 GHz Processor   \n",
       "\n",
       "                          RAM                                  Battery  \\\n",
       "Id                                                                       \n",
       "256  8 GB RAM, 256 GB inbuilt  5000 mAh Battery with 33W Fast Charging   \n",
       "\n",
       "                                               Display  \\\n",
       "Id                                                       \n",
       "256  6.43 inches, 1080 x 2400 px, 90 Hz Display wit...   \n",
       "\n",
       "                                          Camera  \\\n",
       "Id                                                 \n",
       "256  64 MP + 2 MP Dual Rear & 16 MP Front Camera   \n",
       "\n",
       "                               Memory OperatingSystem  Vendor  Sim  3G  4G  \\\n",
       "Id                                                                           \n",
       "256  Memory Card Supported, upto 1 TB     Android v13  REALME    2   1   1   \n",
       "\n",
       "     5G  VoLTE  NFC  Wi-Fi  IR  Vo5G  \n",
       "Id                                    \n",
       "256   1      1    0      1   0     0  "
      ]
     },
     "execution_count": 27,
     "metadata": {},
     "output_type": "execute_result"
    }
   ],
   "source": [
    "df.sample()"
   ]
  },
  {
   "cell_type": "code",
   "execution_count": 28,
   "metadata": {},
   "outputs": [
    {
     "data": {
      "text/plain": [
       "0"
      ]
     },
     "execution_count": 28,
     "metadata": {},
     "output_type": "execute_result"
    }
   ],
   "source": [
    "df['Screen_Size'] = df['Display'].str.extract(r'(\\d+(?:\\.\\d+)?)\\s*inches')\n",
    "df['Screen_Size'].isna().sum()"
   ]
  },
  {
   "cell_type": "code",
   "execution_count": 29,
   "metadata": {},
   "outputs": [
    {
     "data": {
      "text/plain": [
       "3"
      ]
     },
     "execution_count": 29,
     "metadata": {},
     "output_type": "execute_result"
    }
   ],
   "source": [
    "# Extract width and height from the \"Display\" column\n",
    "pxs = df['Display'].str.extract(r'(\\d+)\\s*[xX]\\s*(\\d+)')\n",
    "pxs.fillna(value=0, inplace=True)\n",
    "df['px_w'] = pxs[0].astype(int)\n",
    "df['px_h'] = pxs[1].astype(int)\n",
    "\n",
    "# Compute total number of pixels\n",
    "df['Resolution'] = df['px_w'] * df['px_h']\n",
    "len(df[df['Resolution'] == 0])"
   ]
  },
  {
   "cell_type": "code",
   "execution_count": 30,
   "metadata": {},
   "outputs": [
    {
     "data": {
      "text/plain": [
       "Id\n",
       "100    Dimensity 8300 Ultra, Octa Core, 3.35 GHz Proc...\n",
       "Name: Processor, dtype: object"
      ]
     },
     "execution_count": 30,
     "metadata": {},
     "output_type": "execute_result"
    }
   ],
   "source": [
    "df.Processor.sample()"
   ]
  },
  {
   "cell_type": "code",
   "execution_count": 31,
   "metadata": {},
   "outputs": [],
   "source": [
    "import re\n",
    "# Define a function to extract processor speed and convert to MHz\n",
    "def extract_processor_speed(processor):\n",
    "    # Extract numeric value and unit using regex\n",
    "    match = re.search(r'(\\d+(\\.\\d+)?)\\s*([mMgGtT]?[hH][zZ])', str(processor))\n",
    "    if match:\n",
    "        value = float(match.group(1))  # Extract numeric value\n",
    "        unit = match.group(3).lower()   # Extract unit (MHz, GHz, etc.)\n",
    "        if unit == 'ghz':               # Convert GHz to MHz\n",
    "            value *= 1000\n",
    "        elif unit == 'thz':             # Convert THz to MHz\n",
    "            value *= 1000000\n",
    "        elif unit == 'ghz':             # Convert MHz to MHz\n",
    "            value *= 1.0\n",
    "        return int(value)               # Return processor speed in MHz\n",
    "    else:\n",
    "        return None  "
   ]
  },
  {
   "cell_type": "code",
   "execution_count": 32,
   "metadata": {},
   "outputs": [],
   "source": [
    "# Apply the function to the Processor column\n",
    "df['Processor_Speed_MHz'] = df['Processor'].apply(extract_processor_speed)"
   ]
  },
  {
   "cell_type": "code",
   "execution_count": 33,
   "metadata": {},
   "outputs": [
    {
     "data": {
      "text/html": [
       "<div>\n",
       "<style scoped>\n",
       "    .dataframe tbody tr th:only-of-type {\n",
       "        vertical-align: middle;\n",
       "    }\n",
       "\n",
       "    .dataframe tbody tr th {\n",
       "        vertical-align: top;\n",
       "    }\n",
       "\n",
       "    .dataframe thead th {\n",
       "        text-align: right;\n",
       "    }\n",
       "</style>\n",
       "<table border=\"1\" class=\"dataframe\">\n",
       "  <thead>\n",
       "    <tr style=\"text-align: right;\">\n",
       "      <th></th>\n",
       "      <th>Processor_Speed_MHz</th>\n",
       "      <th>Processor</th>\n",
       "    </tr>\n",
       "    <tr>\n",
       "      <th>Id</th>\n",
       "      <th></th>\n",
       "      <th></th>\n",
       "    </tr>\n",
       "  </thead>\n",
       "  <tbody>\n",
       "    <tr>\n",
       "      <th>95</th>\n",
       "      <td>2200.0</td>\n",
       "      <td>Snapdragon 480+, Octa Core, 2.2 GHz Processor</td>\n",
       "    </tr>\n",
       "    <tr>\n",
       "      <th>496</th>\n",
       "      <td>2000.0</td>\n",
       "      <td>Helio G88, Octa Core, 2 GHz Processor</td>\n",
       "    </tr>\n",
       "    <tr>\n",
       "      <th>336</th>\n",
       "      <td>2200.0</td>\n",
       "      <td>Helio G36, Octa Core, 2.2 GHz Processor</td>\n",
       "    </tr>\n",
       "    <tr>\n",
       "      <th>373</th>\n",
       "      <td>2000.0</td>\n",
       "      <td>Helio  G85, Octa Core, 2 GHz Processor</td>\n",
       "    </tr>\n",
       "    <tr>\n",
       "      <th>255</th>\n",
       "      <td>2400.0</td>\n",
       "      <td>Exynos 1280, Octa Core, 2.4 GHz Processor</td>\n",
       "    </tr>\n",
       "  </tbody>\n",
       "</table>\n",
       "</div>"
      ],
      "text/plain": [
       "     Processor_Speed_MHz                                      Processor\n",
       "Id                                                                     \n",
       "95                2200.0  Snapdragon 480+, Octa Core, 2.2 GHz Processor\n",
       "496               2000.0          Helio G88, Octa Core, 2 GHz Processor\n",
       "336               2200.0        Helio G36, Octa Core, 2.2 GHz Processor\n",
       "373               2000.0         Helio  G85, Octa Core, 2 GHz Processor\n",
       "255               2400.0      Exynos 1280, Octa Core, 2.4 GHz Processor"
      ]
     },
     "execution_count": 33,
     "metadata": {},
     "output_type": "execute_result"
    }
   ],
   "source": [
    "df[['Processor_Speed_MHz', 'Processor']].sample(5)"
   ]
  },
  {
   "cell_type": "code",
   "execution_count": 34,
   "metadata": {},
   "outputs": [],
   "source": [
    "# Define a function to extract RAM size and inbuilt memory size and convert to MB\n",
    "def extract_memory_size(memory):\n",
    "    # Extract RAM size and inbuilt memory size separately\n",
    "    ram_match = re.search(r'(\\d+(\\.\\d+)?)\\s*([mMgGtT]?[bB])\\s*RAM', str(memory))\n",
    "    inbuilt_match = re.search(r'(\\d+(\\.\\d+)?)\\s*([mMgGtT]?[bB])\\s*inbuilt', str(memory))\n",
    "\n",
    "    ram_size = None\n",
    "    inbuilt_size = None\n",
    "\n",
    "    # Process RAM size\n",
    "    if ram_match:\n",
    "        value = float(ram_match.group(1))  # Extract numeric value\n",
    "        unit = ram_match.group(3).lower()   # Extract unit (MB, GB, etc.)\n",
    "        if unit == 'gb':                    # Convert GB to MB\n",
    "            value *= 1024\n",
    "        elif unit == 'tb':                  # Convert TB to MB\n",
    "            value *= 1024 * 1024\n",
    "        elif unit == 'mb':                  # Convert MB to MB\n",
    "            value *= 1\n",
    "        ram_size = int(value)               # Store RAM size in MB\n",
    "\n",
    "    # Process inbuilt memory size\n",
    "    if inbuilt_match:\n",
    "        value = float(inbuilt_match.group(1))  # Extract numeric value\n",
    "        unit = inbuilt_match.group(3).lower()   # Extract unit (MB, GB, etc.)\n",
    "        if unit == 'gb':                        # Convert GB to MB\n",
    "            value *= 1024\n",
    "        elif unit == 'tb':                      # Convert TB to MB\n",
    "            value *= 1024 * 1024\n",
    "        elif unit == 'mb':                      # Convert MB to MB\n",
    "            value *= 1\n",
    "        inbuilt_size = int(value)               # Store inbuilt memory size in MB\n",
    "\n",
    "    return ram_size, inbuilt_size"
   ]
  },
  {
   "cell_type": "code",
   "execution_count": 35,
   "metadata": {},
   "outputs": [],
   "source": [
    "# Apply the function to the RAM column\n",
    "df['RAM_MB'], df['Memory_MB'] = zip(*df['RAM'].apply(extract_memory_size))"
   ]
  },
  {
   "cell_type": "code",
   "execution_count": 36,
   "metadata": {},
   "outputs": [
    {
     "data": {
      "text/html": [
       "<div>\n",
       "<style scoped>\n",
       "    .dataframe tbody tr th:only-of-type {\n",
       "        vertical-align: middle;\n",
       "    }\n",
       "\n",
       "    .dataframe tbody tr th {\n",
       "        vertical-align: top;\n",
       "    }\n",
       "\n",
       "    .dataframe thead th {\n",
       "        text-align: right;\n",
       "    }\n",
       "</style>\n",
       "<table border=\"1\" class=\"dataframe\">\n",
       "  <thead>\n",
       "    <tr style=\"text-align: right;\">\n",
       "      <th></th>\n",
       "      <th>RAM_MB</th>\n",
       "      <th>Memory_MB</th>\n",
       "      <th>RAM</th>\n",
       "    </tr>\n",
       "    <tr>\n",
       "      <th>Id</th>\n",
       "      <th></th>\n",
       "      <th></th>\n",
       "      <th></th>\n",
       "    </tr>\n",
       "  </thead>\n",
       "  <tbody>\n",
       "    <tr>\n",
       "      <th>727</th>\n",
       "      <td>8192.0</td>\n",
       "      <td>131072.0</td>\n",
       "      <td>8 GB RAM, 128 GB inbuilt</td>\n",
       "    </tr>\n",
       "    <tr>\n",
       "      <th>422</th>\n",
       "      <td>4096.0</td>\n",
       "      <td>65536.0</td>\n",
       "      <td>4 GB RAM, 64 GB inbuilt</td>\n",
       "    </tr>\n",
       "    <tr>\n",
       "      <th>409</th>\n",
       "      <td>6144.0</td>\n",
       "      <td>1048576.0</td>\n",
       "      <td>6 GB RAM, 1 TB inbuilt</td>\n",
       "    </tr>\n",
       "    <tr>\n",
       "      <th>361</th>\n",
       "      <td>8192.0</td>\n",
       "      <td>131072.0</td>\n",
       "      <td>8 GB RAM, 128 GB inbuilt</td>\n",
       "    </tr>\n",
       "    <tr>\n",
       "      <th>426</th>\n",
       "      <td>4096.0</td>\n",
       "      <td>65536.0</td>\n",
       "      <td>4 GB RAM, 64 GB inbuilt</td>\n",
       "    </tr>\n",
       "  </tbody>\n",
       "</table>\n",
       "</div>"
      ],
      "text/plain": [
       "     RAM_MB  Memory_MB                       RAM\n",
       "Id                                              \n",
       "727  8192.0   131072.0  8 GB RAM, 128 GB inbuilt\n",
       "422  4096.0    65536.0   4 GB RAM, 64 GB inbuilt\n",
       "409  6144.0  1048576.0    6 GB RAM, 1 TB inbuilt\n",
       "361  8192.0   131072.0  8 GB RAM, 128 GB inbuilt\n",
       "426  4096.0    65536.0   4 GB RAM, 64 GB inbuilt"
      ]
     },
     "execution_count": 36,
     "metadata": {},
     "output_type": "execute_result"
    }
   ],
   "source": [
    "df[['RAM_MB', 'Memory_MB', 'RAM']].sample(5)"
   ]
  },
  {
   "cell_type": "code",
   "execution_count": 37,
   "metadata": {},
   "outputs": [
    {
     "data": {
      "text/plain": [
       "9"
      ]
     },
     "execution_count": 37,
     "metadata": {},
     "output_type": "execute_result"
    }
   ],
   "source": [
    "df['BatterymAh'] = df['Battery'].str.extract(r'(\\d+(\\.\\d+)?)\\s*(mAh Battery)')[0].astype(float)\n",
    "df['BatterymAh'].isna().sum()"
   ]
  },
  {
   "cell_type": "code",
   "execution_count": 38,
   "metadata": {},
   "outputs": [
    {
     "data": {
      "text/plain": [
       "279"
      ]
     },
     "execution_count": 38,
     "metadata": {},
     "output_type": "execute_result"
    }
   ],
   "source": [
    "df['FastCharging'] = df['Battery'].str.extract(r'(\\d+(\\.\\d+)?)\\s*(W Fast Charging)')[0].astype(float)\n",
    "df['FastCharging'].isna().sum()"
   ]
  },
  {
   "cell_type": "code",
   "execution_count": 39,
   "metadata": {},
   "outputs": [
    {
     "data": {
      "text/plain": [
       "23"
      ]
     },
     "execution_count": 39,
     "metadata": {},
     "output_type": "execute_result"
    }
   ],
   "source": [
    "df['PC'] = df['Camera'].str.extract(r'(\\d+(\\.\\d+)?)\\s*(MP)')[0].astype(float)\n",
    "df['PC'].isna().sum()"
   ]
  },
  {
   "cell_type": "code",
   "execution_count": 40,
   "metadata": {},
   "outputs": [
    {
     "data": {
      "text/plain": [
       "129"
      ]
     },
     "execution_count": 40,
     "metadata": {},
     "output_type": "execute_result"
    }
   ],
   "source": [
    "df['FC'] = df['Camera'].str.extract(r'(\\d+(\\.\\d+)?)\\s*(MP Front Camera)')[0].astype(float)\n",
    "df['FC'].isna().sum()"
   ]
  },
  {
   "cell_type": "code",
   "execution_count": 41,
   "metadata": {},
   "outputs": [],
   "source": [
    "# Extract OS and version number\n",
    "df['OS'] = df['OperatingSystem'].str.extract(r'((Android|iOS|Mocor|Symbian|Blackberry|KaiOS|Nucleus)\\s*v([\\d.]+)|(.+))')[1]\n",
    "df['Version'] = df['OperatingSystem'].str.extract(r'((Android|iOS|Mocor|Symbian|Blackberry|KaiOS|Nucleus)\\s*v([\\d.]+)|(.+))')[2]\n",
    "\n",
    "# Map OS values to Android, iOS, and Other\n",
    "os_mapping = {'Android': 'Android', 'iOS': 'iOS', 'Mocor' : 'Mocor', 'Symbian' : 'Symbian', 'Blackberry' : 'Blackberry', 'KaiOS' : 'KaiOS', 'Nucleus' : 'Nucleus'}\n",
    "# df['OS'] = df['OS'].map(os_mapping).fillna('Other')"
   ]
  },
  {
   "cell_type": "code",
   "execution_count": 42,
   "metadata": {},
   "outputs": [
    {
     "data": {
      "text/plain": [
       "OS\n",
       "Android    852\n",
       "iOS         40\n",
       "Symbian      5\n",
       "KaiOS        1\n",
       "Name: count, dtype: int64"
      ]
     },
     "execution_count": 42,
     "metadata": {},
     "output_type": "execute_result"
    }
   ],
   "source": [
    "df['OS'].value_counts()"
   ]
  },
  {
   "cell_type": "code",
   "execution_count": 43,
   "metadata": {},
   "outputs": [
    {
     "data": {
      "text/plain": [
       "Id\n",
       "46     129999.0\n",
       "749     14499.0\n",
       "715    110000.0\n",
       "359     84999.0\n",
       "978      4990.0\n",
       "Name: Price, dtype: float64"
      ]
     },
     "execution_count": 43,
     "metadata": {},
     "output_type": "execute_result"
    }
   ],
   "source": [
    "df.Price.sample(5)"
   ]
  },
  {
   "cell_type": "code",
   "execution_count": 44,
   "metadata": {},
   "outputs": [
    {
     "name": "stdout",
     "output_type": "stream",
     "text": [
      "<class 'pandas.core.frame.DataFrame'>\n",
      "Index: 1020 entries, 0 to 1019\n",
      "Data columns (total 31 columns):\n",
      " #   Column               Non-Null Count  Dtype  \n",
      "---  ------               --------------  -----  \n",
      " 0   Price                1020 non-null   float64\n",
      " 1   Processor            967 non-null    object \n",
      " 2   RAM                  1009 non-null   object \n",
      " 3   Battery              1011 non-null   object \n",
      " 4   Display              1020 non-null   object \n",
      " 5   Camera               1019 non-null   object \n",
      " 6   Memory               839 non-null    object \n",
      " 7   OperatingSystem      903 non-null    object \n",
      " 8   Vendor               1020 non-null   object \n",
      " 9   Sim                  1020 non-null   int64  \n",
      " 10  3G                   1020 non-null   int32  \n",
      " 11  4G                   1020 non-null   int32  \n",
      " 12  5G                   1020 non-null   int32  \n",
      " 13  VoLTE                1020 non-null   int32  \n",
      " 14  NFC                  1020 non-null   int32  \n",
      " 15  Wi-Fi                1020 non-null   int32  \n",
      " 16  IR                   1020 non-null   int32  \n",
      " 17  Vo5G                 1020 non-null   int32  \n",
      " 18  Screen_Size          1020 non-null   object \n",
      " 19  px_w                 1020 non-null   int32  \n",
      " 20  px_h                 1020 non-null   int32  \n",
      " 21  Resolution           1020 non-null   int32  \n",
      " 22  Processor_Speed_MHz  951 non-null    float64\n",
      " 23  RAM_MB               1009 non-null   float64\n",
      " 24  Memory_MB            1007 non-null   float64\n",
      " 25  BatterymAh           1011 non-null   float64\n",
      " 26  FastCharging         741 non-null    float64\n",
      " 27  PC                   997 non-null    float64\n",
      " 28  FC                   891 non-null    float64\n",
      " 29  OS                   898 non-null    object \n",
      " 30  Version              898 non-null    object \n",
      "dtypes: float64(8), int32(11), int64(1), object(11)\n",
      "memory usage: 211.2+ KB\n"
     ]
    }
   ],
   "source": [
    "df.info()"
   ]
  },
  {
   "cell_type": "code",
   "execution_count": 45,
   "metadata": {},
   "outputs": [
    {
     "data": {
      "text/plain": [
       "Index(['Price', 'Processor', 'RAM', 'Battery', 'Display', 'Camera', 'Memory',\n",
       "       'OperatingSystem', 'Vendor', 'Sim', '3G', '4G', '5G', 'VoLTE', 'NFC',\n",
       "       'Wi-Fi', 'IR', 'Vo5G', 'Screen_Size', 'px_w', 'px_h', 'Resolution',\n",
       "       'Processor_Speed_MHz', 'RAM_MB', 'Memory_MB', 'BatterymAh',\n",
       "       'FastCharging', 'PC', 'FC', 'OS', 'Version'],\n",
       "      dtype='object')"
      ]
     },
     "execution_count": 45,
     "metadata": {},
     "output_type": "execute_result"
    }
   ],
   "source": [
    "df.columns"
   ]
  },
  {
   "cell_type": "code",
   "execution_count": 46,
   "metadata": {},
   "outputs": [],
   "source": [
    "df.drop(columns=['Processor', 'RAM', 'Battery', 'Display', 'Camera', 'Memory', 'OperatingSystem'], inplace=True)"
   ]
  },
  {
   "cell_type": "code",
   "execution_count": 47,
   "metadata": {},
   "outputs": [
    {
     "data": {
      "text/plain": [
       "Index(['Price', 'Vendor', 'Sim', '3G', '4G', '5G', 'VoLTE', 'NFC', 'Wi-Fi',\n",
       "       'IR', 'Vo5G', 'Screen_Size', 'px_w', 'px_h', 'Resolution',\n",
       "       'Processor_Speed_MHz', 'RAM_MB', 'Memory_MB', 'BatterymAh',\n",
       "       'FastCharging', 'PC', 'FC', 'OS', 'Version'],\n",
       "      dtype='object')"
      ]
     },
     "execution_count": 47,
     "metadata": {},
     "output_type": "execute_result"
    }
   ],
   "source": [
    "df.columns"
   ]
  },
  {
   "cell_type": "code",
   "execution_count": 48,
   "metadata": {},
   "outputs": [
    {
     "data": {
      "text/plain": [
       "Processor_Speed_MHz     69\n",
       "RAM_MB                  11\n",
       "Memory_MB               13\n",
       "BatterymAh               9\n",
       "FastCharging           279\n",
       "PC                      23\n",
       "FC                     129\n",
       "OS                     122\n",
       "Version                122\n",
       "dtype: int64"
      ]
     },
     "execution_count": 48,
     "metadata": {},
     "output_type": "execute_result"
    }
   ],
   "source": [
    "df.isna().sum()[df.isna().sum() > 0]"
   ]
  },
  {
   "cell_type": "code",
   "execution_count": 49,
   "metadata": {},
   "outputs": [],
   "source": [
    "from sklearn.pipeline import Pipeline\n",
    "from sklearn.impute import SimpleImputer\n",
    "from sklearn.compose import ColumnTransformer\n",
    "from sklearn.preprocessing import StandardScaler, OneHotEncoder, FunctionTransformer\n",
    "from sklearn.base import BaseEstimator, TransformerMixin\n",
    "import category_encoders as ce"
   ]
  },
  {
   "cell_type": "code",
   "execution_count": 50,
   "metadata": {},
   "outputs": [],
   "source": [
    "# # Define the pipeline\n",
    "# pipeline = Pipeline([\n",
    "#     ('transformer', ColumnTransformer(transformers=[\n",
    "#         ('mean_imputer', SimpleImputer(strategy='mean'), ['RAM_MB', 'Memory_MB', 'Processor_Speed_MHz']),\n",
    "#         ('most_frequent_imputer', SimpleImputer(strategy='most_frequent'), ['BatterymAh']),\n",
    "#         ('constant_imputer1', SimpleImputer(strategy='constant', fill_value=10), ['FastCharging']),\n",
    "#         ('constant_imputer2', SimpleImputer(strategy='constant', fill_value=0), ['PC', 'FC']),\n",
    "#         ('constant_imputer3', SimpleImputer(strategy='constant', fill_value='Other'), ['OS']),\n",
    "#         ('median_imputer', SimpleImputer(strategy='most_frequent'), ['Version']),\n",
    "#         # ('target_encoder', ce.TargetEncoder(), ['Vendor']),\n",
    "#         ('one_hot_encoder', OneHotEncoder(), ['OS']),\n",
    "#         ('standard_scaler', StandardScaler(), ['RAM_MB', 'Memory_MB'])\n",
    "#     ], remainder='passthrough')),\n",
    "# ])"
   ]
  },
  {
   "cell_type": "code",
   "execution_count": 51,
   "metadata": {},
   "outputs": [
    {
     "data": {
      "text/plain": [
       "Index(['Price', 'Vendor', 'Sim', '3G', '4G', '5G', 'VoLTE', 'NFC', 'Wi-Fi',\n",
       "       'IR', 'Vo5G', 'Screen_Size', 'px_w', 'px_h', 'Resolution',\n",
       "       'Processor_Speed_MHz', 'RAM_MB', 'Memory_MB', 'BatterymAh',\n",
       "       'FastCharging', 'PC', 'FC', 'OS', 'Version'],\n",
       "      dtype='object')"
      ]
     },
     "execution_count": 51,
     "metadata": {},
     "output_type": "execute_result"
    }
   ],
   "source": [
    "df.columns"
   ]
  },
  {
   "cell_type": "code",
   "execution_count": 52,
   "metadata": {},
   "outputs": [
    {
     "name": "stdout",
     "output_type": "stream",
     "text": [
      "Missing Values in Variables:\n"
     ]
    },
    {
     "data": {
      "text/plain": [
       "Processor_Speed_MHz     69\n",
       "RAM_MB                  11\n",
       "Memory_MB               13\n",
       "BatterymAh               9\n",
       "FastCharging           279\n",
       "PC                      23\n",
       "FC                     129\n",
       "OS                     122\n",
       "Version                122\n",
       "dtype: int64"
      ]
     },
     "execution_count": 52,
     "metadata": {},
     "output_type": "execute_result"
    }
   ],
   "source": [
    "print('Missing Values in Variables:')\n",
    "df.isna().sum()[df.isna().sum() > 0]"
   ]
  },
  {
   "cell_type": "code",
   "execution_count": 53,
   "metadata": {},
   "outputs": [
    {
     "data": {
      "text/plain": [
       "0"
      ]
     },
     "execution_count": 53,
     "metadata": {},
     "output_type": "execute_result"
    }
   ],
   "source": [
    "df['Processor_Speed_MHz'] = SimpleImputer(strategy='median').fit_transform(df[['Processor_Speed_MHz']])\n",
    "df['Processor_Speed_MHz'].isna().sum()"
   ]
  },
  {
   "cell_type": "code",
   "execution_count": 54,
   "metadata": {},
   "outputs": [
    {
     "data": {
      "text/plain": [
       "0"
      ]
     },
     "execution_count": 54,
     "metadata": {},
     "output_type": "execute_result"
    }
   ],
   "source": [
    "df['RAM_MB'] = SimpleImputer(strategy='median').fit_transform(df[['RAM_MB']])\n",
    "df['RAM_MB'].isna().sum()"
   ]
  },
  {
   "cell_type": "code",
   "execution_count": 55,
   "metadata": {},
   "outputs": [
    {
     "data": {
      "text/plain": [
       "0"
      ]
     },
     "execution_count": 55,
     "metadata": {},
     "output_type": "execute_result"
    }
   ],
   "source": [
    "df['Memory_MB'] = SimpleImputer(strategy='median').fit_transform(df[['Memory_MB']])\n",
    "df['Memory_MB'].isna().sum()"
   ]
  },
  {
   "cell_type": "code",
   "execution_count": 56,
   "metadata": {},
   "outputs": [
    {
     "data": {
      "text/plain": [
       "0"
      ]
     },
     "execution_count": 56,
     "metadata": {},
     "output_type": "execute_result"
    }
   ],
   "source": [
    "df['BatterymAh'] = SimpleImputer(strategy='median').fit_transform(df[['BatterymAh']])\n",
    "df['BatterymAh'].isna().sum()"
   ]
  },
  {
   "cell_type": "code",
   "execution_count": 57,
   "metadata": {},
   "outputs": [
    {
     "data": {
      "text/plain": [
       "0"
      ]
     },
     "execution_count": 57,
     "metadata": {},
     "output_type": "execute_result"
    }
   ],
   "source": [
    "df['FastCharging'] = SimpleImputer(strategy='constant', fill_value=10).fit_transform(df[['FastCharging']])\n",
    "df['FastCharging'].isna().sum()"
   ]
  },
  {
   "cell_type": "code",
   "execution_count": 58,
   "metadata": {},
   "outputs": [
    {
     "data": {
      "text/plain": [
       "0"
      ]
     },
     "execution_count": 58,
     "metadata": {},
     "output_type": "execute_result"
    }
   ],
   "source": [
    "df['FC'] = SimpleImputer(strategy='constant', fill_value=0).fit_transform(df[['FC']])\n",
    "df['FC'].isna().sum()"
   ]
  },
  {
   "cell_type": "code",
   "execution_count": 59,
   "metadata": {},
   "outputs": [
    {
     "data": {
      "text/plain": [
       "0"
      ]
     },
     "execution_count": 59,
     "metadata": {},
     "output_type": "execute_result"
    }
   ],
   "source": [
    "df['PC'] = df.groupby('Memory_MB')['PC'].transform(lambda x: x.fillna(x.mode().iloc[0]) if not x.mode().empty else x)\n",
    "df['PC'].isna().sum()"
   ]
  },
  {
   "cell_type": "code",
   "execution_count": 60,
   "metadata": {},
   "outputs": [
    {
     "data": {
      "text/plain": [
       "Id\n",
       "0        14\n",
       "1        14\n",
       "2        14\n",
       "3        14\n",
       "4        14\n",
       "       ... \n",
       "1015    NaN\n",
       "1016    NaN\n",
       "1017    9.3\n",
       "1018    NaN\n",
       "1019    NaN\n",
       "Name: Version, Length: 1020, dtype: object"
      ]
     },
     "execution_count": 60,
     "metadata": {},
     "output_type": "execute_result"
    }
   ],
   "source": [
    "df.Version"
   ]
  },
  {
   "cell_type": "code",
   "execution_count": 61,
   "metadata": {},
   "outputs": [
    {
     "data": {
      "text/plain": [
       "0"
      ]
     },
     "execution_count": 61,
     "metadata": {},
     "output_type": "execute_result"
    }
   ],
   "source": [
    "df['OS'] = df.OS.fillna(value='Other')\n",
    "df['OS'].isna().sum()"
   ]
  },
  {
   "cell_type": "code",
   "execution_count": 62,
   "metadata": {},
   "outputs": [
    {
     "data": {
      "text/plain": [
       "122"
      ]
     },
     "execution_count": 62,
     "metadata": {},
     "output_type": "execute_result"
    }
   ],
   "source": [
    "df['Version'] = df.groupby('OS')['Version'].transform(lambda x: x.fillna(x.mode().iloc[0]) if not x.mode().empty else x)\n",
    "df['Version'].isna().sum()"
   ]
  },
  {
   "cell_type": "code",
   "execution_count": 63,
   "metadata": {},
   "outputs": [
    {
     "data": {
      "text/plain": [
       "0"
      ]
     },
     "execution_count": 63,
     "metadata": {},
     "output_type": "execute_result"
    }
   ],
   "source": [
    "df['Version'] = df.Version.fillna(value=1)\n",
    "df['Version'].isna().sum()"
   ]
  },
  {
   "cell_type": "code",
   "execution_count": 64,
   "metadata": {},
   "outputs": [
    {
     "data": {
      "text/plain": [
       "Price                  0\n",
       "Vendor                 0\n",
       "Sim                    0\n",
       "3G                     0\n",
       "4G                     0\n",
       "5G                     0\n",
       "VoLTE                  0\n",
       "NFC                    0\n",
       "Wi-Fi                  0\n",
       "IR                     0\n",
       "Vo5G                   0\n",
       "Screen_Size            0\n",
       "px_w                   0\n",
       "px_h                   0\n",
       "Resolution             0\n",
       "Processor_Speed_MHz    0\n",
       "RAM_MB                 0\n",
       "Memory_MB              0\n",
       "BatterymAh             0\n",
       "FastCharging           0\n",
       "PC                     0\n",
       "FC                     0\n",
       "OS                     0\n",
       "Version                0\n",
       "dtype: int64"
      ]
     },
     "execution_count": 64,
     "metadata": {},
     "output_type": "execute_result"
    }
   ],
   "source": [
    "df.isna().sum()"
   ]
  },
  {
   "cell_type": "code",
   "execution_count": 65,
   "metadata": {},
   "outputs": [
    {
     "data": {
      "text/plain": [
       "Index(['Price', 'Vendor', 'Sim', '3G', '4G', '5G', 'VoLTE', 'NFC', 'Wi-Fi',\n",
       "       'IR', 'Vo5G', 'Screen_Size', 'px_w', 'px_h', 'Resolution',\n",
       "       'Processor_Speed_MHz', 'RAM_MB', 'Memory_MB', 'BatterymAh',\n",
       "       'FastCharging', 'PC', 'FC', 'OS', 'Version'],\n",
       "      dtype='object')"
      ]
     },
     "execution_count": 65,
     "metadata": {},
     "output_type": "execute_result"
    }
   ],
   "source": [
    "df.columns"
   ]
  },
  {
   "cell_type": "code",
   "execution_count": 66,
   "metadata": {},
   "outputs": [
    {
     "data": {
      "text/html": [
       "<div>\n",
       "<style scoped>\n",
       "    .dataframe tbody tr th:only-of-type {\n",
       "        vertical-align: middle;\n",
       "    }\n",
       "\n",
       "    .dataframe tbody tr th {\n",
       "        vertical-align: top;\n",
       "    }\n",
       "\n",
       "    .dataframe thead th {\n",
       "        text-align: right;\n",
       "    }\n",
       "</style>\n",
       "<table border=\"1\" class=\"dataframe\">\n",
       "  <thead>\n",
       "    <tr style=\"text-align: right;\">\n",
       "      <th></th>\n",
       "      <th>Vendor</th>\n",
       "      <th>Screen_Size</th>\n",
       "      <th>OS</th>\n",
       "      <th>Version</th>\n",
       "    </tr>\n",
       "    <tr>\n",
       "      <th>Id</th>\n",
       "      <th></th>\n",
       "      <th></th>\n",
       "      <th></th>\n",
       "      <th></th>\n",
       "    </tr>\n",
       "  </thead>\n",
       "  <tbody>\n",
       "    <tr>\n",
       "      <th>173</th>\n",
       "      <td>ONEPLUS</td>\n",
       "      <td>6.74</td>\n",
       "      <td>Android</td>\n",
       "      <td>13</td>\n",
       "    </tr>\n",
       "    <tr>\n",
       "      <th>618</th>\n",
       "      <td>ONEPLUS</td>\n",
       "      <td>6.7</td>\n",
       "      <td>Android</td>\n",
       "      <td>13</td>\n",
       "    </tr>\n",
       "    <tr>\n",
       "      <th>227</th>\n",
       "      <td>SAMSUNG</td>\n",
       "      <td>6.5</td>\n",
       "      <td>Android</td>\n",
       "      <td>14</td>\n",
       "    </tr>\n",
       "    <tr>\n",
       "      <th>282</th>\n",
       "      <td>INFINIX</td>\n",
       "      <td>6.6</td>\n",
       "      <td>Android</td>\n",
       "      <td>13</td>\n",
       "    </tr>\n",
       "    <tr>\n",
       "      <th>626</th>\n",
       "      <td>OPPO</td>\n",
       "      <td>6.43</td>\n",
       "      <td>Android</td>\n",
       "      <td>12</td>\n",
       "    </tr>\n",
       "  </tbody>\n",
       "</table>\n",
       "</div>"
      ],
      "text/plain": [
       "      Vendor Screen_Size       OS Version\n",
       "Id                                       \n",
       "173  ONEPLUS        6.74  Android      13\n",
       "618  ONEPLUS         6.7  Android      13\n",
       "227  SAMSUNG         6.5  Android      14\n",
       "282  INFINIX         6.6  Android      13\n",
       "626     OPPO        6.43  Android      12"
      ]
     },
     "execution_count": 66,
     "metadata": {},
     "output_type": "execute_result"
    }
   ],
   "source": [
    "df.select_dtypes(include=['category', 'object']).sample(5)"
   ]
  },
  {
   "cell_type": "code",
   "execution_count": 67,
   "metadata": {},
   "outputs": [],
   "source": [
    "df.Screen_Size = df.Screen_Size.astype('float')"
   ]
  },
  {
   "cell_type": "code",
   "execution_count": 77,
   "metadata": {},
   "outputs": [
    {
     "data": {
      "text/html": [
       "<div>\n",
       "<style scoped>\n",
       "    .dataframe tbody tr th:only-of-type {\n",
       "        vertical-align: middle;\n",
       "    }\n",
       "\n",
       "    .dataframe tbody tr th {\n",
       "        vertical-align: top;\n",
       "    }\n",
       "\n",
       "    .dataframe thead th {\n",
       "        text-align: right;\n",
       "    }\n",
       "</style>\n",
       "<table border=\"1\" class=\"dataframe\">\n",
       "  <thead>\n",
       "    <tr style=\"text-align: right;\">\n",
       "      <th></th>\n",
       "      <th>Vendor</th>\n",
       "      <th>OS</th>\n",
       "      <th>Version</th>\n",
       "    </tr>\n",
       "    <tr>\n",
       "      <th>Id</th>\n",
       "      <th></th>\n",
       "      <th></th>\n",
       "      <th></th>\n",
       "    </tr>\n",
       "  </thead>\n",
       "  <tbody>\n",
       "    <tr>\n",
       "      <th>395</th>\n",
       "      <td>ITEL</td>\n",
       "      <td>Android</td>\n",
       "      <td>13</td>\n",
       "    </tr>\n",
       "    <tr>\n",
       "      <th>471</th>\n",
       "      <td>MOTOROLA</td>\n",
       "      <td>Android</td>\n",
       "      <td>12</td>\n",
       "    </tr>\n",
       "    <tr>\n",
       "      <th>771</th>\n",
       "      <td>POCO</td>\n",
       "      <td>Android</td>\n",
       "      <td>10</td>\n",
       "    </tr>\n",
       "    <tr>\n",
       "      <th>587</th>\n",
       "      <td>XIAOMI</td>\n",
       "      <td>Android</td>\n",
       "      <td>11</td>\n",
       "    </tr>\n",
       "    <tr>\n",
       "      <th>538</th>\n",
       "      <td>APPLE</td>\n",
       "      <td>iOS</td>\n",
       "      <td>13</td>\n",
       "    </tr>\n",
       "  </tbody>\n",
       "</table>\n",
       "</div>"
      ],
      "text/plain": [
       "       Vendor       OS Version\n",
       "Id                            \n",
       "395      ITEL  Android      13\n",
       "471  MOTOROLA  Android      12\n",
       "771      POCO  Android      10\n",
       "587    XIAOMI  Android      11\n",
       "538     APPLE      iOS      13"
      ]
     },
     "execution_count": 77,
     "metadata": {},
     "output_type": "execute_result"
    }
   ],
   "source": [
    "df.select_dtypes(include=['category', 'object']).sample(5)"
   ]
  },
  {
   "cell_type": "code",
   "execution_count": 78,
   "metadata": {},
   "outputs": [],
   "source": [
    "df['Vendor'] = df['Vendor'].map(df['Vendor'].value_counts())"
   ]
  },
  {
   "cell_type": "code",
   "execution_count": 79,
   "metadata": {},
   "outputs": [],
   "source": [
    "df = pd.get_dummies(df, columns=['OS'], prefix='OS')"
   ]
  },
  {
   "cell_type": "code",
   "execution_count": 81,
   "metadata": {},
   "outputs": [
    {
     "data": {
      "text/plain": [
       "Index(['Price', 'Vendor', 'Sim', '3G', '4G', '5G', 'VoLTE', 'NFC', 'Wi-Fi',\n",
       "       'IR', 'Vo5G', 'Screen_Size', 'px_w', 'px_h', 'Resolution',\n",
       "       'Processor_Speed_MHz', 'RAM_MB', 'Memory_MB', 'BatterymAh',\n",
       "       'FastCharging', 'PC', 'FC', 'Version', 'OS_Android', 'OS_KaiOS',\n",
       "       'OS_Other', 'OS_Symbian', 'OS_iOS'],\n",
       "      dtype='object')"
      ]
     },
     "execution_count": 81,
     "metadata": {},
     "output_type": "execute_result"
    }
   ],
   "source": [
    "df.columns"
   ]
  },
  {
   "cell_type": "code",
   "execution_count": 82,
   "metadata": {},
   "outputs": [],
   "source": [
    "df['Version'] = df['Version'].str.extract(r'^(\\d+)')\n",
    "df['Version'] = df['Version'].astype(float).astype(pd.Int32Dtype())"
   ]
  },
  {
   "cell_type": "code",
   "execution_count": 85,
   "metadata": {},
   "outputs": [],
   "source": [
    "df.Version = df.Version.fillna(value=1)"
   ]
  },
  {
   "cell_type": "code",
   "execution_count": 86,
   "metadata": {},
   "outputs": [
    {
     "data": {
      "text/html": [
       "<div>\n",
       "<style scoped>\n",
       "    .dataframe tbody tr th:only-of-type {\n",
       "        vertical-align: middle;\n",
       "    }\n",
       "\n",
       "    .dataframe tbody tr th {\n",
       "        vertical-align: top;\n",
       "    }\n",
       "\n",
       "    .dataframe thead th {\n",
       "        text-align: right;\n",
       "    }\n",
       "</style>\n",
       "<table border=\"1\" class=\"dataframe\">\n",
       "  <thead>\n",
       "    <tr style=\"text-align: right;\">\n",
       "      <th></th>\n",
       "    </tr>\n",
       "    <tr>\n",
       "      <th>Id</th>\n",
       "    </tr>\n",
       "  </thead>\n",
       "  <tbody>\n",
       "    <tr>\n",
       "      <th>132</th>\n",
       "    </tr>\n",
       "    <tr>\n",
       "      <th>332</th>\n",
       "    </tr>\n",
       "    <tr>\n",
       "      <th>771</th>\n",
       "    </tr>\n",
       "    <tr>\n",
       "      <th>272</th>\n",
       "    </tr>\n",
       "    <tr>\n",
       "      <th>720</th>\n",
       "    </tr>\n",
       "  </tbody>\n",
       "</table>\n",
       "</div>"
      ],
      "text/plain": [
       "Empty DataFrame\n",
       "Columns: []\n",
       "Index: [132, 332, 771, 272, 720]"
      ]
     },
     "execution_count": 86,
     "metadata": {},
     "output_type": "execute_result"
    }
   ],
   "source": [
    "df.select_dtypes(include=['category', 'object']).sample(5)"
   ]
  },
  {
   "cell_type": "code",
   "execution_count": 87,
   "metadata": {},
   "outputs": [
    {
     "data": {
      "text/plain": [
       "Price                  0\n",
       "Vendor                 0\n",
       "Sim                    0\n",
       "3G                     0\n",
       "4G                     0\n",
       "5G                     0\n",
       "VoLTE                  0\n",
       "NFC                    0\n",
       "Wi-Fi                  0\n",
       "IR                     0\n",
       "Vo5G                   0\n",
       "Screen_Size            0\n",
       "px_w                   0\n",
       "px_h                   0\n",
       "Resolution             0\n",
       "Processor_Speed_MHz    0\n",
       "RAM_MB                 0\n",
       "Memory_MB              0\n",
       "BatterymAh             0\n",
       "FastCharging           0\n",
       "PC                     0\n",
       "FC                     0\n",
       "Version                0\n",
       "OS_Android             0\n",
       "OS_KaiOS               0\n",
       "OS_Other               0\n",
       "OS_Symbian             0\n",
       "OS_iOS                 0\n",
       "dtype: int64"
      ]
     },
     "execution_count": 87,
     "metadata": {},
     "output_type": "execute_result"
    }
   ],
   "source": [
    "df.isna().sum()"
   ]
  },
  {
   "cell_type": "code",
   "execution_count": null,
   "metadata": {},
   "outputs": [],
   "source": []
  }
 ],
 "metadata": {
  "kernelspec": {
   "display_name": "Python 3",
   "language": "python",
   "name": "python3"
  },
  "language_info": {
   "codemirror_mode": {
    "name": "ipython",
    "version": 3
   },
   "file_extension": ".py",
   "mimetype": "text/x-python",
   "name": "python",
   "nbconvert_exporter": "python",
   "pygments_lexer": "ipython3",
   "version": "3.11.5"
  }
 },
 "nbformat": 4,
 "nbformat_minor": 2
}
